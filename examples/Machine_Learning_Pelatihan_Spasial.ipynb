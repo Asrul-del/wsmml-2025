{
 "cells": [
  {
   "cell_type": "code",
   "execution_count": 3,
   "id": "T4XdseMpxlrj",
   "metadata": {
    "id": "T4XdseMpxlrj"
   },
   "outputs": [],
   "source": [
    "import pandas as pd\n",
    "import numpy as np\n",
    "import matplotlib.pyplot as plt\n",
    "import seaborn as sns\n",
    "import numpy as np\n",
    "import pandas as pd\n",
    "import seaborn as sns\n",
    "import matplotlib.pyplot as plt\n",
    "import warnings\n",
    "warnings.filterwarnings(\"ignore\")\n",
    "from statsmodels.tools.sm_exceptions import ConvergenceWarning\n",
    "warnings.simplefilter(\"ignore\", ConvergenceWarning)\n",
    "\n",
    "from sklearn.model_selection import train_test_split\n",
    "from sklearn.preprocessing import StandardScaler\n",
    "from sklearn.preprocessing import MinMaxScaler\n",
    "from sklearn.ensemble import RandomForestRegressor\n",
    "from xgboost import XGBRegressor\n",
    "from sklearn.metrics import mean_absolute_error, mean_squared_error, r2_score\n",
    "from matplotlib.patches import Patch"
   ]
  },
  {
   "cell_type": "markdown",
   "id": "SG84CKwMrYgx",
   "metadata": {
    "id": "SG84CKwMrYgx"
   },
   "source": [
    "#**1. DATA UNDERSTANDING**"
   ]
  },
  {
   "cell_type": "markdown",
   "id": "838bZQDrZtwx",
   "metadata": {
    "id": "838bZQDrZtwx"
   },
   "source": [
    "**Keterangan Variabel**\n",
    "\n",
    "* Y  : Rata-rata pengeluaran untuk rokok dan tembakau per minggu (Ribu rupiah)\n",
    "* X1 : Persentase Pengeluaran per Kapita Ribu rupiah (%)\n",
    "* X2 : PDRB perkapita (Ribu rupiah)\n",
    "* X3 : Jumlah Penduduk (Ribu jiwa)\n",
    "* X4 : Jumlah Penduduk Miskin (Ribu rupiah)\n",
    "* X5 : Rata-Rata Lama Sekolah (Tahun)\n"
   ]
  },
  {
   "cell_type": "code",
   "execution_count": 4,
   "id": "ad8068db",
   "metadata": {
    "colab": {
     "base_uri": "https://localhost:8080/",
     "height": 424
    },
    "id": "ad8068db",
    "outputId": "b900423b-85f1-48fc-bd0e-6b77a179c9df"
   },
   "outputs": [
    {
     "data": {
      "text/html": [
       "<div>\n",
       "<style scoped>\n",
       "    .dataframe tbody tr th:only-of-type {\n",
       "        vertical-align: middle;\n",
       "    }\n",
       "\n",
       "    .dataframe tbody tr th {\n",
       "        vertical-align: top;\n",
       "    }\n",
       "\n",
       "    .dataframe thead th {\n",
       "        text-align: right;\n",
       "    }\n",
       "</style>\n",
       "<table border=\"1\" class=\"dataframe\">\n",
       "  <thead>\n",
       "    <tr style=\"text-align: right;\">\n",
       "      <th></th>\n",
       "      <th>Tahun</th>\n",
       "      <th>Provinsi</th>\n",
       "      <th>Kabupaten/Kota</th>\n",
       "      <th>LAT</th>\n",
       "      <th>LONG</th>\n",
       "      <th>Y</th>\n",
       "      <th>X1</th>\n",
       "      <th>X2</th>\n",
       "      <th>X3</th>\n",
       "      <th>X4</th>\n",
       "      <th>X5</th>\n",
       "    </tr>\n",
       "  </thead>\n",
       "  <tbody>\n",
       "    <tr>\n",
       "      <th>0</th>\n",
       "      <td>2024</td>\n",
       "      <td>Banten</td>\n",
       "      <td>Pandeglang</td>\n",
       "      <td>-6.316667</td>\n",
       "      <td>106.116667</td>\n",
       "      <td>23547.00</td>\n",
       "      <td>60.87</td>\n",
       "      <td>27078</td>\n",
       "      <td>1326.0</td>\n",
       "      <td>113.45</td>\n",
       "      <td>7.65</td>\n",
       "    </tr>\n",
       "    <tr>\n",
       "      <th>1</th>\n",
       "      <td>2024</td>\n",
       "      <td>Banten</td>\n",
       "      <td>Lebak</td>\n",
       "      <td>-6.566667</td>\n",
       "      <td>106.066667</td>\n",
       "      <td>32877.00</td>\n",
       "      <td>65.01</td>\n",
       "      <td>25967</td>\n",
       "      <td>1449.2</td>\n",
       "      <td>111.71</td>\n",
       "      <td>7.08</td>\n",
       "    </tr>\n",
       "    <tr>\n",
       "      <th>2</th>\n",
       "      <td>2024</td>\n",
       "      <td>Banten</td>\n",
       "      <td>Tangerang</td>\n",
       "      <td>-6.166667</td>\n",
       "      <td>106.633333</td>\n",
       "      <td>27095.00</td>\n",
       "      <td>52.81</td>\n",
       "      <td>54729</td>\n",
       "      <td>3400.5</td>\n",
       "      <td>266.43</td>\n",
       "      <td>9.48</td>\n",
       "    </tr>\n",
       "    <tr>\n",
       "      <th>3</th>\n",
       "      <td>2024</td>\n",
       "      <td>Banten</td>\n",
       "      <td>Serang</td>\n",
       "      <td>-6.116667</td>\n",
       "      <td>106.150000</td>\n",
       "      <td>31448.00</td>\n",
       "      <td>57.86</td>\n",
       "      <td>60007</td>\n",
       "      <td>1701.8</td>\n",
       "      <td>68.86</td>\n",
       "      <td>8.32</td>\n",
       "    </tr>\n",
       "    <tr>\n",
       "      <th>4</th>\n",
       "      <td>2024</td>\n",
       "      <td>Banten</td>\n",
       "      <td>Kota Tangerang</td>\n",
       "      <td>-6.166667</td>\n",
       "      <td>106.616667</td>\n",
       "      <td>26119.00</td>\n",
       "      <td>45.26</td>\n",
       "      <td>114458</td>\n",
       "      <td>1964.0</td>\n",
       "      <td>128.91</td>\n",
       "      <td>11.52</td>\n",
       "    </tr>\n",
       "    <tr>\n",
       "      <th>...</th>\n",
       "      <td>...</td>\n",
       "      <td>...</td>\n",
       "      <td>...</td>\n",
       "      <td>...</td>\n",
       "      <td>...</td>\n",
       "      <td>...</td>\n",
       "      <td>...</td>\n",
       "      <td>...</td>\n",
       "      <td>...</td>\n",
       "      <td>...</td>\n",
       "      <td>...</td>\n",
       "    </tr>\n",
       "    <tr>\n",
       "      <th>352</th>\n",
       "      <td>2022</td>\n",
       "      <td>Jawa Timur</td>\n",
       "      <td>Kota Pasuruan</td>\n",
       "      <td>-7.633333</td>\n",
       "      <td>112.900000</td>\n",
       "      <td>17286.38</td>\n",
       "      <td>48.47</td>\n",
       "      <td>44303</td>\n",
       "      <td>209.5</td>\n",
       "      <td>13.07</td>\n",
       "      <td>10.18</td>\n",
       "    </tr>\n",
       "    <tr>\n",
       "      <th>353</th>\n",
       "      <td>2022</td>\n",
       "      <td>Jawa Timur</td>\n",
       "      <td>Kota Mojokerto</td>\n",
       "      <td>-7.466667</td>\n",
       "      <td>112.433333</td>\n",
       "      <td>14044.42</td>\n",
       "      <td>44.12</td>\n",
       "      <td>56648</td>\n",
       "      <td>133.3</td>\n",
       "      <td>7.43</td>\n",
       "      <td>11.43</td>\n",
       "    </tr>\n",
       "    <tr>\n",
       "      <th>354</th>\n",
       "      <td>2022</td>\n",
       "      <td>Jawa Timur</td>\n",
       "      <td>Kota Madiun</td>\n",
       "      <td>-7.616667</td>\n",
       "      <td>111.533333</td>\n",
       "      <td>12375.33</td>\n",
       "      <td>43.49</td>\n",
       "      <td>79817</td>\n",
       "      <td>196.9</td>\n",
       "      <td>7.84</td>\n",
       "      <td>12.08</td>\n",
       "    </tr>\n",
       "    <tr>\n",
       "      <th>355</th>\n",
       "      <td>2022</td>\n",
       "      <td>Jawa Timur</td>\n",
       "      <td>Kota Surabaya</td>\n",
       "      <td>-7.250000</td>\n",
       "      <td>112.783333</td>\n",
       "      <td>16035.81</td>\n",
       "      <td>41.60</td>\n",
       "      <td>226080</td>\n",
       "      <td>2880.3</td>\n",
       "      <td>116.62</td>\n",
       "      <td>11.04</td>\n",
       "    </tr>\n",
       "    <tr>\n",
       "      <th>356</th>\n",
       "      <td>2022</td>\n",
       "      <td>Jawa Timur</td>\n",
       "      <td>Kota Batu</td>\n",
       "      <td>-7.866667</td>\n",
       "      <td>112.533333</td>\n",
       "      <td>19090.34</td>\n",
       "      <td>47.22</td>\n",
       "      <td>85414</td>\n",
       "      <td>214.7</td>\n",
       "      <td>6.59</td>\n",
       "      <td>9.91</td>\n",
       "    </tr>\n",
       "  </tbody>\n",
       "</table>\n",
       "<p>357 rows × 11 columns</p>\n",
       "</div>"
      ],
      "text/plain": [
       "     Tahun    Provinsi  Kabupaten/Kota       LAT        LONG         Y     X1  \\\n",
       "0     2024      Banten      Pandeglang -6.316667  106.116667  23547.00  60.87   \n",
       "1     2024      Banten           Lebak -6.566667  106.066667  32877.00  65.01   \n",
       "2     2024      Banten       Tangerang -6.166667  106.633333  27095.00  52.81   \n",
       "3     2024      Banten          Serang -6.116667  106.150000  31448.00  57.86   \n",
       "4     2024      Banten  Kota Tangerang -6.166667  106.616667  26119.00  45.26   \n",
       "..     ...         ...             ...       ...         ...       ...    ...   \n",
       "352   2022  Jawa Timur   Kota Pasuruan -7.633333  112.900000  17286.38  48.47   \n",
       "353   2022  Jawa Timur  Kota Mojokerto -7.466667  112.433333  14044.42  44.12   \n",
       "354   2022  Jawa Timur     Kota Madiun -7.616667  111.533333  12375.33  43.49   \n",
       "355   2022  Jawa Timur   Kota Surabaya -7.250000  112.783333  16035.81  41.60   \n",
       "356   2022  Jawa Timur       Kota Batu -7.866667  112.533333  19090.34  47.22   \n",
       "\n",
       "         X2      X3      X4     X5  \n",
       "0     27078  1326.0  113.45   7.65  \n",
       "1     25967  1449.2  111.71   7.08  \n",
       "2     54729  3400.5  266.43   9.48  \n",
       "3     60007  1701.8   68.86   8.32  \n",
       "4    114458  1964.0  128.91  11.52  \n",
       "..      ...     ...     ...    ...  \n",
       "352   44303   209.5   13.07  10.18  \n",
       "353   56648   133.3    7.43  11.43  \n",
       "354   79817   196.9    7.84  12.08  \n",
       "355  226080  2880.3  116.62  11.04  \n",
       "356   85414   214.7    6.59   9.91  \n",
       "\n",
       "[357 rows x 11 columns]"
      ]
     },
     "execution_count": 4,
     "metadata": {},
     "output_type": "execute_result"
    }
   ],
   "source": [
    "data = pd.read_excel(\"../data/Data_Pelatihan.xlsx\")\n",
    "data"
   ]
  },
  {
   "cell_type": "code",
   "execution_count": 5,
   "id": "e8d78898",
   "metadata": {
    "colab": {
     "base_uri": "https://localhost:8080/",
     "height": 206
    },
    "id": "e8d78898",
    "outputId": "76664828-8913-4f6c-a649-18b9358efd2f"
   },
   "outputs": [
    {
     "data": {
      "text/html": [
       "<div>\n",
       "<style scoped>\n",
       "    .dataframe tbody tr th:only-of-type {\n",
       "        vertical-align: middle;\n",
       "    }\n",
       "\n",
       "    .dataframe tbody tr th {\n",
       "        vertical-align: top;\n",
       "    }\n",
       "\n",
       "    .dataframe thead th {\n",
       "        text-align: right;\n",
       "    }\n",
       "</style>\n",
       "<table border=\"1\" class=\"dataframe\">\n",
       "  <thead>\n",
       "    <tr style=\"text-align: right;\">\n",
       "      <th></th>\n",
       "      <th>Tahun</th>\n",
       "      <th>Provinsi</th>\n",
       "      <th>Kabupaten/Kota</th>\n",
       "      <th>LAT</th>\n",
       "      <th>LONG</th>\n",
       "      <th>Y</th>\n",
       "      <th>X1</th>\n",
       "      <th>X2</th>\n",
       "      <th>X3</th>\n",
       "      <th>X4</th>\n",
       "      <th>X5</th>\n",
       "    </tr>\n",
       "  </thead>\n",
       "  <tbody>\n",
       "    <tr>\n",
       "      <th>0</th>\n",
       "      <td>2024</td>\n",
       "      <td>Banten</td>\n",
       "      <td>Pandeglang</td>\n",
       "      <td>-6.316667</td>\n",
       "      <td>106.116667</td>\n",
       "      <td>23547.0</td>\n",
       "      <td>60.87</td>\n",
       "      <td>27078</td>\n",
       "      <td>1326.0</td>\n",
       "      <td>113.45</td>\n",
       "      <td>7.65</td>\n",
       "    </tr>\n",
       "    <tr>\n",
       "      <th>1</th>\n",
       "      <td>2024</td>\n",
       "      <td>Banten</td>\n",
       "      <td>Lebak</td>\n",
       "      <td>-6.566667</td>\n",
       "      <td>106.066667</td>\n",
       "      <td>32877.0</td>\n",
       "      <td>65.01</td>\n",
       "      <td>25967</td>\n",
       "      <td>1449.2</td>\n",
       "      <td>111.71</td>\n",
       "      <td>7.08</td>\n",
       "    </tr>\n",
       "    <tr>\n",
       "      <th>2</th>\n",
       "      <td>2024</td>\n",
       "      <td>Banten</td>\n",
       "      <td>Tangerang</td>\n",
       "      <td>-6.166667</td>\n",
       "      <td>106.633333</td>\n",
       "      <td>27095.0</td>\n",
       "      <td>52.81</td>\n",
       "      <td>54729</td>\n",
       "      <td>3400.5</td>\n",
       "      <td>266.43</td>\n",
       "      <td>9.48</td>\n",
       "    </tr>\n",
       "    <tr>\n",
       "      <th>3</th>\n",
       "      <td>2024</td>\n",
       "      <td>Banten</td>\n",
       "      <td>Serang</td>\n",
       "      <td>-6.116667</td>\n",
       "      <td>106.150000</td>\n",
       "      <td>31448.0</td>\n",
       "      <td>57.86</td>\n",
       "      <td>60007</td>\n",
       "      <td>1701.8</td>\n",
       "      <td>68.86</td>\n",
       "      <td>8.32</td>\n",
       "    </tr>\n",
       "    <tr>\n",
       "      <th>4</th>\n",
       "      <td>2024</td>\n",
       "      <td>Banten</td>\n",
       "      <td>Kota Tangerang</td>\n",
       "      <td>-6.166667</td>\n",
       "      <td>106.616667</td>\n",
       "      <td>26119.0</td>\n",
       "      <td>45.26</td>\n",
       "      <td>114458</td>\n",
       "      <td>1964.0</td>\n",
       "      <td>128.91</td>\n",
       "      <td>11.52</td>\n",
       "    </tr>\n",
       "  </tbody>\n",
       "</table>\n",
       "</div>"
      ],
      "text/plain": [
       "   Tahun Provinsi  Kabupaten/Kota       LAT        LONG        Y     X1  \\\n",
       "0   2024   Banten      Pandeglang -6.316667  106.116667  23547.0  60.87   \n",
       "1   2024   Banten           Lebak -6.566667  106.066667  32877.0  65.01   \n",
       "2   2024   Banten       Tangerang -6.166667  106.633333  27095.0  52.81   \n",
       "3   2024   Banten          Serang -6.116667  106.150000  31448.0  57.86   \n",
       "4   2024   Banten  Kota Tangerang -6.166667  106.616667  26119.0  45.26   \n",
       "\n",
       "       X2      X3      X4     X5  \n",
       "0   27078  1326.0  113.45   7.65  \n",
       "1   25967  1449.2  111.71   7.08  \n",
       "2   54729  3400.5  266.43   9.48  \n",
       "3   60007  1701.8   68.86   8.32  \n",
       "4  114458  1964.0  128.91  11.52  "
      ]
     },
     "execution_count": 5,
     "metadata": {},
     "output_type": "execute_result"
    }
   ],
   "source": [
    "data.head(5)"
   ]
  },
  {
   "cell_type": "code",
   "execution_count": 6,
   "id": "bcp4FoZm6t3u",
   "metadata": {
    "colab": {
     "base_uri": "https://localhost:8080/",
     "height": 206
    },
    "id": "bcp4FoZm6t3u",
    "outputId": "350b62ee-a833-4e2f-a4fd-3362f48c585a"
   },
   "outputs": [
    {
     "data": {
      "text/html": [
       "<div>\n",
       "<style scoped>\n",
       "    .dataframe tbody tr th:only-of-type {\n",
       "        vertical-align: middle;\n",
       "    }\n",
       "\n",
       "    .dataframe tbody tr th {\n",
       "        vertical-align: top;\n",
       "    }\n",
       "\n",
       "    .dataframe thead th {\n",
       "        text-align: right;\n",
       "    }\n",
       "</style>\n",
       "<table border=\"1\" class=\"dataframe\">\n",
       "  <thead>\n",
       "    <tr style=\"text-align: right;\">\n",
       "      <th></th>\n",
       "      <th>Tahun</th>\n",
       "      <th>Provinsi</th>\n",
       "      <th>Kabupaten/Kota</th>\n",
       "      <th>LAT</th>\n",
       "      <th>LONG</th>\n",
       "      <th>Y</th>\n",
       "      <th>X1</th>\n",
       "      <th>X2</th>\n",
       "      <th>X3</th>\n",
       "      <th>X4</th>\n",
       "      <th>X5</th>\n",
       "    </tr>\n",
       "  </thead>\n",
       "  <tbody>\n",
       "    <tr>\n",
       "      <th>352</th>\n",
       "      <td>2022</td>\n",
       "      <td>Jawa Timur</td>\n",
       "      <td>Kota Pasuruan</td>\n",
       "      <td>-7.633333</td>\n",
       "      <td>112.900000</td>\n",
       "      <td>17286.38</td>\n",
       "      <td>48.47</td>\n",
       "      <td>44303</td>\n",
       "      <td>209.5</td>\n",
       "      <td>13.07</td>\n",
       "      <td>10.18</td>\n",
       "    </tr>\n",
       "    <tr>\n",
       "      <th>353</th>\n",
       "      <td>2022</td>\n",
       "      <td>Jawa Timur</td>\n",
       "      <td>Kota Mojokerto</td>\n",
       "      <td>-7.466667</td>\n",
       "      <td>112.433333</td>\n",
       "      <td>14044.42</td>\n",
       "      <td>44.12</td>\n",
       "      <td>56648</td>\n",
       "      <td>133.3</td>\n",
       "      <td>7.43</td>\n",
       "      <td>11.43</td>\n",
       "    </tr>\n",
       "    <tr>\n",
       "      <th>354</th>\n",
       "      <td>2022</td>\n",
       "      <td>Jawa Timur</td>\n",
       "      <td>Kota Madiun</td>\n",
       "      <td>-7.616667</td>\n",
       "      <td>111.533333</td>\n",
       "      <td>12375.33</td>\n",
       "      <td>43.49</td>\n",
       "      <td>79817</td>\n",
       "      <td>196.9</td>\n",
       "      <td>7.84</td>\n",
       "      <td>12.08</td>\n",
       "    </tr>\n",
       "    <tr>\n",
       "      <th>355</th>\n",
       "      <td>2022</td>\n",
       "      <td>Jawa Timur</td>\n",
       "      <td>Kota Surabaya</td>\n",
       "      <td>-7.250000</td>\n",
       "      <td>112.783333</td>\n",
       "      <td>16035.81</td>\n",
       "      <td>41.60</td>\n",
       "      <td>226080</td>\n",
       "      <td>2880.3</td>\n",
       "      <td>116.62</td>\n",
       "      <td>11.04</td>\n",
       "    </tr>\n",
       "    <tr>\n",
       "      <th>356</th>\n",
       "      <td>2022</td>\n",
       "      <td>Jawa Timur</td>\n",
       "      <td>Kota Batu</td>\n",
       "      <td>-7.866667</td>\n",
       "      <td>112.533333</td>\n",
       "      <td>19090.34</td>\n",
       "      <td>47.22</td>\n",
       "      <td>85414</td>\n",
       "      <td>214.7</td>\n",
       "      <td>6.59</td>\n",
       "      <td>9.91</td>\n",
       "    </tr>\n",
       "  </tbody>\n",
       "</table>\n",
       "</div>"
      ],
      "text/plain": [
       "     Tahun    Provinsi  Kabupaten/Kota       LAT        LONG         Y     X1  \\\n",
       "352   2022  Jawa Timur   Kota Pasuruan -7.633333  112.900000  17286.38  48.47   \n",
       "353   2022  Jawa Timur  Kota Mojokerto -7.466667  112.433333  14044.42  44.12   \n",
       "354   2022  Jawa Timur     Kota Madiun -7.616667  111.533333  12375.33  43.49   \n",
       "355   2022  Jawa Timur   Kota Surabaya -7.250000  112.783333  16035.81  41.60   \n",
       "356   2022  Jawa Timur       Kota Batu -7.866667  112.533333  19090.34  47.22   \n",
       "\n",
       "         X2      X3      X4     X5  \n",
       "352   44303   209.5   13.07  10.18  \n",
       "353   56648   133.3    7.43  11.43  \n",
       "354   79817   196.9    7.84  12.08  \n",
       "355  226080  2880.3  116.62  11.04  \n",
       "356   85414   214.7    6.59   9.91  "
      ]
     },
     "execution_count": 6,
     "metadata": {},
     "output_type": "execute_result"
    }
   ],
   "source": [
    "data.tail(5)"
   ]
  },
  {
   "cell_type": "code",
   "execution_count": 7,
   "id": "700696b1",
   "metadata": {
    "colab": {
     "base_uri": "https://localhost:8080/"
    },
    "id": "700696b1",
    "outputId": "6bc32687-225b-4d5e-f54b-e32451235369"
   },
   "outputs": [
    {
     "data": {
      "text/plain": [
       "(357, 11)"
      ]
     },
     "execution_count": 7,
     "metadata": {},
     "output_type": "execute_result"
    }
   ],
   "source": [
    "data.shape"
   ]
  },
  {
   "cell_type": "code",
   "execution_count": 8,
   "id": "65d67d3f",
   "metadata": {
    "colab": {
     "base_uri": "https://localhost:8080/",
     "height": 429
    },
    "id": "65d67d3f",
    "outputId": "5e39eee4-0cd1-404a-f610-c04bef1632a6"
   },
   "outputs": [
    {
     "data": {
      "text/plain": [
       "Tahun               int64\n",
       "Provinsi           object\n",
       "Kabupaten/Kota     object\n",
       "LAT               float64\n",
       "LONG              float64\n",
       "Y                 float64\n",
       "X1                float64\n",
       "X2                  int64\n",
       "X3                float64\n",
       "X4                float64\n",
       "X5                float64\n",
       "dtype: object"
      ]
     },
     "execution_count": 8,
     "metadata": {},
     "output_type": "execute_result"
    }
   ],
   "source": [
    "data.dtypes"
   ]
  },
  {
   "cell_type": "markdown",
   "id": "VN9A-7JF54Ip",
   "metadata": {
    "id": "VN9A-7JF54Ip"
   },
   "source": [
    "#**2. DATA CLEANING**"
   ]
  },
  {
   "cell_type": "markdown",
   "id": "vgT8rnX46CcT",
   "metadata": {
    "id": "vgT8rnX46CcT"
   },
   "source": [
    "### MEMERIKSA MISSING VALUES"
   ]
  },
  {
   "cell_type": "code",
   "execution_count": 9,
   "id": "OMh7FEgY57-s",
   "metadata": {
    "colab": {
     "base_uri": "https://localhost:8080/",
     "height": 429
    },
    "id": "OMh7FEgY57-s",
    "outputId": "ebb1fa68-2631-458d-a9cd-90ab1fd7f8ef"
   },
   "outputs": [
    {
     "data": {
      "text/plain": [
       "Tahun             0\n",
       "Provinsi          0\n",
       "Kabupaten/Kota    0\n",
       "LAT               0\n",
       "LONG              0\n",
       "Y                 0\n",
       "X1                0\n",
       "X2                0\n",
       "X3                0\n",
       "X4                0\n",
       "X5                0\n",
       "dtype: int64"
      ]
     },
     "execution_count": 9,
     "metadata": {},
     "output_type": "execute_result"
    }
   ],
   "source": [
    "data.isnull().sum()"
   ]
  },
  {
   "cell_type": "markdown",
   "id": "l32pDqFv6b9S",
   "metadata": {
    "id": "l32pDqFv6b9S"
   },
   "source": [
    "### MEMERIKSA NILAI DUPLIKAT"
   ]
  },
  {
   "cell_type": "code",
   "execution_count": 10,
   "id": "01L8kTaN6fmm",
   "metadata": {
    "colab": {
     "base_uri": "https://localhost:8080/"
    },
    "id": "01L8kTaN6fmm",
    "outputId": "d10294b7-82ea-45e4-c58a-25b29aa0b475"
   },
   "outputs": [
    {
     "name": "stdout",
     "output_type": "stream",
     "text": [
      "\n",
      "Jumlah baris duplikat:\n",
      "0\n"
     ]
    }
   ],
   "source": [
    "print(\"\\nJumlah baris duplikat:\")\n",
    "print(data\n",
    "      .duplicated().sum())"
   ]
  },
  {
   "cell_type": "markdown",
   "id": "PtELu0TryJwt",
   "metadata": {
    "id": "PtELu0TryJwt"
   },
   "source": [
    "#**3. EXPLORATORY DATA ANALYSIS (EDA)**"
   ]
  },
  {
   "cell_type": "code",
   "execution_count": 11,
   "id": "L7slr3P85x7Y",
   "metadata": {
    "colab": {
     "base_uri": "https://localhost:8080/",
     "height": 300
    },
    "id": "L7slr3P85x7Y",
    "outputId": "20cbd0bd-2328-49f0-ea50-3d6fb5cccf15"
   },
   "outputs": [
    {
     "data": {
      "text/html": [
       "<div>\n",
       "<style scoped>\n",
       "    .dataframe tbody tr th:only-of-type {\n",
       "        vertical-align: middle;\n",
       "    }\n",
       "\n",
       "    .dataframe tbody tr th {\n",
       "        vertical-align: top;\n",
       "    }\n",
       "\n",
       "    .dataframe thead th {\n",
       "        text-align: right;\n",
       "    }\n",
       "</style>\n",
       "<table border=\"1\" class=\"dataframe\">\n",
       "  <thead>\n",
       "    <tr style=\"text-align: right;\">\n",
       "      <th></th>\n",
       "      <th>Tahun</th>\n",
       "      <th>LAT</th>\n",
       "      <th>LONG</th>\n",
       "      <th>Y</th>\n",
       "      <th>X1</th>\n",
       "      <th>X2</th>\n",
       "      <th>X3</th>\n",
       "      <th>X4</th>\n",
       "      <th>X5</th>\n",
       "    </tr>\n",
       "  </thead>\n",
       "  <tbody>\n",
       "    <tr>\n",
       "      <th>count</th>\n",
       "      <td>357.000000</td>\n",
       "      <td>357.000000</td>\n",
       "      <td>357.000000</td>\n",
       "      <td>357.000000</td>\n",
       "      <td>357.000000</td>\n",
       "      <td>357.000000</td>\n",
       "      <td>3.570000e+02</td>\n",
       "      <td>357.000000</td>\n",
       "      <td>357.000000</td>\n",
       "    </tr>\n",
       "    <tr>\n",
       "      <th>mean</th>\n",
       "      <td>2023.000000</td>\n",
       "      <td>-7.164846</td>\n",
       "      <td>109.951821</td>\n",
       "      <td>19965.623333</td>\n",
       "      <td>50.544986</td>\n",
       "      <td>75091.512605</td>\n",
       "      <td>1.183364e+04</td>\n",
       "      <td>114.044146</td>\n",
       "      <td>9.112157</td>\n",
       "    </tr>\n",
       "    <tr>\n",
       "      <th>std</th>\n",
       "      <td>0.817643</td>\n",
       "      <td>0.591259</td>\n",
       "      <td>2.288326</td>\n",
       "      <td>5045.782381</td>\n",
       "      <td>6.644540</td>\n",
       "      <td>103388.697470</td>\n",
       "      <td>9.533860e+04</td>\n",
       "      <td>74.120845</td>\n",
       "      <td>1.577761</td>\n",
       "    </tr>\n",
       "    <tr>\n",
       "      <th>min</th>\n",
       "      <td>2022.000000</td>\n",
       "      <td>-8.216667</td>\n",
       "      <td>105.966667</td>\n",
       "      <td>7911.530000</td>\n",
       "      <td>32.120000</td>\n",
       "      <td>19876.000000</td>\n",
       "      <td>2.850000e+01</td>\n",
       "      <td>3.470000</td>\n",
       "      <td>5.560000</td>\n",
       "    </tr>\n",
       "    <tr>\n",
       "      <th>25%</th>\n",
       "      <td>2022.000000</td>\n",
       "      <td>-7.633333</td>\n",
       "      <td>107.900000</td>\n",
       "      <td>16219.000000</td>\n",
       "      <td>45.270000</td>\n",
       "      <td>30627.000000</td>\n",
       "      <td>7.882000e+02</td>\n",
       "      <td>69.940000</td>\n",
       "      <td>7.930000</td>\n",
       "    </tr>\n",
       "    <tr>\n",
       "      <th>50%</th>\n",
       "      <td>2023.000000</td>\n",
       "      <td>-7.200000</td>\n",
       "      <td>110.216667</td>\n",
       "      <td>19496.860000</td>\n",
       "      <td>51.930000</td>\n",
       "      <td>39699.000000</td>\n",
       "      <td>1.145900e+03</td>\n",
       "      <td>106.480000</td>\n",
       "      <td>8.680000</td>\n",
       "    </tr>\n",
       "    <tr>\n",
       "      <th>75%</th>\n",
       "      <td>2024.000000</td>\n",
       "      <td>-6.816667</td>\n",
       "      <td>111.900000</td>\n",
       "      <td>22954.570000</td>\n",
       "      <td>54.920000</td>\n",
       "      <td>72528.000000</td>\n",
       "      <td>1.708800e+03</td>\n",
       "      <td>147.330000</td>\n",
       "      <td>10.170000</td>\n",
       "    </tr>\n",
       "    <tr>\n",
       "      <th>max</th>\n",
       "      <td>2024.000000</td>\n",
       "      <td>-5.616667</td>\n",
       "      <td>114.400000</td>\n",
       "      <td>37061.100000</td>\n",
       "      <td>65.380000</td>\n",
       "      <td>883715.000000</td>\n",
       "      <td>1.147562e+06</td>\n",
       "      <td>474.740000</td>\n",
       "      <td>12.380000</td>\n",
       "    </tr>\n",
       "  </tbody>\n",
       "</table>\n",
       "</div>"
      ],
      "text/plain": [
       "             Tahun         LAT        LONG             Y          X1  \\\n",
       "count   357.000000  357.000000  357.000000    357.000000  357.000000   \n",
       "mean   2023.000000   -7.164846  109.951821  19965.623333   50.544986   \n",
       "std       0.817643    0.591259    2.288326   5045.782381    6.644540   \n",
       "min    2022.000000   -8.216667  105.966667   7911.530000   32.120000   \n",
       "25%    2022.000000   -7.633333  107.900000  16219.000000   45.270000   \n",
       "50%    2023.000000   -7.200000  110.216667  19496.860000   51.930000   \n",
       "75%    2024.000000   -6.816667  111.900000  22954.570000   54.920000   \n",
       "max    2024.000000   -5.616667  114.400000  37061.100000   65.380000   \n",
       "\n",
       "                  X2            X3          X4          X5  \n",
       "count     357.000000  3.570000e+02  357.000000  357.000000  \n",
       "mean    75091.512605  1.183364e+04  114.044146    9.112157  \n",
       "std    103388.697470  9.533860e+04   74.120845    1.577761  \n",
       "min     19876.000000  2.850000e+01    3.470000    5.560000  \n",
       "25%     30627.000000  7.882000e+02   69.940000    7.930000  \n",
       "50%     39699.000000  1.145900e+03  106.480000    8.680000  \n",
       "75%     72528.000000  1.708800e+03  147.330000   10.170000  \n",
       "max    883715.000000  1.147562e+06  474.740000   12.380000  "
      ]
     },
     "execution_count": 11,
     "metadata": {},
     "output_type": "execute_result"
    }
   ],
   "source": [
    "data.describe()"
   ]
  },
  {
   "cell_type": "code",
   "execution_count": 12,
   "id": "54VHwSYE4uS3",
   "metadata": {
    "id": "54VHwSYE4uS3"
   },
   "outputs": [],
   "source": [
    "numerical_col = [\"Y\",\"X1\",\"X2\",\"X3\",\"X4\",\"X5\"]"
   ]
  },
  {
   "cell_type": "code",
   "execution_count": 13,
   "id": "Pelojo4XwZWY",
   "metadata": {
    "colab": {
     "base_uri": "https://localhost:8080/",
     "height": 851
    },
    "id": "Pelojo4XwZWY",
    "outputId": "0416ef60-9a90-4523-86c9-9240515ad625"
   },
   "outputs": [
    {
     "data": {
      "image/png": "[encoded data removed]",
      "text/plain": [
       "<Figure size 1500x1500 with 6 Axes>"
      ]
     },
     "metadata": {},
     "output_type": "display_data"
    }
   ],
   "source": [
    "plt.figure(figsize=(15, 15))\n",
    "for i, column in enumerate(numerical_col, start=1):\n",
    "    ax = plt.subplot(3, 3, i)\n",
    "    vals = data[column].dropna()\n",
    "    sns.histplot(\n",
    "        vals,\n",
    "        bins=30,\n",
    "        kde=False,\n",
    "        color=\"blue\",\n",
    "        edgecolor=\"orange\",\n",
    "        alpha= 0.8,\n",
    "        stat=\"density\"\n",
    "    )\n",
    "    sns.kdeplot(\n",
    "        vals,\n",
    "        color=\"orange\",\n",
    "        linewidth=2\n",
    "    )\n",
    "\n",
    "    ax.set_title(f\"Histogram {column}\")\n",
    "    ax.set_xlabel(column)\n",
    "plt.tight_layout()\n",
    "plt.show()"
   ]
  },
  {
   "cell_type": "code",
   "execution_count": 14,
   "id": "oS1Cc8o91pPZ",
   "metadata": {
    "colab": {
     "base_uri": "https://localhost:8080/",
     "height": 655
    },
    "id": "oS1Cc8o91pPZ",
    "outputId": "47903185-390a-4653-bbbe-48351d9b058b"
   },
   "outputs": [
    {
     "data": {
      "image/png": "[encoded data removed]",
      "text/plain": [
       "<Figure size 1500x800 with 6 Axes>"
      ]
     },
     "metadata": {},
     "output_type": "display_data"
    }
   ],
   "source": [
    "num_variables = len(numerical_col)\n",
    "num_rows = 2\n",
    "num_cols = (num_variables + num_rows - 1) // num_rows\n",
    "\n",
    "plt.figure(figsize=(15, 8))\n",
    "\n",
    "for i, variable in enumerate(numerical_col):\n",
    "    plt.subplot(num_rows, num_cols, i+1)\n",
    "    plt.boxplot(data[variable], whis=1.5)\n",
    "    plt.title(variable)\n",
    "\n",
    "plt.tight_layout()\n",
    "plt.show()"
   ]
  },
  {
   "cell_type": "code",
   "execution_count": 15,
   "id": "HC5SdUmDwZjM",
   "metadata": {
    "colab": {
     "base_uri": "https://localhost:8080/",
     "height": 736
    },
    "id": "HC5SdUmDwZjM",
    "outputId": "d8f2522b-d43a-449f-f0d8-5ae63c113114"
   },
   "outputs": [
    {
     "data": {
      "image/png": "[encoded data removed]",
      "text/plain": [
       "<Figure size 1800x1200 with 6 Axes>"
      ]
     },
     "metadata": {},
     "output_type": "display_data"
    }
   ],
   "source": [
    "sns.set_theme(style=\"whitegrid\", palette=\"Spectral\")\n",
    "plt.figure(figsize=(18, 12))\n",
    "for i, column in enumerate(numerical_col, 1):\n",
    "    plt.subplot(2, 3, i)\n",
    "    sns.boxplot(\n",
    "        x=\"Tahun\",\n",
    "        y=column,\n",
    "        data=data,\n",
    "        palette=\"Spectral\",\n",
    "        showfliers=False\n",
    "    )\n",
    "    sns.stripplot(\n",
    "        x=\"Tahun\",\n",
    "        y=column,\n",
    "        data=data,\n",
    "        color=\"black\",\n",
    "        jitter=True,\n",
    "        alpha=0.4,\n",
    "        size=3\n",
    "    )\n",
    "\n",
    "    means = data.groupby(\"Tahun\")[column].mean()\n",
    "    for j, year in enumerate(sorted(data[\"Tahun\"].unique())):\n",
    "        plt.scatter(\n",
    "            j, means.loc[year],\n",
    "            color=\"red\",\n",
    "            s=80,\n",
    "            marker=\"D\",\n",
    "            label=\"Mean\" if i == 1 and j == 0 else \"\"\n",
    "        )\n",
    "\n",
    "    plt.title(f\"{column}\", fontsize=14)\n",
    "    plt.xlabel(\"Tahun\", fontsize=10)\n",
    "    plt.ylabel(column, fontsize=10)\n",
    "\n",
    "# Tambahkan legenda untuk mean sekali saja\n",
    "plt.legend(loc=\"upper right\", bbox_to_anchor=(1.2, 1))\n",
    "\n",
    "plt.suptitle(\"\", fontsize=18, weight=\"bold\")\n",
    "plt.tight_layout(rect=[0, 0.03, 1, 0.95])\n",
    "plt.show()\n"
   ]
  },
  {
   "cell_type": "code",
   "execution_count": 16,
   "id": "VYFiUyDV8CVV",
   "metadata": {
    "colab": {
     "base_uri": "https://localhost:8080/",
     "height": 701
    },
    "id": "VYFiUyDV8CVV",
    "outputId": "e3241c14-a323-4923-ff96-9206f83206be"
   },
   "outputs": [
    {
     "data": {
      "image/png": "[encoded data removed]",
      "text/plain": [
       "<Figure size 800x700 with 2 Axes>"
      ]
     },
     "metadata": {},
     "output_type": "display_data"
    }
   ],
   "source": [
    "cols = [c for c in [\"Y\",\"X1\",\"X2\",\"X3\",\"X4\",\"X5\"] if c in data.columns]\n",
    "plt.figure(figsize=(8,7))\n",
    "sns.heatmap(data[cols].corr(), cmap=\"bwr\", annot=True, fmt=\".2f\", linewidths=.2)\n",
    "plt.yticks(rotation=0)\n",
    "plt.tight_layout()\n",
    "plt.show()"
   ]
  },
  {
   "cell_type": "code",
   "execution_count": 17,
   "id": "265673c4",
   "metadata": {
    "colab": {
     "base_uri": "https://localhost:8080/",
     "height": 601
    },
    "id": "265673c4",
    "outputId": "dc699e58-3d89-4de5-94c6-86912a5b9441"
   },
   "outputs": [
    {
     "data": {
      "image/png": "[encoded data removed]",
      "text/plain": [
       "<Figure size 1000x600 with 1 Axes>"
      ]
     },
     "metadata": {},
     "output_type": "display_data"
    }
   ],
   "source": [
    "java_provinces = [\n",
    "    \"Banten\",\n",
    "    \"DKI Jakarta\",\n",
    "    \"Jawa Barat\",\n",
    "    \"Jawa Tengah\",\n",
    "    \"Daerah Istimewa Yogyakarta\",\n",
    "    \"Jawa Timur\",\n",
    "]\n",
    "\n",
    "df_java_2024 = (\n",
    "    data.query(\"Tahun == 2024 and Provinsi in @java_provinces\")\n",
    "         .copy()\n",
    ")\n",
    "prov_rank = (df_java_2024\n",
    "             .groupby(\"Provinsi\", as_index=False)[\"Y\"]\n",
    "             .mean()\n",
    "             .sort_values(\"Y\", ascending=False))\n",
    "\n",
    "top_province = prov_rank.iloc[0, 0]\n",
    "top_value = prov_rank.iloc[0, 1]\n",
    "\n",
    "sns.set_theme(style=\"whitegrid\")\n",
    "plt.figure(figsize=(10, 6))\n",
    "ax = sns.barplot(\n",
    "    data=prov_rank,\n",
    "    x=\"Y\", y=\"Provinsi\",\n",
    "    palette=\"mako\"\n",
    ")\n",
    "plt.title(\"Rata-rata Pengeluaran Rokok/Tembakau (Y)\\nProvinsi di Pulau Jawa – 2024\", fontsize=14, weight=\"bold\")\n",
    "plt.xlabel(\"Rata-rata Y (Ribu Rp/minggu)\")\n",
    "plt.ylabel(\"Provinsi\")\n",
    "\n",
    "for p in ax.patches:\n",
    "    w = p.get_width()\n",
    "    y = p.get_y() + p.get_height()/2\n",
    "    ax.text(w + (0.01*prov_rank[\"Y\"].max()), y, f\"{w:,.0f}\", va=\"center\", fontsize=10)\n",
    "\n",
    "for p in ax.patches:\n",
    "    if p.get_y() + p.get_height()/2 in ax.get_yticks():\n",
    "        label = ax.get_yticklabels()[list(ax.get_yticks()).index(p.get_y() + p.get_height()/2)].get_text()\n",
    "        if label == top_province:\n",
    "            p.set_edgecolor(\"orange\")\n",
    "            p.set_linewidth(2.5)\n",
    "\n",
    "plt.tight_layout()\n",
    "plt.show()"
   ]
  },
  {
   "cell_type": "code",
   "execution_count": 18,
   "id": "8tQp4q5t6P5e",
   "metadata": {
    "colab": {
     "base_uri": "https://localhost:8080/"
    },
    "id": "8tQp4q5t6P5e",
    "outputId": "13ba6795-6722-4836-c450-c596f69d2c94"
   },
   "outputs": [
    {
     "ename": "DataSourceError",
     "evalue": "'/content/indonesia-province.json' does not exist in the file system, and is not recognized as a supported dataset name.",
     "output_type": "error",
     "traceback": [
      "\u001b[31m----------------------------------------------------------------------\u001b[39m",
      "\u001b[31mDataSourceError\u001b[39m                      Traceback (most recent call last)",
      "\u001b[36mCell\u001b[39m\u001b[36m \u001b[39m\u001b[32mIn[18]\u001b[39m\u001b[32m, line 4\u001b[39m\n\u001b[32m      2\u001b[39m \u001b[38;5;66;03m# --- Load geojson ---\u001b[39;00m\n\u001b[32m      3\u001b[39m geo_path = \u001b[33m\"\u001b[39m\u001b[33m/content/indonesia-province.json\u001b[39m\u001b[33m\"\u001b[39m\n\u001b[32m----> \u001b[39m\u001b[32m4\u001b[39m gdf = \u001b[43mgpd\u001b[49m\u001b[43m.\u001b[49m\u001b[43mread_file\u001b[49m\u001b[43m(\u001b[49m\u001b[43mgeo_path\u001b[49m\u001b[43m)\u001b[49m\n\u001b[32m      6\u001b[39m \u001b[38;5;66;03m# --- Tampilkan semua kolom ---\u001b[39;00m\n\u001b[32m      7\u001b[39m \u001b[38;5;28mprint\u001b[39m(\u001b[33m\"\u001b[39m\u001b[38;5;130;01m\\n\u001b[39;00m\u001b[33m=== Kolom tersedia di geojson ===\u001b[39m\u001b[33m\"\u001b[39m)\n",
      "\u001b[36mFile \u001b[39m\u001b[32mD:\\users\\2025-1\\25i73\\04\\wsmml-env\\Lib\\site-packages\\geopandas\\io\\file.py:316\u001b[39m, in \u001b[36m_read_file\u001b[39m\u001b[34m(filename, bbox, mask, columns, rows, engine, **kwargs)\u001b[39m\n\u001b[32m    313\u001b[39m             filename = response.read()\n\u001b[32m    315\u001b[39m \u001b[38;5;28;01mif\u001b[39;00m engine == \u001b[33m\"\u001b[39m\u001b[33mpyogrio\u001b[39m\u001b[33m\"\u001b[39m:\n\u001b[32m--> \u001b[39m\u001b[32m316\u001b[39m     \u001b[38;5;28;01mreturn\u001b[39;00m \u001b[43m_read_file_pyogrio\u001b[49m\u001b[43m(\u001b[49m\n\u001b[32m    317\u001b[39m \u001b[43m        \u001b[49m\u001b[43mfilename\u001b[49m\u001b[43m,\u001b[49m\u001b[43m \u001b[49m\u001b[43mbbox\u001b[49m\u001b[43m=\u001b[49m\u001b[43mbbox\u001b[49m\u001b[43m,\u001b[49m\u001b[43m \u001b[49m\u001b[43mmask\u001b[49m\u001b[43m=\u001b[49m\u001b[43mmask\u001b[49m\u001b[43m,\u001b[49m\u001b[43m \u001b[49m\u001b[43mcolumns\u001b[49m\u001b[43m=\u001b[49m\u001b[43mcolumns\u001b[49m\u001b[43m,\u001b[49m\u001b[43m \u001b[49m\u001b[43mrows\u001b[49m\u001b[43m=\u001b[49m\u001b[43mrows\u001b[49m\u001b[43m,\u001b[49m\u001b[43m \u001b[49m\u001b[43m*\u001b[49m\u001b[43m*\u001b[49m\u001b[43mkwargs\u001b[49m\n\u001b[32m    318\u001b[39m \u001b[43m    \u001b[49m\u001b[43m)\u001b[49m\n\u001b[32m    320\u001b[39m \u001b[38;5;28;01melif\u001b[39;00m engine == \u001b[33m\"\u001b[39m\u001b[33mfiona\u001b[39m\u001b[33m\"\u001b[39m:\n\u001b[32m    321\u001b[39m     \u001b[38;5;28;01mif\u001b[39;00m pd.api.types.is_file_like(filename):\n",
      "\u001b[36mFile \u001b[39m\u001b[32mD:\\users\\2025-1\\25i73\\04\\wsmml-env\\Lib\\site-packages\\geopandas\\io\\file.py:576\u001b[39m, in \u001b[36m_read_file_pyogrio\u001b[39m\u001b[34m(path_or_bytes, bbox, mask, rows, **kwargs)\u001b[39m\n\u001b[32m    567\u001b[39m     warnings.warn(\n\u001b[32m    568\u001b[39m         \u001b[33m\"\u001b[39m\u001b[33mThe \u001b[39m\u001b[33m'\u001b[39m\u001b[33minclude_fields\u001b[39m\u001b[33m'\u001b[39m\u001b[33m and \u001b[39m\u001b[33m'\u001b[39m\u001b[33mignore_fields\u001b[39m\u001b[33m'\u001b[39m\u001b[33m keywords are deprecated, and \u001b[39m\u001b[33m\"\u001b[39m\n\u001b[32m    569\u001b[39m         \u001b[33m\"\u001b[39m\u001b[33mwill be removed in a future release. You can use the \u001b[39m\u001b[33m'\u001b[39m\u001b[33mcolumns\u001b[39m\u001b[33m'\u001b[39m\u001b[33m keyword \u001b[39m\u001b[33m\"\u001b[39m\n\u001b[32m   (...)\u001b[39m\u001b[32m    572\u001b[39m         stacklevel=\u001b[32m3\u001b[39m,\n\u001b[32m    573\u001b[39m     )\n\u001b[32m    574\u001b[39m     kwargs[\u001b[33m\"\u001b[39m\u001b[33mcolumns\u001b[39m\u001b[33m\"\u001b[39m] = kwargs.pop(\u001b[33m\"\u001b[39m\u001b[33minclude_fields\u001b[39m\u001b[33m\"\u001b[39m)\n\u001b[32m--> \u001b[39m\u001b[32m576\u001b[39m \u001b[38;5;28;01mreturn\u001b[39;00m \u001b[43mpyogrio\u001b[49m\u001b[43m.\u001b[49m\u001b[43mread_dataframe\u001b[49m\u001b[43m(\u001b[49m\u001b[43mpath_or_bytes\u001b[49m\u001b[43m,\u001b[49m\u001b[43m \u001b[49m\u001b[43mbbox\u001b[49m\u001b[43m=\u001b[49m\u001b[43mbbox\u001b[49m\u001b[43m,\u001b[49m\u001b[43m \u001b[49m\u001b[43m*\u001b[49m\u001b[43m*\u001b[49m\u001b[43mkwargs\u001b[49m\u001b[43m)\u001b[49m\n",
      "\u001b[36mFile \u001b[39m\u001b[32mD:\\users\\2025-1\\25i73\\04\\wsmml-env\\Lib\\site-packages\\pyogrio\\geopandas.py:275\u001b[39m, in \u001b[36mread_dataframe\u001b[39m\u001b[34m(path_or_buffer, layer, encoding, columns, read_geometry, force_2d, skip_features, max_features, where, bbox, mask, fids, sql, sql_dialect, fid_as_index, use_arrow, on_invalid, arrow_to_pandas_kwargs, **kwargs)\u001b[39m\n\u001b[32m    270\u001b[39m \u001b[38;5;28;01mif\u001b[39;00m \u001b[38;5;129;01mnot\u001b[39;00m use_arrow:\n\u001b[32m    271\u001b[39m     \u001b[38;5;66;03m# For arrow, datetimes are read as is.\u001b[39;00m\n\u001b[32m    272\u001b[39m     \u001b[38;5;66;03m# For numpy IO, datetimes are read as string values to preserve timezone info\u001b[39;00m\n\u001b[32m    273\u001b[39m     \u001b[38;5;66;03m# as numpy does not directly support timezones.\u001b[39;00m\n\u001b[32m    274\u001b[39m     kwargs[\u001b[33m\"\u001b[39m\u001b[33mdatetime_as_string\u001b[39m\u001b[33m\"\u001b[39m] = \u001b[38;5;28;01mTrue\u001b[39;00m\n\u001b[32m--> \u001b[39m\u001b[32m275\u001b[39m result = \u001b[43mread_func\u001b[49m\u001b[43m(\u001b[49m\n\u001b[32m    276\u001b[39m \u001b[43m    \u001b[49m\u001b[43mpath_or_buffer\u001b[49m\u001b[43m,\u001b[49m\n\u001b[32m    277\u001b[39m \u001b[43m    \u001b[49m\u001b[43mlayer\u001b[49m\u001b[43m=\u001b[49m\u001b[43mlayer\u001b[49m\u001b[43m,\u001b[49m\n\u001b[32m    278\u001b[39m \u001b[43m    \u001b[49m\u001b[43mencoding\u001b[49m\u001b[43m=\u001b[49m\u001b[43mencoding\u001b[49m\u001b[43m,\u001b[49m\n\u001b[32m    279\u001b[39m \u001b[43m    \u001b[49m\u001b[43mcolumns\u001b[49m\u001b[43m=\u001b[49m\u001b[43mcolumns\u001b[49m\u001b[43m,\u001b[49m\n\u001b[32m    280\u001b[39m \u001b[43m    \u001b[49m\u001b[43mread_geometry\u001b[49m\u001b[43m=\u001b[49m\u001b[43mread_geometry\u001b[49m\u001b[43m,\u001b[49m\n\u001b[32m    281\u001b[39m \u001b[43m    \u001b[49m\u001b[43mforce_2d\u001b[49m\u001b[43m=\u001b[49m\u001b[43mgdal_force_2d\u001b[49m\u001b[43m,\u001b[49m\n\u001b[32m    282\u001b[39m \u001b[43m    \u001b[49m\u001b[43mskip_features\u001b[49m\u001b[43m=\u001b[49m\u001b[43mskip_features\u001b[49m\u001b[43m,\u001b[49m\n\u001b[32m    283\u001b[39m \u001b[43m    \u001b[49m\u001b[43mmax_features\u001b[49m\u001b[43m=\u001b[49m\u001b[43mmax_features\u001b[49m\u001b[43m,\u001b[49m\n\u001b[32m    284\u001b[39m \u001b[43m    \u001b[49m\u001b[43mwhere\u001b[49m\u001b[43m=\u001b[49m\u001b[43mwhere\u001b[49m\u001b[43m,\u001b[49m\n\u001b[32m    285\u001b[39m \u001b[43m    \u001b[49m\u001b[43mbbox\u001b[49m\u001b[43m=\u001b[49m\u001b[43mbbox\u001b[49m\u001b[43m,\u001b[49m\n\u001b[32m    286\u001b[39m \u001b[43m    \u001b[49m\u001b[43mmask\u001b[49m\u001b[43m=\u001b[49m\u001b[43mmask\u001b[49m\u001b[43m,\u001b[49m\n\u001b[32m    287\u001b[39m \u001b[43m    \u001b[49m\u001b[43mfids\u001b[49m\u001b[43m=\u001b[49m\u001b[43mfids\u001b[49m\u001b[43m,\u001b[49m\n\u001b[32m    288\u001b[39m \u001b[43m    \u001b[49m\u001b[43msql\u001b[49m\u001b[43m=\u001b[49m\u001b[43msql\u001b[49m\u001b[43m,\u001b[49m\n\u001b[32m    289\u001b[39m \u001b[43m    \u001b[49m\u001b[43msql_dialect\u001b[49m\u001b[43m=\u001b[49m\u001b[43msql_dialect\u001b[49m\u001b[43m,\u001b[49m\n\u001b[32m    290\u001b[39m \u001b[43m    \u001b[49m\u001b[43mreturn_fids\u001b[49m\u001b[43m=\u001b[49m\u001b[43mfid_as_index\u001b[49m\u001b[43m,\u001b[49m\n\u001b[32m    291\u001b[39m \u001b[43m    \u001b[49m\u001b[43m*\u001b[49m\u001b[43m*\u001b[49m\u001b[43mkwargs\u001b[49m\u001b[43m,\u001b[49m\n\u001b[32m    292\u001b[39m \u001b[43m\u001b[49m\u001b[43m)\u001b[49m\n\u001b[32m    294\u001b[39m \u001b[38;5;28;01mif\u001b[39;00m use_arrow:\n\u001b[32m    295\u001b[39m     \u001b[38;5;28;01mimport\u001b[39;00m\u001b[38;5;250m \u001b[39m\u001b[34;01mpyarrow\u001b[39;00m\u001b[38;5;250m \u001b[39m\u001b[38;5;28;01mas\u001b[39;00m\u001b[38;5;250m \u001b[39m\u001b[34;01mpa\u001b[39;00m\n",
      "\u001b[36mFile \u001b[39m\u001b[32mD:\\users\\2025-1\\25i73\\04\\wsmml-env\\Lib\\site-packages\\pyogrio\\raw.py:198\u001b[39m, in \u001b[36mread\u001b[39m\u001b[34m(path_or_buffer, layer, encoding, columns, read_geometry, force_2d, skip_features, max_features, where, bbox, mask, fids, sql, sql_dialect, return_fids, datetime_as_string, **kwargs)\u001b[39m\n\u001b[32m     59\u001b[39m \u001b[38;5;250m\u001b[39m\u001b[33;03m\"\"\"Read OGR data source into numpy arrays.\u001b[39;00m\n\u001b[32m     60\u001b[39m \n\u001b[32m     61\u001b[39m \u001b[33;03mIMPORTANT: non-linear geometry types (e.g., MultiSurface) are converted\u001b[39;00m\n\u001b[32m   (...)\u001b[39m\u001b[32m    194\u001b[39m \n\u001b[32m    195\u001b[39m \u001b[33;03m\"\"\"\u001b[39;00m\n\u001b[32m    196\u001b[39m dataset_kwargs = _preprocess_options_key_value(kwargs) \u001b[38;5;28;01mif\u001b[39;00m kwargs \u001b[38;5;28;01melse\u001b[39;00m {}\n\u001b[32m--> \u001b[39m\u001b[32m198\u001b[39m \u001b[38;5;28;01mreturn\u001b[39;00m \u001b[43mogr_read\u001b[49m\u001b[43m(\u001b[49m\n\u001b[32m    199\u001b[39m \u001b[43m    \u001b[49m\u001b[43mget_vsi_path_or_buffer\u001b[49m\u001b[43m(\u001b[49m\u001b[43mpath_or_buffer\u001b[49m\u001b[43m)\u001b[49m\u001b[43m,\u001b[49m\n\u001b[32m    200\u001b[39m \u001b[43m    \u001b[49m\u001b[43mlayer\u001b[49m\u001b[43m=\u001b[49m\u001b[43mlayer\u001b[49m\u001b[43m,\u001b[49m\n\u001b[32m    201\u001b[39m \u001b[43m    \u001b[49m\u001b[43mencoding\u001b[49m\u001b[43m=\u001b[49m\u001b[43mencoding\u001b[49m\u001b[43m,\u001b[49m\n\u001b[32m    202\u001b[39m \u001b[43m    \u001b[49m\u001b[43mcolumns\u001b[49m\u001b[43m=\u001b[49m\u001b[43mcolumns\u001b[49m\u001b[43m,\u001b[49m\n\u001b[32m    203\u001b[39m \u001b[43m    \u001b[49m\u001b[43mread_geometry\u001b[49m\u001b[43m=\u001b[49m\u001b[43mread_geometry\u001b[49m\u001b[43m,\u001b[49m\n\u001b[32m    204\u001b[39m \u001b[43m    \u001b[49m\u001b[43mforce_2d\u001b[49m\u001b[43m=\u001b[49m\u001b[43mforce_2d\u001b[49m\u001b[43m,\u001b[49m\n\u001b[32m    205\u001b[39m \u001b[43m    \u001b[49m\u001b[43mskip_features\u001b[49m\u001b[43m=\u001b[49m\u001b[43mskip_features\u001b[49m\u001b[43m,\u001b[49m\n\u001b[32m    206\u001b[39m \u001b[43m    \u001b[49m\u001b[43mmax_features\u001b[49m\u001b[43m=\u001b[49m\u001b[43mmax_features\u001b[49m\u001b[43m \u001b[49m\u001b[38;5;129;43;01mor\u001b[39;49;00m\u001b[43m \u001b[49m\u001b[32;43m0\u001b[39;49m\u001b[43m,\u001b[49m\n\u001b[32m    207\u001b[39m \u001b[43m    \u001b[49m\u001b[43mwhere\u001b[49m\u001b[43m=\u001b[49m\u001b[43mwhere\u001b[49m\u001b[43m,\u001b[49m\n\u001b[32m    208\u001b[39m \u001b[43m    \u001b[49m\u001b[43mbbox\u001b[49m\u001b[43m=\u001b[49m\u001b[43mbbox\u001b[49m\u001b[43m,\u001b[49m\n\u001b[32m    209\u001b[39m \u001b[43m    \u001b[49m\u001b[43mmask\u001b[49m\u001b[43m=\u001b[49m\u001b[43m_mask_to_wkb\u001b[49m\u001b[43m(\u001b[49m\u001b[43mmask\u001b[49m\u001b[43m)\u001b[49m\u001b[43m,\u001b[49m\n\u001b[32m    210\u001b[39m \u001b[43m    \u001b[49m\u001b[43mfids\u001b[49m\u001b[43m=\u001b[49m\u001b[43mfids\u001b[49m\u001b[43m,\u001b[49m\n\u001b[32m    211\u001b[39m \u001b[43m    \u001b[49m\u001b[43msql\u001b[49m\u001b[43m=\u001b[49m\u001b[43msql\u001b[49m\u001b[43m,\u001b[49m\n\u001b[32m    212\u001b[39m \u001b[43m    \u001b[49m\u001b[43msql_dialect\u001b[49m\u001b[43m=\u001b[49m\u001b[43msql_dialect\u001b[49m\u001b[43m,\u001b[49m\n\u001b[32m    213\u001b[39m \u001b[43m    \u001b[49m\u001b[43mreturn_fids\u001b[49m\u001b[43m=\u001b[49m\u001b[43mreturn_fids\u001b[49m\u001b[43m,\u001b[49m\n\u001b[32m    214\u001b[39m \u001b[43m    \u001b[49m\u001b[43mdataset_kwargs\u001b[49m\u001b[43m=\u001b[49m\u001b[43mdataset_kwargs\u001b[49m\u001b[43m,\u001b[49m\n\u001b[32m    215\u001b[39m \u001b[43m    \u001b[49m\u001b[43mdatetime_as_string\u001b[49m\u001b[43m=\u001b[49m\u001b[43mdatetime_as_string\u001b[49m\u001b[43m,\u001b[49m\n\u001b[32m    216\u001b[39m \u001b[43m\u001b[49m\u001b[43m)\u001b[49m\n",
      "\u001b[36mFile \u001b[39m\u001b[32mpyogrio/_io.pyx:1313\u001b[39m, in \u001b[36mpyogrio._io.ogr_read\u001b[39m\u001b[34m()\u001b[39m\n",
      "\u001b[36mFile \u001b[39m\u001b[32mpyogrio/_io.pyx:232\u001b[39m, in \u001b[36mpyogrio._io.ogr_open\u001b[39m\u001b[34m()\u001b[39m\n",
      "\u001b[31mDataSourceError\u001b[39m: '/content/indonesia-province.json' does not exist in the file system, and is not recognized as a supported dataset name."
     ]
    }
   ],
   "source": [
    "import geopandas as gpd\n",
    "# --- Load geojson ---\n",
    "geo_path = \"/content/indonesia-province.json\"\n",
    "gdf = gpd.read_file(geo_path)\n",
    "\n",
    "# --- Tampilkan semua kolom ---\n",
    "print(\"\\n=== Kolom tersedia di geojson ===\")\n",
    "print(gdf.columns.tolist())\n",
    "\n",
    "# --- Cek isi 5 baris pertama ---\n",
    "print(\"\\n=== 5 baris pertama ===\")\n",
    "print(gdf.head())\n",
    "\n",
    "# --- Cek kolom string dan 10 nilai unik pertama ---\n",
    "print(\"\\n=== Nilai unik dari kolom string ===\")\n",
    "for c in gdf.columns:\n",
    "    if gdf[c].dtype == \"object\":\n",
    "        print(f\"\\nKolom: {c}\")\n",
    "        print(gdf[c].unique()[:10])"
   ]
  },
  {
   "cell_type": "code",
   "execution_count": null,
   "id": "hCgIbq5R-NIj",
   "metadata": {
    "colab": {
     "base_uri": "https://localhost:8080/",
     "height": 439
    },
    "id": "hCgIbq5R-NIj",
    "outputId": "4294c724-8d26-4f32-d06a-7e57aa105432"
   },
   "outputs": [],
   "source": [
    "# --- 1) Import ---\n",
    "import geopandas as gpd\n",
    "import pandas as pd\n",
    "import matplotlib.pyplot as plt\n",
    "\n",
    "# --- 2) Data rata-rata Y per provinsi ---\n",
    "java_provinces = [\n",
    "    \"Banten\",\n",
    "    \"DKI Jakarta\",\n",
    "    \"Jawa Barat\",\n",
    "    \"Jawa Tengah\",\n",
    "    \"Daerah Istimewa Yogyakarta\",\n",
    "    \"Jawa Timur\",\n",
    "]\n",
    "\n",
    "# fungsi normalisasi nama provinsi\n",
    "def norm_prov(s: str) -> str:\n",
    "    s = str(s).strip().upper()\n",
    "    if \"YOGYAKARTA\" in s:\n",
    "        return \"Daerah Istimewa Yogyakarta\"\n",
    "    if \"JAKARTA\" in s or \"DKI\" in s:\n",
    "        return \"DKI Jakarta\"\n",
    "    if \"BANTEN\" in s:\n",
    "        return \"Banten\"\n",
    "    if \"JAWA BARAT\" in s:\n",
    "        return \"Jawa Barat\"\n",
    "    if \"JAWA TENGAH\" in s:\n",
    "        return \"Jawa Tengah\"\n",
    "    if \"JAWA TIMUR\" in s:\n",
    "        return \"Jawa Timur\"\n",
    "    return s.title()\n",
    "\n",
    "# hitung rata-rata Y provinsi Jawa\n",
    "df_java_2024 = data.query(\"Tahun == 2024 and Provinsi in @java_provinces\").copy()\n",
    "prov_rank = (df_java_2024.groupby(\"Provinsi\", as_index=False)[\"Y\"]\n",
    "             .mean().sort_values(\"Y\", ascending=False))\n",
    "\n",
    "# normalisasi nama di prov_rank juga\n",
    "prov_rank[\"Provinsi\"] = prov_rank[\"Provinsi\"].map(norm_prov)\n",
    "\n",
    "top_province = prov_rank.iloc[0, 0]\n",
    "top_value    = prov_rank.iloc[0, 1]\n",
    "\n",
    "# --- 3) Load geojson ---\n",
    "geo_path = \"/content/indonesia-province.json\"\n",
    "gdf = gpd.read_file(geo_path)\n",
    "\n",
    "# pakai kolom Propinsi dan normalisasi\n",
    "gdf[\"Provinsi\"] = gdf[\"Propinsi\"].map(norm_prov)\n",
    "\n",
    "# --- 4) Ambil provinsi Jawa dan merge nilai Y ---\n",
    "gdf_java = gdf[gdf[\"Provinsi\"].isin(java_provinces)].copy()\n",
    "gdf_plot = gdf_java.merge(prov_rank, on=\"Provinsi\", how=\"left\")\n",
    "\n",
    "# --- 5) Plot choropleth ---\n",
    "fig, ax = plt.subplots(figsize=(8, 5))\n",
    "\n",
    "gdf_plot.plot(\n",
    "    column=\"Y\",\n",
    "    cmap=\"Blues\",\n",
    "    linewidth=0.8,\n",
    "    edgecolor=\"white\",\n",
    "    legend=True,\n",
    "    legend_kwds={\"label\": \"Rata-rata Y (Ribu Rp/minggu)\", \"shrink\": 0.6},\n",
    "    ax=ax\n",
    ")\n",
    "\n",
    "# highlight provinsi tertinggi\n",
    "subset = gdf_plot[gdf_plot[\"Provinsi\"] == top_province]\n",
    "if not subset.empty:\n",
    "    subset.boundary.plot(ax=ax, color=\"orange\", linewidth=2.5)\n",
    "\n",
    "# label nilai di representative point\n",
    "for _, r in gdf_plot.iterrows():\n",
    "    if r[\"geometry\"] is None or r[\"geometry\"].is_empty:\n",
    "        continue\n",
    "    pt = r.geometry.representative_point()\n",
    "    ax.text(pt.x, pt.y, f\"{r['Y']:.0f}\", ha=\"center\", va=\"center\",\n",
    "            fontsize=9, weight=\"bold\")\n",
    "\n",
    "# judul & anotasi\n",
    "ax.set_title(\n",
    "    \"Rata-rata Pengeluaran Rokok/Tembakau (Y)\\nProvinsi di Pulau Jawa – 2024\",\n",
    "    fontsize=14, weight=\"bold\"\n",
    ")\n",
    "ax.set_axis_off()\n",
    "\n",
    "ax.annotate(\n",
    "    f\"Teratas: {top_province} ({top_value:,.0f})\",\n",
    "    xy=(0.01, 0.02), xycoords=\"figure fraction\",\n",
    "    fontsize=10, bbox=dict(boxstyle=\"round,pad=0.3\", fc=\"white\", ec=\"orange\", lw=1.5)\n",
    ")\n",
    "\n",
    "plt.tight_layout()\n",
    "plt.show()"
   ]
  },
  {
   "cell_type": "code",
   "execution_count": 19,
   "id": "bEVguwTCt8gD",
   "metadata": {
    "colab": {
     "base_uri": "https://localhost:8080/",
     "height": 601
    },
    "id": "bEVguwTCt8gD",
    "outputId": "4cf60142-cf89-454c-b855-9c6a9d3f894a"
   },
   "outputs": [
    {
     "data": {
      "image/png": "[encoded data removed]",
      "text/plain": [
       "<Figure size 1000x600 with 1 Axes>"
      ]
     },
     "metadata": {},
     "output_type": "display_data"
    }
   ],
   "source": [
    "df_top = df_java_2024.query(\"Provinsi == @top_province\")\n",
    "kabkot_rank = (df_top\n",
    "               .groupby([\"Provinsi\", \"Kabupaten/Kota\"], as_index=False)[\"Y\"]\n",
    "               .mean()\n",
    "               .sort_values(\"Y\", ascending=False))\n",
    "plt.figure(figsize=(10, max(6, 0.35*len(kabkot_rank))))\n",
    "ax2 = sns.barplot(\n",
    "    data=kabkot_rank,\n",
    "    x=\"Y\", y=\"Kabupaten/Kota\",\n",
    "    palette=\"rocket\"\n",
    ")\n",
    "plt.title(f\"Rata-rata Pengeluaran Rokok/Tembakau (Y)\\nKab/Kota di {top_province} – 2024\", fontsize=14, weight=\"bold\")\n",
    "plt.xlabel(\"Rata-rata Y (Ribu Rp/minggu)\")\n",
    "plt.ylabel(\"Kabupaten/Kota\")\n",
    "\n",
    "for p in ax2.patches:\n",
    "    w = p.get_width()\n",
    "    y = p.get_y() + p.get_height()/2\n",
    "    ax2.text(w + (0.01*kabkot_rank[\"Y\"].max()), y, f\"{w:,.0f}\", va=\"center\", fontsize=9)\n",
    "\n",
    "plt.tight_layout()\n",
    "plt.show()"
   ]
  },
  {
   "cell_type": "markdown",
   "id": "oMCX41KG5_F4",
   "metadata": {
    "id": "oMCX41KG5_F4"
   },
   "source": [
    "#**4. MODELLING & EVALUATION**"
   ]
  },
  {
   "cell_type": "code",
   "execution_count": 20,
   "id": "KfGHVTvLBHFO",
   "metadata": {
    "id": "KfGHVTvLBHFO"
   },
   "outputs": [],
   "source": [
    "# Pisahkan fitur (variabel X) & target (variabel y)\n",
    "X = data[[\"X1\",\"X2\",\"X3\",\"X4\",\"X5\"]]\n",
    "y = data[\"Y\"].astype(float)"
   ]
  },
  {
   "cell_type": "code",
   "execution_count": 21,
   "id": "HP5tvjPXBRTh",
   "metadata": {
    "id": "HP5tvjPXBRTh"
   },
   "outputs": [],
   "source": [
    "# splitting data 80% data training dan 20% data testing\n",
    "X_train, X_test, y_train, y_test = train_test_split(\n",
    "    X, y, test_size=0.2, random_state=42\n",
    ")"
   ]
  },
  {
   "cell_type": "code",
   "execution_count": 22,
   "id": "LXVxvoHFG_k1",
   "metadata": {
    "id": "LXVxvoHFG_k1"
   },
   "outputs": [],
   "source": [
    "#STANDARISASI\n",
    "#scaler = StandardScaler()\n",
    "#X_train_scaled = scaler.fit_transform(X_train)\n",
    "#X_test_scaled  = scaler.transform(X_test)"
   ]
  },
  {
   "cell_type": "code",
   "execution_count": 23,
   "id": "iWubCdnyIiX0",
   "metadata": {
    "id": "iWubCdnyIiX0"
   },
   "outputs": [],
   "source": [
    "# NORMALISASI\n",
    "scaler = MinMaxScaler(feature_range=(0, 1))\n",
    "X_train_scaled = scaler.fit_transform(X_train)\n",
    "X_test_scaled  = scaler.transform(X_test)"
   ]
  },
  {
   "cell_type": "markdown",
   "id": "DqXTghsO9PLX",
   "metadata": {
    "id": "DqXTghsO9PLX"
   },
   "source": [
    "## **METODE RANDOM FOREST**"
   ]
  },
  {
   "cell_type": "code",
   "execution_count": 24,
   "id": "f3XBvOEcFYQx",
   "metadata": {
    "colab": {
     "base_uri": "https://localhost:8080/",
     "height": 536
    },
    "id": "f3XBvOEcFYQx",
    "outputId": "121f9e0a-bdd2-43c7-ea9f-5fc7b6d776b0"
   },
   "outputs": [
    {
     "name": "stdout",
     "output_type": "stream",
     "text": [
      "MAE : 2,578.40\n",
      "R²  : 0.5164\n"
     ]
    },
    {
     "data": {
      "image/png": "[encoded data removed]",
      "text/plain": [
       "<Figure size 600x500 with 1 Axes>"
      ]
     },
     "metadata": {},
     "output_type": "display_data"
    }
   ],
   "source": [
    "# === 1) Model Random Forest ===\n",
    "model = RandomForestRegressor(\n",
    "    n_estimators=1000,\n",
    "    random_state=42,\n",
    "    n_jobs=-1,\n",
    "    max_features=\"sqrt\"\n",
    ")\n",
    "model.fit(X_train_scaled, y_train)\n",
    "\n",
    "# === 2) Prediksi & Evaluasi ===\n",
    "y_pred = model.predict(X_test_scaled)\n",
    "\n",
    "mae  = mean_absolute_error(y_test, y_pred)\n",
    "r2   = r2_score(y_test, y_pred)\n",
    "\n",
    "print(f\"MAE : {mae:,.2f}\")\n",
    "print(f\"R²  : {r2:.4f}\")\n",
    "\n",
    "# === 3) Visual: Prediksi vs Aktual (Scatter + garis 45°) ===\n",
    "hasil = pd.DataFrame({\"Aktual\": y_test.values, \"Prediksi\": y_pred}, index=X_test.index)\n",
    "\n",
    "plt.figure(figsize=(6,5))\n",
    "plt.scatter(hasil[\"Aktual\"], hasil[\"Prediksi\"], s=35, alpha=0.75)\n",
    "lo = min(hasil[\"Aktual\"].min(), hasil[\"Prediksi\"].min())\n",
    "hi = max(hasil[\"Aktual\"].max(), hasil[\"Prediksi\"].max())\n",
    "plt.plot([lo, hi], [lo, hi], color=\"orange\", linewidth=2)  # garis ideal\n",
    "plt.title(\"Prediksi vs Aktual (Test) – Random Forest\")\n",
    "plt.xlabel(\"Aktual Y\"); plt.ylabel(\"Prediksi Y\")\n",
    "plt.grid(True, alpha=.3)\n",
    "plt.tight_layout()\n",
    "plt.show()\n"
   ]
  },
  {
   "cell_type": "code",
   "execution_count": 25,
   "id": "onB4G9NhcObM",
   "metadata": {
    "colab": {
     "base_uri": "https://localhost:8080/",
     "height": 640
    },
    "id": "onB4G9NhcObM",
    "outputId": "15fc6e0a-336e-4709-daca-925a2b7e1164"
   },
   "outputs": [
    {
     "name": "stdout",
     "output_type": "stream",
     "text": [
      "Tabel Feature Importance:\n",
      "    Importance\n",
      "X1    0.305516\n",
      "X3    0.210506\n",
      "X4    0.174435\n",
      "X5    0.159331\n",
      "X2    0.150213\n",
      "------------------------------\n"
     ]
    },
    {
     "data": {
      "image/png": "[encoded data removed]",
      "text/plain": [
       "<Figure size 800x500 with 1 Axes>"
      ]
     },
     "metadata": {},
     "output_type": "display_data"
    }
   ],
   "source": [
    "feature_names = list(X.columns)\n",
    "\n",
    "# --- 1) Ambil Feature Importance dari model Random Forest ---\n",
    "# Atribut .feature_importances_ berisi nilai MDI (Mean Decrease in Impurity)\n",
    "importances = model.feature_importances_\n",
    "\n",
    "# --- 2) Buat tabel ringkas menggunakan pandas Series ---\n",
    "imp_series = pd.Series(importances, index=feature_names)\n",
    "imp_table = pd.DataFrame({\n",
    "    \"Importance\": imp_series\n",
    "}).sort_values(\"Importance\", ascending=False)\n",
    "\n",
    "print(\"Tabel Feature Importance:\")\n",
    "print(imp_table)\n",
    "print(\"-\" * 30)\n",
    "\n",
    "\n",
    "# --- 3) Plot horizontal (lebih informatif) ---\n",
    "# Urutkan nilai agar plot lebih rapi (dari terkecil ke terbesar)\n",
    "imp_plot = imp_series.sort_values(ascending=True)\n",
    "\n",
    "plt.figure(figsize=(8, 5))\n",
    "bars = plt.barh(imp_plot.index, imp_plot.values, color=\"darkcyan\", edgecolor=\"black\")\n",
    "\n",
    "# Menambahkan label nilai di ujung setiap bar\n",
    "for bar in bars:\n",
    "    width = bar.get_width()\n",
    "    plt.text(width * 1.01,  # Posisi x sedikit di kanan bar\n",
    "             bar.get_y() + bar.get_height() / 2, # Posisi y di tengah bar\n",
    "             f'{width:.4f}', # Format teks\n",
    "             ha='left',\n",
    "             va='center',\n",
    "             fontsize=9)\n",
    "\n",
    "plt.title(\"Random Forest Feature Importance (MDI)\")\n",
    "plt.xlabel(\"Importance (Mean Decrease in Impurity)\")\n",
    "plt.grid(True, axis='x', linestyle='--', alpha=0.6)\n",
    "plt.tight_layout()\n",
    "plt.show()"
   ]
  },
  {
   "cell_type": "code",
   "execution_count": 26,
   "id": "Ja__2GEReXO6",
   "metadata": {
    "colab": {
     "base_uri": "https://localhost:8080/",
     "height": 439,
     "referenced_widgets": [
      "84511b8759fb4400b1761e40b90c0bfc",
      "8f196199473c40fea7f4ccf63aa70bfd",
      "95e8eddab14f4fb1bad2f9ae2b4fd14e",
      "c81582b6c01847628fb5d33396260b43",
      "8eff5ce8ba444a39a544d8d5074088ab",
      "11d63cd48f3a4e9eaf478711f31834e7",
      "937293efe3f0471eb2febc5f45501b96",
      "37f852594fb844c7a6424a66b2711d68",
      "fb23d1fc4f4c4e49a53d1e7af5f0e59e",
      "9f67609d1e8947bc8aab4e6d5e995f33",
      "217d2400fa0d46aead69a6947524e3b8",
      "9cd3569189c74a5895d39c78ccca6262",
      "1d7dc856d3c740d4882d0aaeb58ad7fa",
      "9417fee1af654975b55581150634ca05",
      "569b265eb8334bc882b7f4147306801c",
      "bc9f4332b6c24f88ac2f04c486e661e8",
      "b7eec7715e6f405c8ddaea66e59f5d7e",
      "d3833f3f94a344cabdf792269f851133",
      "630dc740fbc04f6b847b8ab460e8918c",
      "4ce7a5bd96a446279d714553ff7f321f",
      "274b2e85fbda402e867f429ceb6c8616",
      "1a985c993e3642869ea9b1bcb7ad4cbf",
      "e9598fbc5e7544afaf1bff6dfda7c638",
      "416c9b06961b4d48b288afe29e523762",
      "96b42449526d475ebff30ab4e8155ab5",
      "e4e07be892214f848383603e4085c0a4",
      "afa23b8df6134889a03869187fa34b64",
      "960d4d3a3743484b9772ab8e9e594753",
      "87da2941627a4a77917389ea85899fc6",
      "ec16d1c3340940418f60de471c6c7566",
      "adddd86dfc2e4ab484492c7fe808e17d",
      "934c13b1686142d49d3ead6ce3d0e69d",
      "80aa320dc33741e08bbc6d92d8d40b98",
      "61d2041b166645fc8e7e62e11be6d845",
      "4069d61b04fe45c8ab4596991ff4d76b",
      "e667c82667554766968a874701e9d7a1"
     ]
    },
    "id": "Ja__2GEReXO6",
    "outputId": "81fbc273-f9e1-45d1-a634-017335016d12"
   },
   "outputs": [
    {
     "data": {
      "application/vnd.jupyter.widget-view+json": {
       "model_id": "d1696aa3552441c9bfcf627487f8e55f",
       "version_major": 2,
       "version_minor": 0
      },
      "text/plain": [
       "VBox(children=(HTML(value='<h3>Menu Prediksi Y</h3><p>Isi X1–X5 lalu klik <b>Prediksi Y</b>. Rentang yang dita…"
      ]
     },
     "metadata": {},
     "output_type": "display_data"
    }
   ],
   "source": [
    "# === MENU INPUT X1–X5 → PREDIKSI Y (Jupyter) ===\n",
    "# Jika ipywidgets belum ada, jalankan:  # !pip install ipywidgets\n",
    "import ipywidgets as w\n",
    "from IPython.display import display\n",
    "\n",
    "feature_names = [\"X1\",\"X2\",\"X3\",\"X4\",\"X5\"]\n",
    "\n",
    "# Ringkasan rentang & median berdasarkan data latih (membantu mengisi nilai yang masuk akal)\n",
    "mins = X_train[feature_names].min()\n",
    "maxs = X_train[feature_names].max()\n",
    "meds = X_train[feature_names].median()\n",
    "\n",
    "# Widget input (diinisialisasi ke median pelatihan)\n",
    "w_X1 = w.FloatText(value=float(meds[\"X1\"]), description=\"X1\", layout=w.Layout(width=\"280px\"))\n",
    "w_X2 = w.FloatText(value=float(meds[\"X2\"]), description=\"X2\", layout=w.Layout(width=\"280px\"))\n",
    "w_X3 = w.FloatText(value=float(meds[\"X3\"]), description=\"X3\", layout=w.Layout(width=\"280px\"))\n",
    "w_X4 = w.FloatText(value=float(meds[\"X4\"]), description=\"X4\", layout=w.Layout(width=\"280px\"))\n",
    "w_X5 = w.FloatText(value=float(meds[\"X5\"]), description=\"X5\", layout=w.Layout(width=\"280px\"))\n",
    "inputs = [w_X1, w_X2, w_X3, w_X4, w_X5]\n",
    "\n",
    "btn_predict = w.Button(description=\"Prediksi Y\", button_style=\"success\", icon=\"calculator\")\n",
    "btn_reset   = w.Button(description=\"Reset ke Median\", icon=\"refresh\")\n",
    "out = w.Output()\n",
    "\n",
    "def _prediksi(_=None):\n",
    "    # Kumpulkan nilai, scaling dengan scaler yg sudah fit, lalu prediksi dengan model\n",
    "    vals = [[w_X1.value, w_X2.value, w_X3.value, w_X4.value, w_X5.value]]\n",
    "    df_new = pd.DataFrame(vals, columns=feature_names)\n",
    "    X_new_scaled = scaler.transform(df_new)\n",
    "    y_hat = float(model.predict(X_new_scaled)[0])\n",
    "\n",
    "    with out:\n",
    "        out.clear_output()\n",
    "        display(pd.DataFrame({\n",
    "            \"Fitur\": feature_names,\n",
    "            \"Nilai\": [w.value for w in inputs],\n",
    "            \"Min(latih)\": [mins[f] for f in feature_names],\n",
    "            \"Max(latih)\": [maxs[f] for f in feature_names],\n",
    "        }))\n",
    "        print(f\"Perkiraan Y: {y_hat:,.2f} (ribu Rp/minggu)\")\n",
    "\n",
    "def _reset(_=None):\n",
    "    for f, wdg in zip(feature_names, inputs):\n",
    "        wdg.value = float(meds[f])\n",
    "    with out:\n",
    "        out.clear_output()\n",
    "\n",
    "btn_predict.on_click(_prediksi)\n",
    "btn_reset.on_click(_reset)\n",
    "\n",
    "title = w.HTML(\"<h3>Menu Prediksi Y</h3><p>Isi X1–X5 lalu klik <b>Prediksi Y</b>. \"\n",
    "               \"Rentang yang ditampilkan berasal dari data latih.</p>\")\n",
    "\n",
    "ui = w.VBox([\n",
    "    title,\n",
    "    w.HBox([w_X1, w_X2]),\n",
    "    w.HBox([w_X3, w_X4]),\n",
    "    w.HBox([w_X5]),\n",
    "    w.HBox([btn_predict, btn_reset]),\n",
    "    out\n",
    "])\n",
    "\n",
    "display(ui)"
   ]
  },
  {
   "cell_type": "markdown",
   "id": "T-WXJWEI9PXq",
   "metadata": {
    "id": "T-WXJWEI9PXq"
   },
   "source": [
    "##**METODE XGBOOST**"
   ]
  },
  {
   "cell_type": "code",
   "execution_count": 27,
   "id": "7mFsJUgvGenc",
   "metadata": {
    "colab": {
     "base_uri": "https://localhost:8080/",
     "height": 536
    },
    "id": "7mFsJUgvGenc",
    "outputId": "7c28a6b6-ab2b-40a6-c980-9d4d86bb08ca"
   },
   "outputs": [
    {
     "name": "stdout",
     "output_type": "stream",
     "text": [
      "MAE : 2,505.74\n",
      "R²  : 0.5286\n"
     ]
    },
    {
     "data": {
      "image/png": "[encoded data removed]",
      "text/plain": [
       "<Figure size 600x500 with 1 Axes>"
      ]
     },
     "metadata": {},
     "output_type": "display_data"
    }
   ],
   "source": [
    "# === 1) Model XGBoost ===\n",
    "xgb = XGBRegressor(\n",
    "    n_estimators=1000,\n",
    "    learning_rate=0.1,\n",
    "    max_depth=6,\n",
    "    subsample=0.8,\n",
    "    colsample_bytree=0.8,\n",
    "    reg_lambda=1.0,\n",
    "    random_state=42,\n",
    "    n_jobs=-1,\n",
    "    tree_method=\"hist\"   # cepat\n",
    ")\n",
    "xgb.fit(X_train_scaled, y_train)\n",
    "\n",
    "# === 2) Prediksi & Evaluasi ===\n",
    "y_pred = xgb.predict(X_test_scaled)\n",
    "\n",
    "mae  = mean_absolute_error(y_test, y_pred)\n",
    "r2   = r2_score(y_test, y_pred)\n",
    "\n",
    "print(f\"MAE : {mae:,.2f}\")\n",
    "print(f\"R²  : {r2:.4f}\")\n",
    "\n",
    "# === 3) Visual: Prediksi vs Aktual (Scatter + garis 45°) ===\n",
    "hasil = pd.DataFrame({\"Aktual\": y_test.values, \"Prediksi\": y_pred}, index=X_test.index)\n",
    "\n",
    "plt.figure(figsize=(6,5))\n",
    "plt.scatter(hasil[\"Aktual\"], hasil[\"Prediksi\"], s=35, alpha=0.75)\n",
    "lo = min(hasil[\"Aktual\"].min(), hasil[\"Prediksi\"].min())\n",
    "hi = max(hasil[\"Aktual\"].max(), hasil[\"Prediksi\"].max())\n",
    "plt.plot([lo, hi], [lo, hi], color=\"orange\", linewidth=2)  # garis ideal\n",
    "plt.title(\"Prediksi vs Aktual (Test) – XGBoost\")\n",
    "plt.xlabel(\"Aktual Y\"); plt.ylabel(\"Prediksi Y\")\n",
    "plt.grid(True, alpha=.3)\n",
    "plt.tight_layout()\n",
    "plt.show()"
   ]
  },
  {
   "cell_type": "code",
   "execution_count": 28,
   "id": "UkxVyX47GJ4z",
   "metadata": {
    "colab": {
     "base_uri": "https://localhost:8080/",
     "height": 505
    },
    "id": "UkxVyX47GJ4z",
    "outputId": "a39ca994-2962-461a-e041-8e0f2949a945"
   },
   "outputs": [
    {
     "name": "stdout",
     "output_type": "stream",
     "text": [
      "            Gain     Split\n",
      "X3  1.720986e+06  0.268387\n",
      "X1  1.417657e+06  0.221083\n",
      "X5  1.366952e+06  0.213175\n",
      "X4  1.037141e+06  0.161741\n",
      "X2  8.696038e+05  0.135614\n"
     ]
    },
    {
     "data": {
      "image/png": "[encoded data removed]",
      "text/plain": [
       "<Figure size 600x400 with 1 Axes>"
      ]
     },
     "metadata": {},
     "output_type": "display_data"
    }
   ],
   "source": [
    "import pandas as pd\n",
    "import matplotlib.pyplot as plt\n",
    "\n",
    "# --- nama fitur asli (sebelum scaling) ---\n",
    "feature_names = list(X.columns)  # [\"X1\",\"X2\",\"X3\",\"X4\",\"X5\"]\n",
    "\n",
    "# --- 1) Importance versi 'gain' (lebih informatif) ---\n",
    "gain_dict = xgb.get_booster().get_score(importance_type=\"gain\")  # keys: 'f0','f1',...\n",
    "gain_series = pd.Series({feature_names[int(k[1:])]: v for k, v in gain_dict.items()})\n",
    "gain_series = gain_series.reindex(feature_names).fillna(0.0)\n",
    "\n",
    "# --- 2) (Opsional) Importance bawaan (split frequency) ---\n",
    "split_series = pd.Series(xgb.feature_importances_, index=feature_names)\n",
    "\n",
    "# Tabel ringkas\n",
    "imp_table = pd.DataFrame({\n",
    "    \"Gain\": gain_series,\n",
    "    \"Split\": split_series\n",
    "}).sort_values(\"Gain\", ascending=False)\n",
    "print(imp_table)\n",
    "\n",
    "# --- Plot horizontal (pakai 'Gain') ---\n",
    "imp_plot = gain_series.sort_values(ascending=True)\n",
    "plt.figure(figsize=(6,4))\n",
    "plt.barh(imp_plot.index, imp_plot.values, color=\"darkblue\", edgecolor=\"orange\")\n",
    "for i, v in enumerate(imp_plot.values):\n",
    "    plt.text(v, i, f\"{v:.3f}\", va=\"center\", ha=\"left\", fontsize=9)\n",
    "plt.title(\"XGBoost Feature Importance (Gain)\")\n",
    "plt.xlabel(\"Importance (Gain)\")\n",
    "plt.tight_layout()\n",
    "plt.show()"
   ]
  },
  {
   "cell_type": "code",
   "execution_count": 30,
   "id": "DCL_q9n28jNh",
   "metadata": {
    "colab": {
     "base_uri": "https://localhost:8080/",
     "height": 439,
     "referenced_widgets": [
      "35d9fe9e4b5445c28e9c83399980dc1e",
      "e63d216c72394953bef43113d3f3a42f",
      "bf1de791a32b4471a1988f270591e141",
      "1c9aa0883a704fedaefa4f4c95540340",
      "91a1ec7f3ff64d34bb5209abb99e78a5",
      "485ddb5b15a041269514b59aec3f9715",
      "568b7e480cfc4b00a3d3ba875b6173a3",
      "29b907c29e244b4eb917618744f825ca",
      "68a7b2ff5cb540948e6452fa99047abc",
      "b82bc9e05597453ca1a44bda068d096a",
      "7e3ce96bfa8d47b886a3eca169fd0cf9",
      "e8f9b263e8ce42d8be4dff0e87f9bb64",
      "b8b80dd878eb4f90843784e4c7d919a0",
      "58dec32452244ccc8eacaa40c172f863",
      "5995719f3d3741a0a21be8dcdd71fb14",
      "3b6ad44a446a4035be33092d1bee6e85",
      "6228eca97ebd499ca57b37b629e9c680",
      "08a5f749b359431cb363233c3390a01d",
      "6ebe89239bbd4607b2a82ad7e703d4d9",
      "510c23cfb9ff4522a523458b5150a764",
      "65363a0553c743049f5ae3640a2158fe",
      "1b41689191da45eba99dae73af0c0370",
      "dc1b37376cca43d2bfd9f36a9098de9a",
      "c0dcba93d1e343bab2fc768f44baa0d6",
      "ac7ebd3d269d435b8403e2f92febdfaa",
      "79d823f93656428d95d7a02d623f5b91",
      "ddb61f7e0c854c828a4d1842c9aeda13",
      "0d1229134f564799a03e85c0403a2c25",
      "fcb3ec076454462cb5bd6af395762082",
      "e2714281c43149bdb6d69af0a68b174d",
      "7b4376af7dc54906b14fad39c9d9c4a9",
      "4a4a8cc0e6864ea59ac2bca8d6e7bb13",
      "4abf8e077bc74f25bd6869c5174d0110",
      "ef4b9b68cccc4b4daf994044295465cd",
      "dfcb924180c7474786c9fefbcff44643",
      "7b7cba7bd1ab495ab9483469ed8a3a5c"
     ]
    },
    "id": "DCL_q9n28jNh",
    "outputId": "a31265a9-f566-4420-b40f-0d825f0912d4"
   },
   "outputs": [
    {
     "data": {
      "application/vnd.jupyter.widget-view+json": {
       "model_id": "baa22fe6de5e4aaeb39a21d423fd0a39",
       "version_major": 2,
       "version_minor": 0
      },
      "text/plain": [
       "VBox(children=(HTML(value='<h3>Menu Prediksi Y</h3><p>Isi X1–X5 lalu klik <b>Prediksi Y</b>. Rentang yang dita…"
      ]
     },
     "metadata": {},
     "output_type": "display_data"
    }
   ],
   "source": [
    "# === MENU INPUT X1–X5 → PREDIKSI Y (Jupyter) ===\n",
    "# Jika ipywidgets belum ada, jalankan:  # !pip install ipywidgets\n",
    "import ipywidgets as w\n",
    "from IPython.display import display\n",
    "\n",
    "feature_names = [\"X1\",\"X2\",\"X3\",\"X4\",\"X5\"]\n",
    "\n",
    "# Ringkasan rentang & median berdasarkan data latih (membantu mengisi nilai yang masuk akal)\n",
    "mins = X_train[feature_names].min()\n",
    "maxs = X_train[feature_names].max()\n",
    "meds = X_train[feature_names].median()\n",
    "\n",
    "# Widget input (diinisialisasi ke median pelatihan)\n",
    "w_X1 = w.FloatText(value=float(meds[\"X1\"]), description=\"X1\", layout=w.Layout(width=\"280px\"))\n",
    "w_X2 = w.FloatText(value=float(meds[\"X2\"]), description=\"X2\", layout=w.Layout(width=\"280px\"))\n",
    "w_X3 = w.FloatText(value=float(meds[\"X3\"]), description=\"X3\", layout=w.Layout(width=\"280px\"))\n",
    "w_X4 = w.FloatText(value=float(meds[\"X4\"]), description=\"X4\", layout=w.Layout(width=\"280px\"))\n",
    "w_X5 = w.FloatText(value=float(meds[\"X5\"]), description=\"X5\", layout=w.Layout(width=\"280px\"))\n",
    "inputs = [w_X1, w_X2, w_X3, w_X4, w_X5]\n",
    "\n",
    "btn_predict = w.Button(description=\"Prediksi Y\", button_style=\"success\", icon=\"calculator\")\n",
    "btn_reset   = w.Button(description=\"Reset ke Median\", icon=\"refresh\")\n",
    "out = w.Output()\n",
    "\n",
    "def _prediksi(_=None):\n",
    "    # Kumpulkan nilai, scaling dengan scaler yg sudah fit, lalu prediksi dengan model\n",
    "    vals = [[w_X1.value, w_X2.value, w_X3.value, w_X4.value, w_X5.value]]\n",
    "    df_new = pd.DataFrame(vals, columns=feature_names)\n",
    "    X_new_scaled = scaler.transform(df_new)\n",
    "    y_hat = float(xgb.predict(X_new_scaled)[0])\n",
    "\n",
    "    with out:\n",
    "        out.clear_output()\n",
    "        display(pd.DataFrame({\n",
    "            \"Fitur\": feature_names,\n",
    "            \"Nilai\": [w.value for w in inputs],\n",
    "            \"Min(latih)\": [mins[f] for f in feature_names],\n",
    "            \"Max(latih)\": [maxs[f] for f in feature_names],\n",
    "        }))\n",
    "        print(f\"Perkiraan Y: {y_hat:,.2f} (ribu Rp/minggu)\")\n",
    "\n",
    "def _reset(_=None):\n",
    "    for f, wdg in zip(feature_names, inputs):\n",
    "        wdg.value = float(meds[f])\n",
    "    with out:\n",
    "        out.clear_output()\n",
    "\n",
    "btn_predict.on_click(_prediksi)\n",
    "btn_reset.on_click(_reset)\n",
    "\n",
    "title = w.HTML(\"<h3>Menu Prediksi Y</h3><p>Isi X1–X5 lalu klik <b>Prediksi Y</b>. \"\n",
    "               \"Rentang yang ditampilkan berasal dari data latih.</p>\")\n",
    "\n",
    "ui = w.VBox([\n",
    "    title,\n",
    "    w.HBox([w_X1, w_X2]),\n",
    "    w.HBox([w_X3, w_X4]),\n",
    "    w.HBox([w_X5]),\n",
    "    w.HBox([btn_predict, btn_reset]),\n",
    "    out\n",
    "])\n",
    "\n",
    "display(ui)"
   ]
  },
  {
   "cell_type": "markdown",
   "id": "biyGNuYSbRDZ",
   "metadata": {
    "id": "biyGNuYSbRDZ"
   },
   "source": [
    "# **5. CLUSTERING**\n"
   ]
  },
  {
   "cell_type": "markdown",
   "id": "S7xxefJbT8K5",
   "metadata": {
    "id": "S7xxefJbT8K5"
   },
   "source": [
    "## **K-MEANS CLUSTERING**"
   ]
  },
  {
   "cell_type": "code",
   "execution_count": null,
   "id": "myhBSyi1j8S0",
   "metadata": {
    "id": "myhBSyi1j8S0"
   },
   "outputs": [],
   "source": [
    "!pip install \"numpy<2\" # di run cukup sekali, setelah itu mulai dari upload dataset dan run sintaks dari panggil package dan import data"
   ]
  },
  {
   "cell_type": "code",
   "execution_count": null,
   "id": "f-aK12cqj9t-",
   "metadata": {
    "id": "f-aK12cqj9t-"
   },
   "outputs": [],
   "source": [
    "!pip install scikit-learn-extra"
   ]
  },
  {
   "cell_type": "code",
   "execution_count": null,
   "id": "meQMq2ojUu6I",
   "metadata": {
    "colab": {
     "background_save": true
    },
    "id": "meQMq2ojUu6I"
   },
   "outputs": [],
   "source": [
    "x_train = data[[\"Y\"]].values"
   ]
  },
  {
   "cell_type": "code",
   "execution_count": null,
   "id": "Aeyh9lS4UvHS",
   "metadata": {
    "colab": {
     "background_save": true
    },
    "id": "Aeyh9lS4UvHS"
   },
   "outputs": [],
   "source": [
    "# Elbow method\n",
    "from sklearn.cluster import KMeans\n",
    "cs = []\n",
    "for i in range (1,10):\n",
    "    kmeans = KMeans(n_clusters=i, init = 'k-means++',max_iter = 300, n_init = 10, random_state = 0)\n",
    "    kmeans.fit(x_train)\n",
    "    cs.append(kmeans.inertia_)\n",
    "plt.plot(range(1,10), cs)\n",
    "plt.title('The Elbow Method')\n",
    "plt.xlabel('Number of clusters')\n",
    "plt.ylabel('CS')\n",
    "plt.show()"
   ]
  },
  {
   "cell_type": "code",
   "execution_count": null,
   "id": "bImu580zUvVY",
   "metadata": {
    "colab": {
     "background_save": true
    },
    "id": "bImu580zUvVY"
   },
   "outputs": [],
   "source": [
    "# Silhouette method\n",
    "from sklearn.metrics import silhouette_score\n",
    "range_n_clusters = [2, 3, 4, 5, 6, 7, 8]\n",
    "for num_clusters in range_n_clusters:\n",
    "    kmeans = KMeans(n_clusters=num_clusters, max_iter=300)\n",
    "    kmeans.fit(x_train)\n",
    "    cluster_labels = kmeans.labels_\n",
    "    silhouette_avg = silhouette_score(x_train, cluster_labels)\n",
    "    print(\"For n_cluster={0}, the silhoutte score is {1}\".format(num_clusters, silhouette_avg))"
   ]
  },
  {
   "cell_type": "code",
   "execution_count": null,
   "id": "3mn0nAMIWG2C",
   "metadata": {
    "colab": {
     "background_save": true
    },
    "id": "3mn0nAMIWG2C"
   },
   "outputs": [],
   "source": [
    "# didapat Jumlah k = 2 Terbaik\n",
    "kmeans = KMeans(n_clusters = 2, random_state = 0)\n",
    "kmeans"
   ]
  },
  {
   "cell_type": "code",
   "execution_count": null,
   "id": "kBTfft18WHM4",
   "metadata": {
    "colab": {
     "background_save": true
    },
    "id": "kBTfft18WHM4"
   },
   "outputs": [],
   "source": [
    "y_cluster = kmeans.fit_predict(x_train)"
   ]
  },
  {
   "cell_type": "code",
   "execution_count": null,
   "id": "I8_KZCHSWQ-h",
   "metadata": {
    "colab": {
     "background_save": true
    },
    "id": "I8_KZCHSWQ-h"
   },
   "outputs": [],
   "source": [
    "data['kelas'] = y_cluster"
   ]
  },
  {
   "cell_type": "code",
   "execution_count": null,
   "id": "h1A4znHfWRLg",
   "metadata": {
    "colab": {
     "background_save": true
    },
    "id": "h1A4znHfWRLg"
   },
   "outputs": [],
   "source": [
    "kmeans.cluster_centers_"
   ]
  },
  {
   "cell_type": "code",
   "execution_count": null,
   "id": "Nsm5zBwgWbXK",
   "metadata": {
    "colab": {
     "background_save": true
    },
    "id": "Nsm5zBwgWbXK"
   },
   "outputs": [],
   "source": [
    "data[\"kelas\"] = data[\"kelas\"].astype(\"object\")\n",
    "\n",
    "data.loc[data.kelas==0, \"kelas\"] = \"Rendah\"\n",
    "data.loc[data.kelas==1, \"kelas\"] = \"Tinggi\""
   ]
  },
  {
   "cell_type": "code",
   "execution_count": null,
   "id": "tKhDAkhvWbo1",
   "metadata": {
    "colab": {
     "background_save": true
    },
    "id": "tKhDAkhvWbo1"
   },
   "outputs": [],
   "source": [
    "data.groupby([\"kelas\"]).count()"
   ]
  },
  {
   "cell_type": "code",
   "execution_count": null,
   "id": "pIS8Qc2kXR02",
   "metadata": {
    "colab": {
     "background_save": true
    },
    "id": "pIS8Qc2kXR02"
   },
   "outputs": [],
   "source": [
    "colors = {'Tinggi': 'red', 'Rendah': 'black'}\n",
    "plt.figure(figsize=(12, 6))\n",
    "sns.scatterplot(\n",
    "    data=data,\n",
    "    x=data.index,\n",
    "    y='Y',\n",
    "    hue='kelas',\n",
    "    palette=colors,\n",
    "    s=25,\n",
    "    alpha=0.7\n",
    ")\n",
    "plt.title('Scatter Plot Kluster Berdasarkan Nilai Y')\n",
    "plt.xlabel('Indeks Data')\n",
    "plt.ylabel('Nilai Y')\n",
    "plt.legend(title='Kelas')\n",
    "plt.grid(True, linestyle='--')\n",
    "plt.show()"
   ]
  },
  {
   "cell_type": "markdown",
   "id": "odKrN_roUSCF",
   "metadata": {
    "id": "odKrN_roUSCF"
   },
   "source": [
    "## **K-MEDOIDS**"
   ]
  },
  {
   "cell_type": "code",
   "execution_count": null,
   "id": "cud5NyxljWWF",
   "metadata": {
    "colab": {
     "background_save": true
    },
    "id": "cud5NyxljWWF"
   },
   "outputs": [],
   "source": [
    "import pandas as pd\n",
    "import matplotlib.pyplot as plt\n",
    "import seaborn as sns\n",
    "from sklearn.metrics import silhouette_score\n",
    "from sklearn_extra.cluster import KMedoids\n",
    "\n",
    "\n",
    "x_train = data[[\"Y\"]].values"
   ]
  },
  {
   "cell_type": "code",
   "execution_count": null,
   "id": "FytEQoLSkGlb",
   "metadata": {
    "colab": {
     "background_save": true
    },
    "id": "FytEQoLSkGlb"
   },
   "outputs": [],
   "source": [
    "# --- Elbow method (menggunakan K-Medoids) ---\n",
    "cs = []\n",
    "for i in range (1,10):\n",
    "    # Menggunakan KMedoids sebagai ganti KMeans\n",
    "    kmedoids = KMedoids(n_clusters=i, random_state = 0) # <-- DIUBAH\n",
    "    kmedoids.fit(x_train)\n",
    "    # K-Medoids tidak punya atribut .inertia_, tapi .inertia_ K-Means\n",
    "    # adalah jumlah kuadrat jarak. Hal yang setara di K-Medoids adalah .inertia_ juga\n",
    "    # (walaupun dihitung sedikit berbeda, tujuannya sama).\n",
    "    cs.append(kmedoids.inertia_)\n",
    "\n",
    "plt.plot(range(1,10), cs)\n",
    "plt.title('The Elbow Method for K-Medoids')\n",
    "plt.xlabel('Number of clusters')\n",
    "plt.ylabel('Inertia')\n",
    "plt.grid(True)\n",
    "plt.show()"
   ]
  },
  {
   "cell_type": "code",
   "execution_count": null,
   "id": "V1x6D-f6yD8p",
   "metadata": {
    "colab": {
     "background_save": true
    },
    "id": "V1x6D-f6yD8p"
   },
   "outputs": [],
   "source": [
    "# --- Silhouette method (menggunakan K-Medoids) ---\n",
    "range_n_clusters = [2, 3, 4, 5, 6, 7, 8]\n",
    "for num_clusters in range_n_clusters:\n",
    "    # Menggunakan KMedoids sebagai ganti KMeans\n",
    "    kmedoids = KMedoids(n_clusters=num_clusters, random_state=0) # <-- DIUBAH\n",
    "    kmedoids.fit(x_train)\n",
    "    cluster_labels = kmedoids.labels_\n",
    "\n",
    "    silhouette_avg = silhouette_score(x_train, cluster_labels)\n",
    "    print(\"For n_cluster={0}, the silhoutte score is {1}\".format(num_clusters, silhouette_avg))"
   ]
  },
  {
   "cell_type": "code",
   "execution_count": null,
   "id": "8nciCpciyMr2",
   "metadata": {
    "colab": {
     "background_save": true
    },
    "id": "8nciCpciyMr2"
   },
   "outputs": [],
   "source": [
    "# --- Terapkan model dengan k terbaik ---\n",
    "kmedoids = KMedoids(n_clusters = 2, random_state = 0) # <-- DIUBAH\n",
    "y_cluster2 = kmedoids.fit_predict(x_train)"
   ]
  },
  {
   "cell_type": "code",
   "execution_count": null,
   "id": "R1YJl8BIyRhI",
   "metadata": {
    "colab": {
     "background_save": true
    },
    "id": "R1YJl8BIyRhI"
   },
   "outputs": [],
   "source": [
    "data['kelas_2'] = y_cluster2\n",
    "print(\"\\nPusat Cluster (Medoids):\")\n",
    "print(kmedoids.cluster_centers_) # <-- Ini adalah data point asli"
   ]
  },
  {
   "cell_type": "code",
   "execution_count": null,
   "id": "6iRTCJyu1ajS",
   "metadata": {
    "colab": {
     "background_save": true
    },
    "id": "6iRTCJyu1ajS"
   },
   "outputs": [],
   "source": [
    "data[\"kelas_2\"] = data[\"kelas_2\"].astype(\"object\")\n",
    "\n",
    "data.loc[data.kelas_2==0, \"kelas_2\"] = \"Rendah\"\n",
    "data.loc[data.kelas_2==1, \"kelas_2\"] = \"Tinggi\""
   ]
  },
  {
   "cell_type": "code",
   "execution_count": null,
   "id": "faG8reWi1ofL",
   "metadata": {
    "colab": {
     "background_save": true
    },
    "id": "faG8reWi1ofL"
   },
   "outputs": [],
   "source": [
    "data.groupby([\"kelas_2\"]).count()"
   ]
  },
  {
   "cell_type": "code",
   "execution_count": null,
   "id": "nG1MBCZUydoe",
   "metadata": {
    "colab": {
     "background_save": true
    },
    "id": "nG1MBCZUydoe"
   },
   "outputs": [],
   "source": [
    "colors = {'Tinggi': 'red', 'Rendah': 'black'}\n",
    "plt.figure(figsize=(12, 6))\n",
    "sns.scatterplot(\n",
    "    data=data,\n",
    "    x=data.index,\n",
    "    y='Y',\n",
    "    hue='kelas_2',\n",
    "    palette=colors,\n",
    "    s=25,\n",
    "    alpha=0.7\n",
    ")\n",
    "plt.title('Scatter Plot Kluster K-Medoids')\n",
    "plt.xlabel('Indeks Data')\n",
    "plt.ylabel('Nilai Y')\n",
    "plt.legend(title='Kelas')\n",
    "plt.grid(True, linestyle='--')\n",
    "plt.show()"
   ]
  },
  {
   "cell_type": "code",
   "execution_count": null,
   "id": "s6A2VpSw1Di5",
   "metadata": {
    "colab": {
     "background_save": true
    },
    "id": "s6A2VpSw1Di5"
   },
   "outputs": [],
   "source": [
    "data"
   ]
  },
  {
   "cell_type": "markdown",
   "id": "P6UZ57ulMLwi",
   "metadata": {
    "id": "P6UZ57ulMLwi"
   },
   "source": [
    "# **6. PETA HASIL CLUSTERING**"
   ]
  },
  {
   "cell_type": "code",
   "execution_count": null,
   "id": "MqabpRy2yfef",
   "metadata": {
    "colab": {
     "background_save": true
    },
    "id": "MqabpRy2yfef"
   },
   "outputs": [],
   "source": [
    "gdf[\"Provinsi\"] = gdf[\"Propinsi\"].map(norm_prov)\n",
    "gdf_java = gdf[gdf[\"Provinsi\"].isin(java_provinces)].to_crs(4326).copy()\n",
    "\n",
    "# --- 4) Ambil label kelas per provinsi (pakai modus) ---\n",
    "kelas_1 = data.groupby(\"Provinsi\")[\"kelas\"].agg(lambda x: x.mode()[0]).reset_index(name=\"kelas_1\")\n",
    "kelas_2 = data.groupby(\"Provinsi\")[\"kelas_2\"].agg(lambda x: x.mode()[0]).reset_index(name=\"kelas_2\")\n",
    "gdf_java = gdf_java.merge(kelas_1, on=\"Provinsi\", how=\"left\").merge(kelas_2, on=\"Provinsi\", how=\"left\")\n",
    "\n",
    "# --- 5) Pemetaan warna ---\n",
    "color_map = {\"Tinggi\": \"red\", \"Rendah\": \"pink\"}\n",
    "legend_patches = [\n",
    "    Patch(facecolor=\"red\", edgecolor=\"black\", label=\"Tinggi\"),\n",
    "    Patch(facecolor=\"pink\", edgecolor=\"black\", label=\"Rendah\")\n",
    "]\n",
    "\n",
    "# --------------- PLOT 1: kelas_1 (K-Means) ---------------\n",
    "fig1, ax1 = plt.subplots(figsize=(13,8))\n",
    "gdf_java.plot(\n",
    "    ax=ax1,\n",
    "    color=gdf_java[\"kelas_1\"].map(color_map),\n",
    "    edgecolor=\"black\", linewidth=0.8\n",
    ")\n",
    "for _, r in gdf_java.iterrows():\n",
    "    pt = r.geometry.representative_point()\n",
    "    ax1.text(pt.x, pt.y, r[\"Provinsi\"], ha=\"center\", va=\"center\", fontsize=8, weight=\"bold\")\n",
    "ax1.set_axis_off()\n",
    "ax1.set_title(\"Peta Hasil Clustering (K-Means Clustering)\", fontsize=13, weight=\"bold\")\n",
    "ax1.legend(handles=legend_patches, loc=\"lower left\", frameon=True, title=\"Kategori\")\n",
    "plt.tight_layout()\n",
    "plt.show()"
   ]
  },
  {
   "cell_type": "code",
   "execution_count": null,
   "id": "LHKgBQL_E2HJ",
   "metadata": {
    "colab": {
     "background_save": true
    },
    "id": "LHKgBQL_E2HJ"
   },
   "outputs": [],
   "source": [
    "# --------------- PLOT 2: kelas_2 (K-Medoids) ---------------\n",
    "fig2, ax2 = plt.subplots(figsize=(13,8))\n",
    "gdf_java.plot(\n",
    "    ax=ax2,\n",
    "    color=gdf_java[\"kelas_2\"].map(color_map),\n",
    "    edgecolor=\"black\", linewidth=0.8\n",
    ")\n",
    "for _, r in gdf_java.iterrows():\n",
    "    pt = r.geometry.representative_point()\n",
    "    ax2.text(pt.x, pt.y, r[\"Provinsi\"], ha=\"center\", va=\"center\", fontsize=8, weight=\"bold\")\n",
    "ax2.set_axis_off()\n",
    "ax2.set_title(\"Peta Hasil Clustering (K-Medoids Clustering)\", fontsize=13, weight=\"bold\")\n",
    "ax2.legend(handles=legend_patches, loc=\"lower left\", frameon=True, title=\"Kategori\")\n",
    "plt.tight_layout()\n",
    "plt.show()"
   ]
  }
 ],
 "metadata": {
  "accelerator": "GPU",
  "colab": {
   "collapsed_sections": [
    "biyGNuYSbRDZ",
    "P6UZ57ulMLwi"
   ],
   "gpuType": "T4",
   "machine_shape": "hm",
   "provenance": []
  },
  "kernelspec": {
   "display_name": "Python 3 (ipykernel)",
   "language": "python",
   "name": "python3"
  },
  "language_info": {
   "codemirror_mode": {
    "name": "ipython",
    "version": 3
   },
   "file_extension": ".py",
   "mimetype": "text/x-python",
   "name": "python",
   "nbconvert_exporter": "python",
   "pygments_lexer": "ipython3",
   "version": "3.12.9"
  },
  "widgets": {
   "application/vnd.jupyter.widget-state+json": {
    "08a5f749b359431cb363233c3390a01d": {
     "model_module": "@jupyter-widgets/base",
     "model_module_version": "1.2.0",
     "model_name": "LayoutModel",
     "state": {
      "_model_module": "@jupyter-widgets/base",
      "_model_module_version": "1.2.0",
      "_model_name": "LayoutModel",
      "_view_count": null,
      "_view_module": "@jupyter-widgets/base",
      "_view_module_version": "1.2.0",
      "_view_name": "LayoutView",
      "align_content": null,
      "align_items": null,
      "align_self": null,
      "border": null,
      "bottom": null,
      "display": null,
      "flex": null,
      "flex_flow": null,
      "grid_area": null,
      "grid_auto_columns": null,
      "grid_auto_flow": null,
      "grid_auto_rows": null,
      "grid_column": null,
      "grid_gap": null,
      "grid_row": null,
      "grid_template_areas": null,
      "grid_template_columns": null,
      "grid_template_rows": null,
      "height": null,
      "justify_content": null,
      "justify_items": null,
      "left": null,
      "margin": null,
      "max_height": null,
      "max_width": null,
      "min_height": null,
      "min_width": null,
      "object_fit": null,
      "object_position": null,
      "order": null,
      "overflow": null,
      "overflow_x": null,
      "overflow_y": null,
      "padding": null,
      "right": null,
      "top": null,
      "visibility": null,
      "width": null
     }
    },
    "0d1229134f564799a03e85c0403a2c25": {
     "model_module": "@jupyter-widgets/base",
     "model_module_version": "1.2.0",
     "model_name": "LayoutModel",
     "state": {
      "_model_module": "@jupyter-widgets/base",
      "_model_module_version": "1.2.0",
      "_model_name": "LayoutModel",
      "_view_count": null,
      "_view_module": "@jupyter-widgets/base",
      "_view_module_version": "1.2.0",
      "_view_name": "LayoutView",
      "align_content": null,
      "align_items": null,
      "align_self": null,
      "border": null,
      "bottom": null,
      "display": null,
      "flex": null,
      "flex_flow": null,
      "grid_area": null,
      "grid_auto_columns": null,
      "grid_auto_flow": null,
      "grid_auto_rows": null,
      "grid_column": null,
      "grid_gap": null,
      "grid_row": null,
      "grid_template_areas": null,
      "grid_template_columns": null,
      "grid_template_rows": null,
      "height": null,
      "justify_content": null,
      "justify_items": null,
      "left": null,
      "margin": null,
      "max_height": null,
      "max_width": null,
      "min_height": null,
      "min_width": null,
      "object_fit": null,
      "object_position": null,
      "order": null,
      "overflow": null,
      "overflow_x": null,
      "overflow_y": null,
      "padding": null,
      "right": null,
      "top": null,
      "visibility": null,
      "width": "280px"
     }
    },
    "11d63cd48f3a4e9eaf478711f31834e7": {
     "model_module": "@jupyter-widgets/controls",
     "model_module_version": "1.5.0",
     "model_name": "HBoxModel",
     "state": {
      "_dom_classes": [],
      "_model_module": "@jupyter-widgets/controls",
      "_model_module_version": "1.5.0",
      "_model_name": "HBoxModel",
      "_view_count": null,
      "_view_module": "@jupyter-widgets/controls",
      "_view_module_version": "1.5.0",
      "_view_name": "HBoxView",
      "box_style": "",
      "children": [
       "IPY_MODEL_630dc740fbc04f6b847b8ab460e8918c",
       "IPY_MODEL_4ce7a5bd96a446279d714553ff7f321f"
      ],
      "layout": "IPY_MODEL_274b2e85fbda402e867f429ceb6c8616"
     }
    },
    "1a985c993e3642869ea9b1bcb7ad4cbf": {
     "model_module": "@jupyter-widgets/base",
     "model_module_version": "1.2.0",
     "model_name": "LayoutModel",
     "state": {
      "_model_module": "@jupyter-widgets/base",
      "_model_module_version": "1.2.0",
      "_model_name": "LayoutModel",
      "_view_count": null,
      "_view_module": "@jupyter-widgets/base",
      "_view_module_version": "1.2.0",
      "_view_name": "LayoutView",
      "align_content": null,
      "align_items": null,
      "align_self": null,
      "border": null,
      "bottom": null,
      "display": null,
      "flex": null,
      "flex_flow": null,
      "grid_area": null,
      "grid_auto_columns": null,
      "grid_auto_flow": null,
      "grid_auto_rows": null,
      "grid_column": null,
      "grid_gap": null,
      "grid_row": null,
      "grid_template_areas": null,
      "grid_template_columns": null,
      "grid_template_rows": null,
      "height": null,
      "justify_content": null,
      "justify_items": null,
      "left": null,
      "margin": null,
      "max_height": null,
      "max_width": null,
      "min_height": null,
      "min_width": null,
      "object_fit": null,
      "object_position": null,
      "order": null,
      "overflow": null,
      "overflow_x": null,
      "overflow_y": null,
      "padding": null,
      "right": null,
      "top": null,
      "visibility": null,
      "width": "280px"
     }
    },
    "1b41689191da45eba99dae73af0c0370": {
     "model_module": "@jupyter-widgets/base",
     "model_module_version": "1.2.0",
     "model_name": "LayoutModel",
     "state": {
      "_model_module": "@jupyter-widgets/base",
      "_model_module_version": "1.2.0",
      "_model_name": "LayoutModel",
      "_view_count": null,
      "_view_module": "@jupyter-widgets/base",
      "_view_module_version": "1.2.0",
      "_view_name": "LayoutView",
      "align_content": null,
      "align_items": null,
      "align_self": null,
      "border": null,
      "bottom": null,
      "display": null,
      "flex": null,
      "flex_flow": null,
      "grid_area": null,
      "grid_auto_columns": null,
      "grid_auto_flow": null,
      "grid_auto_rows": null,
      "grid_column": null,
      "grid_gap": null,
      "grid_row": null,
      "grid_template_areas": null,
      "grid_template_columns": null,
      "grid_template_rows": null,
      "height": null,
      "justify_content": null,
      "justify_items": null,
      "left": null,
      "margin": null,
      "max_height": null,
      "max_width": null,
      "min_height": null,
      "min_width": null,
      "object_fit": null,
      "object_position": null,
      "order": null,
      "overflow": null,
      "overflow_x": null,
      "overflow_y": null,
      "padding": null,
      "right": null,
      "top": null,
      "visibility": null,
      "width": "280px"
     }
    },
    "1c9aa0883a704fedaefa4f4c95540340": {
     "model_module": "@jupyter-widgets/controls",
     "model_module_version": "1.5.0",
     "model_name": "HBoxModel",
     "state": {
      "_dom_classes": [],
      "_model_module": "@jupyter-widgets/controls",
      "_model_module_version": "1.5.0",
      "_model_name": "HBoxModel",
      "_view_count": null,
      "_view_module": "@jupyter-widgets/controls",
      "_view_module_version": "1.5.0",
      "_view_name": "HBoxView",
      "box_style": "",
      "children": [
       "IPY_MODEL_58dec32452244ccc8eacaa40c172f863",
       "IPY_MODEL_5995719f3d3741a0a21be8dcdd71fb14"
      ],
      "layout": "IPY_MODEL_3b6ad44a446a4035be33092d1bee6e85"
     }
    },
    "1d7dc856d3c740d4882d0aaeb58ad7fa": {
     "model_module": "@jupyter-widgets/base",
     "model_module_version": "1.2.0",
     "model_name": "LayoutModel",
     "state": {
      "_model_module": "@jupyter-widgets/base",
      "_model_module_version": "1.2.0",
      "_model_name": "LayoutModel",
      "_view_count": null,
      "_view_module": "@jupyter-widgets/base",
      "_view_module_version": "1.2.0",
      "_view_name": "LayoutView",
      "align_content": null,
      "align_items": null,
      "align_self": null,
      "border": null,
      "bottom": null,
      "display": null,
      "flex": null,
      "flex_flow": null,
      "grid_area": null,
      "grid_auto_columns": null,
      "grid_auto_flow": null,
      "grid_auto_rows": null,
      "grid_column": null,
      "grid_gap": null,
      "grid_row": null,
      "grid_template_areas": null,
      "grid_template_columns": null,
      "grid_template_rows": null,
      "height": null,
      "justify_content": null,
      "justify_items": null,
      "left": null,
      "margin": null,
      "max_height": null,
      "max_width": null,
      "min_height": null,
      "min_width": null,
      "object_fit": null,
      "object_position": null,
      "order": null,
      "overflow": null,
      "overflow_x": null,
      "overflow_y": null,
      "padding": null,
      "right": null,
      "top": null,
      "visibility": null,
      "width": null
     }
    },
    "217d2400fa0d46aead69a6947524e3b8": {
     "model_module": "@jupyter-widgets/controls",
     "model_module_version": "1.5.0",
     "model_name": "FloatTextModel",
     "state": {
      "_dom_classes": [],
      "_model_module": "@jupyter-widgets/controls",
      "_model_module_version": "1.5.0",
      "_model_name": "FloatTextModel",
      "_view_count": null,
      "_view_module": "@jupyter-widgets/controls",
      "_view_module_version": "1.5.0",
      "_view_name": "FloatTextView",
      "continuous_update": false,
      "description": "X1",
      "description_tooltip": null,
      "disabled": false,
      "layout": "IPY_MODEL_1a985c993e3642869ea9b1bcb7ad4cbf",
      "step": null,
      "style": "IPY_MODEL_e9598fbc5e7544afaf1bff6dfda7c638",
      "value": 51.9
     }
    },
    "274b2e85fbda402e867f429ceb6c8616": {
     "model_module": "@jupyter-widgets/base",
     "model_module_version": "1.2.0",
     "model_name": "LayoutModel",
     "state": {
      "_model_module": "@jupyter-widgets/base",
      "_model_module_version": "1.2.0",
      "_model_name": "LayoutModel",
      "_view_count": null,
      "_view_module": "@jupyter-widgets/base",
      "_view_module_version": "1.2.0",
      "_view_name": "LayoutView",
      "align_content": null,
      "align_items": null,
      "align_self": null,
      "border": null,
      "bottom": null,
      "display": null,
      "flex": null,
      "flex_flow": null,
      "grid_area": null,
      "grid_auto_columns": null,
      "grid_auto_flow": null,
      "grid_auto_rows": null,
      "grid_column": null,
      "grid_gap": null,
      "grid_row": null,
      "grid_template_areas": null,
      "grid_template_columns": null,
      "grid_template_rows": null,
      "height": null,
      "justify_content": null,
      "justify_items": null,
      "left": null,
      "margin": null,
      "max_height": null,
      "max_width": null,
      "min_height": null,
      "min_width": null,
      "object_fit": null,
      "object_position": null,
      "order": null,
      "overflow": null,
      "overflow_x": null,
      "overflow_y": null,
      "padding": null,
      "right": null,
      "top": null,
      "visibility": null,
      "width": null
     }
    },
    "29b907c29e244b4eb917618744f825ca": {
     "model_module": "@jupyter-widgets/base",
     "model_module_version": "1.2.0",
     "model_name": "LayoutModel",
     "state": {
      "_model_module": "@jupyter-widgets/base",
      "_model_module_version": "1.2.0",
      "_model_name": "LayoutModel",
      "_view_count": null,
      "_view_module": "@jupyter-widgets/base",
      "_view_module_version": "1.2.0",
      "_view_name": "LayoutView",
      "align_content": null,
      "align_items": null,
      "align_self": null,
      "border": null,
      "bottom": null,
      "display": null,
      "flex": null,
      "flex_flow": null,
      "grid_area": null,
      "grid_auto_columns": null,
      "grid_auto_flow": null,
      "grid_auto_rows": null,
      "grid_column": null,
      "grid_gap": null,
      "grid_row": null,
      "grid_template_areas": null,
      "grid_template_columns": null,
      "grid_template_rows": null,
      "height": null,
      "justify_content": null,
      "justify_items": null,
      "left": null,
      "margin": null,
      "max_height": null,
      "max_width": null,
      "min_height": null,
      "min_width": null,
      "object_fit": null,
      "object_position": null,
      "order": null,
      "overflow": null,
      "overflow_x": null,
      "overflow_y": null,
      "padding": null,
      "right": null,
      "top": null,
      "visibility": null,
      "width": null
     }
    },
    "35d9fe9e4b5445c28e9c83399980dc1e": {
     "model_module": "@jupyter-widgets/controls",
     "model_module_version": "1.5.0",
     "model_name": "VBoxModel",
     "state": {
      "_dom_classes": [],
      "_model_module": "@jupyter-widgets/controls",
      "_model_module_version": "1.5.0",
      "_model_name": "VBoxModel",
      "_view_count": null,
      "_view_module": "@jupyter-widgets/controls",
      "_view_module_version": "1.5.0",
      "_view_name": "VBoxView",
      "box_style": "",
      "children": [
       "IPY_MODEL_e63d216c72394953bef43113d3f3a42f",
       "IPY_MODEL_bf1de791a32b4471a1988f270591e141",
       "IPY_MODEL_1c9aa0883a704fedaefa4f4c95540340",
       "IPY_MODEL_91a1ec7f3ff64d34bb5209abb99e78a5",
       "IPY_MODEL_485ddb5b15a041269514b59aec3f9715",
       "IPY_MODEL_568b7e480cfc4b00a3d3ba875b6173a3"
      ],
      "layout": "IPY_MODEL_29b907c29e244b4eb917618744f825ca"
     }
    },
    "37f852594fb844c7a6424a66b2711d68": {
     "model_module": "@jupyter-widgets/base",
     "model_module_version": "1.2.0",
     "model_name": "LayoutModel",
     "state": {
      "_model_module": "@jupyter-widgets/base",
      "_model_module_version": "1.2.0",
      "_model_name": "LayoutModel",
      "_view_count": null,
      "_view_module": "@jupyter-widgets/base",
      "_view_module_version": "1.2.0",
      "_view_name": "LayoutView",
      "align_content": null,
      "align_items": null,
      "align_self": null,
      "border": null,
      "bottom": null,
      "display": null,
      "flex": null,
      "flex_flow": null,
      "grid_area": null,
      "grid_auto_columns": null,
      "grid_auto_flow": null,
      "grid_auto_rows": null,
      "grid_column": null,
      "grid_gap": null,
      "grid_row": null,
      "grid_template_areas": null,
      "grid_template_columns": null,
      "grid_template_rows": null,
      "height": null,
      "justify_content": null,
      "justify_items": null,
      "left": null,
      "margin": null,
      "max_height": null,
      "max_width": null,
      "min_height": null,
      "min_width": null,
      "object_fit": null,
      "object_position": null,
      "order": null,
      "overflow": null,
      "overflow_x": null,
      "overflow_y": null,
      "padding": null,
      "right": null,
      "top": null,
      "visibility": null,
      "width": null
     }
    },
    "3b6ad44a446a4035be33092d1bee6e85": {
     "model_module": "@jupyter-widgets/base",
     "model_module_version": "1.2.0",
     "model_name": "LayoutModel",
     "state": {
      "_model_module": "@jupyter-widgets/base",
      "_model_module_version": "1.2.0",
      "_model_name": "LayoutModel",
      "_view_count": null,
      "_view_module": "@jupyter-widgets/base",
      "_view_module_version": "1.2.0",
      "_view_name": "LayoutView",
      "align_content": null,
      "align_items": null,
      "align_self": null,
      "border": null,
      "bottom": null,
      "display": null,
      "flex": null,
      "flex_flow": null,
      "grid_area": null,
      "grid_auto_columns": null,
      "grid_auto_flow": null,
      "grid_auto_rows": null,
      "grid_column": null,
      "grid_gap": null,
      "grid_row": null,
      "grid_template_areas": null,
      "grid_template_columns": null,
      "grid_template_rows": null,
      "height": null,
      "justify_content": null,
      "justify_items": null,
      "left": null,
      "margin": null,
      "max_height": null,
      "max_width": null,
      "min_height": null,
      "min_width": null,
      "object_fit": null,
      "object_position": null,
      "order": null,
      "overflow": null,
      "overflow_x": null,
      "overflow_y": null,
      "padding": null,
      "right": null,
      "top": null,
      "visibility": null,
      "width": null
     }
    },
    "4069d61b04fe45c8ab4596991ff4d76b": {
     "model_module": "@jupyter-widgets/controls",
     "model_module_version": "1.5.0",
     "model_name": "ButtonStyleModel",
     "state": {
      "_model_module": "@jupyter-widgets/controls",
      "_model_module_version": "1.5.0",
      "_model_name": "ButtonStyleModel",
      "_view_count": null,
      "_view_module": "@jupyter-widgets/base",
      "_view_module_version": "1.2.0",
      "_view_name": "StyleView",
      "button_color": null,
      "font_weight": ""
     }
    },
    "416c9b06961b4d48b288afe29e523762": {
     "model_module": "@jupyter-widgets/base",
     "model_module_version": "1.2.0",
     "model_name": "LayoutModel",
     "state": {
      "_model_module": "@jupyter-widgets/base",
      "_model_module_version": "1.2.0",
      "_model_name": "LayoutModel",
      "_view_count": null,
      "_view_module": "@jupyter-widgets/base",
      "_view_module_version": "1.2.0",
      "_view_name": "LayoutView",
      "align_content": null,
      "align_items": null,
      "align_self": null,
      "border": null,
      "bottom": null,
      "display": null,
      "flex": null,
      "flex_flow": null,
      "grid_area": null,
      "grid_auto_columns": null,
      "grid_auto_flow": null,
      "grid_auto_rows": null,
      "grid_column": null,
      "grid_gap": null,
      "grid_row": null,
      "grid_template_areas": null,
      "grid_template_columns": null,
      "grid_template_rows": null,
      "height": null,
      "justify_content": null,
      "justify_items": null,
      "left": null,
      "margin": null,
      "max_height": null,
      "max_width": null,
      "min_height": null,
      "min_width": null,
      "object_fit": null,
      "object_position": null,
      "order": null,
      "overflow": null,
      "overflow_x": null,
      "overflow_y": null,
      "padding": null,
      "right": null,
      "top": null,
      "visibility": null,
      "width": "280px"
     }
    },
    "485ddb5b15a041269514b59aec3f9715": {
     "model_module": "@jupyter-widgets/controls",
     "model_module_version": "1.5.0",
     "model_name": "HBoxModel",
     "state": {
      "_dom_classes": [],
      "_model_module": "@jupyter-widgets/controls",
      "_model_module_version": "1.5.0",
      "_model_name": "HBoxModel",
      "_view_count": null,
      "_view_module": "@jupyter-widgets/controls",
      "_view_module_version": "1.5.0",
      "_view_name": "HBoxView",
      "box_style": "",
      "children": [
       "IPY_MODEL_6ebe89239bbd4607b2a82ad7e703d4d9",
       "IPY_MODEL_510c23cfb9ff4522a523458b5150a764"
      ],
      "layout": "IPY_MODEL_65363a0553c743049f5ae3640a2158fe"
     }
    },
    "4a4a8cc0e6864ea59ac2bca8d6e7bb13": {
     "model_module": "@jupyter-widgets/base",
     "model_module_version": "1.2.0",
     "model_name": "LayoutModel",
     "state": {
      "_model_module": "@jupyter-widgets/base",
      "_model_module_version": "1.2.0",
      "_model_name": "LayoutModel",
      "_view_count": null,
      "_view_module": "@jupyter-widgets/base",
      "_view_module_version": "1.2.0",
      "_view_name": "LayoutView",
      "align_content": null,
      "align_items": null,
      "align_self": null,
      "border": null,
      "bottom": null,
      "display": null,
      "flex": null,
      "flex_flow": null,
      "grid_area": null,
      "grid_auto_columns": null,
      "grid_auto_flow": null,
      "grid_auto_rows": null,
      "grid_column": null,
      "grid_gap": null,
      "grid_row": null,
      "grid_template_areas": null,
      "grid_template_columns": null,
      "grid_template_rows": null,
      "height": null,
      "justify_content": null,
      "justify_items": null,
      "left": null,
      "margin": null,
      "max_height": null,
      "max_width": null,
      "min_height": null,
      "min_width": null,
      "object_fit": null,
      "object_position": null,
      "order": null,
      "overflow": null,
      "overflow_x": null,
      "overflow_y": null,
      "padding": null,
      "right": null,
      "top": null,
      "visibility": null,
      "width": null
     }
    },
    "4abf8e077bc74f25bd6869c5174d0110": {
     "model_module": "@jupyter-widgets/controls",
     "model_module_version": "1.5.0",
     "model_name": "ButtonStyleModel",
     "state": {
      "_model_module": "@jupyter-widgets/controls",
      "_model_module_version": "1.5.0",
      "_model_name": "ButtonStyleModel",
      "_view_count": null,
      "_view_module": "@jupyter-widgets/base",
      "_view_module_version": "1.2.0",
      "_view_name": "StyleView",
      "button_color": null,
      "font_weight": ""
     }
    },
    "4ce7a5bd96a446279d714553ff7f321f": {
     "model_module": "@jupyter-widgets/controls",
     "model_module_version": "1.5.0",
     "model_name": "ButtonModel",
     "state": {
      "_dom_classes": [],
      "_model_module": "@jupyter-widgets/controls",
      "_model_module_version": "1.5.0",
      "_model_name": "ButtonModel",
      "_view_count": null,
      "_view_module": "@jupyter-widgets/controls",
      "_view_module_version": "1.5.0",
      "_view_name": "ButtonView",
      "button_style": "",
      "description": "Reset ke Median",
      "disabled": false,
      "icon": "refresh",
      "layout": "IPY_MODEL_61d2041b166645fc8e7e62e11be6d845",
      "style": "IPY_MODEL_4069d61b04fe45c8ab4596991ff4d76b",
      "tooltip": ""
     }
    },
    "510c23cfb9ff4522a523458b5150a764": {
     "model_module": "@jupyter-widgets/controls",
     "model_module_version": "1.5.0",
     "model_name": "ButtonModel",
     "state": {
      "_dom_classes": [],
      "_model_module": "@jupyter-widgets/controls",
      "_model_module_version": "1.5.0",
      "_model_name": "ButtonModel",
      "_view_count": null,
      "_view_module": "@jupyter-widgets/controls",
      "_view_module_version": "1.5.0",
      "_view_name": "ButtonView",
      "button_style": "",
      "description": "Reset ke Median",
      "disabled": false,
      "icon": "refresh",
      "layout": "IPY_MODEL_ef4b9b68cccc4b4daf994044295465cd",
      "style": "IPY_MODEL_dfcb924180c7474786c9fefbcff44643",
      "tooltip": ""
     }
    },
    "568b7e480cfc4b00a3d3ba875b6173a3": {
     "model_module": "@jupyter-widgets/output",
     "model_module_version": "1.0.0",
     "model_name": "OutputModel",
     "state": {
      "_dom_classes": [],
      "_model_module": "@jupyter-widgets/output",
      "_model_module_version": "1.0.0",
      "_model_name": "OutputModel",
      "_view_count": null,
      "_view_module": "@jupyter-widgets/output",
      "_view_module_version": "1.0.0",
      "_view_name": "OutputView",
      "layout": "IPY_MODEL_7b7cba7bd1ab495ab9483469ed8a3a5c",
      "msg_id": "",
      "outputs": [
       {
        "data": {
         "application/vnd.google.colaboratory.intrinsic+json": {
          "summary": "{\n  \"name\": \"display(ui)\",\n  \"rows\": 5,\n  \"fields\": [\n    {\n      \"column\": \"Fitur\",\n      \"properties\": {\n        \"dtype\": \"string\",\n        \"num_unique_values\": 5,\n        \"samples\": [\n          \"X2\",\n          \"X5\",\n          \"X3\"\n        ],\n        \"semantic_type\": \"\",\n        \"description\": \"\"\n      }\n    },\n    {\n      \"column\": \"Nilai\",\n      \"properties\": {\n        \"dtype\": \"number\",\n        \"std\": 17715.08265699881,\n        \"min\": 8.74,\n        \"max\": 39931.0,\n        \"num_unique_values\": 5,\n        \"samples\": [\n          39931.0,\n          8.74,\n          1167.0\n        ],\n        \"semantic_type\": \"\",\n        \"description\": \"\"\n      }\n    },\n    {\n      \"column\": \"Min(latih)\",\n      \"properties\": {\n        \"dtype\": \"number\",\n        \"std\": 8881.0375628628,\n        \"min\": 3.47,\n        \"max\": 19876.0,\n        \"num_unique_values\": 5,\n        \"samples\": [\n          19876.0,\n          5.58,\n          28.5\n        ],\n        \"semantic_type\": \"\",\n        \"description\": \"\"\n      }\n    },\n    {\n      \"column\": \"Max(latih)\",\n      \"properties\": {\n        \"dtype\": \"number\",\n        \"std\": 563955.8529879344,\n        \"min\": 12.3,\n        \"max\": 1147562.0,\n        \"num_unique_values\": 5,\n        \"samples\": [\n          883715.0,\n          12.3,\n          1147562.0\n        ],\n        \"semantic_type\": \"\",\n        \"description\": \"\"\n      }\n    }\n  ]\n}",
          "type": "dataframe"
         },
         "text/html": "\n  <div id=\"df-3b0a18ba-0357-4cd8-a4d3-02ebc865aad8\" class=\"colab-df-container\">\n    <div>\n<style scoped>\n    .dataframe tbody tr th:only-of-type {\n        vertical-align: middle;\n    }\n\n    .dataframe tbody tr th {\n        vertical-align: top;\n    }\n\n    .dataframe thead th {\n        text-align: right;\n    }\n</style>\n<table border=\"1\" class=\"dataframe\">\n  <thead>\n    <tr style=\"text-align: right;\">\n      <th></th>\n      <th>Fitur</th>\n      <th>Nilai</th>\n      <th>Min(latih)</th>\n      <th>Max(latih)</th>\n    </tr>\n  </thead>\n  <tbody>\n    <tr>\n      <th>0</th>\n      <td>X1</td>\n      <td>51.90</td>\n      <td>32.12</td>\n      <td>65.38</td>\n    </tr>\n    <tr>\n      <th>1</th>\n      <td>X2</td>\n      <td>39931.00</td>\n      <td>19876.00</td>\n      <td>883715.00</td>\n    </tr>\n    <tr>\n      <th>2</th>\n      <td>X3</td>\n      <td>1167.00</td>\n      <td>28.50</td>\n      <td>1147562.00</td>\n    </tr>\n    <tr>\n      <th>3</th>\n      <td>X4</td>\n      <td>106.61</td>\n      <td>3.47</td>\n      <td>474.74</td>\n    </tr>\n    <tr>\n      <th>4</th>\n      <td>X5</td>\n      <td>8.74</td>\n      <td>5.58</td>\n      <td>12.30</td>\n    </tr>\n  </tbody>\n</table>\n</div>\n    <div class=\"colab-df-buttons\">\n\n  <div class=\"colab-df-container\">\n    <button class=\"colab-df-convert\" onclick=\"convertToInteractive('df-3b0a18ba-0357-4cd8-a4d3-02ebc865aad8')\"\n            title=\"Convert this dataframe to an interactive table.\"\n            style=\"display:none;\">\n\n  <svg xmlns=\"http://www.w3.org/2000/svg\" height=\"24px\" viewBox=\"0 -960 960 960\">\n    <path d=\"M120-120v-720h720v720H120Zm60-500h600v-160H180v160Zm220 220h160v-160H400v160Zm0 220h160v-160H400v160ZM180-400h160v-160H180v160Zm440 0h160v-160H620v160ZM180-180h160v-160H180v160Zm440 0h160v-160H620v160Z\"/>\n  </svg>\n    </button>\n\n  <style>\n    .colab-df-container {\n      display:flex;\n      gap: 12px;\n    }\n\n    .colab-df-convert {\n      background-color: #E8F0FE;\n      border: none;\n      border-radius: 50%;\n      cursor: pointer;\n      display: none;\n      fill: #1967D2;\n      height: 32px;\n      padding: 0 0 0 0;\n      width: 32px;\n    }\n\n    .colab-df-convert:hover {\n      background-color: #E2EBFA;\n      box-shadow: 0px 1px 2px rgba(60, 64, 67, 0.3), 0px 1px 3px 1px rgba(60, 64, 67, 0.15);\n      fill: #174EA6;\n    }\n\n    .colab-df-buttons div {\n      margin-bottom: 4px;\n    }\n\n    [theme=dark] .colab-df-convert {\n      background-color: #3B4455;\n      fill: #D2E3FC;\n    }\n\n    [theme=dark] .colab-df-convert:hover {\n      background-color: #434B5C;\n      box-shadow: 0px 1px 3px 1px rgba(0, 0, 0, 0.15);\n      filter: drop-shadow(0px 1px 2px rgba(0, 0, 0, 0.3));\n      fill: #FFFFFF;\n    }\n  </style>\n\n    <script>\n      const buttonEl =\n        document.querySelector('#df-3b0a18ba-0357-4cd8-a4d3-02ebc865aad8 button.colab-df-convert');\n      buttonEl.style.display =\n        google.colab.kernel.accessAllowed ? 'block' : 'none';\n\n      async function convertToInteractive(key) {\n        const element = document.querySelector('#df-3b0a18ba-0357-4cd8-a4d3-02ebc865aad8');\n        const dataTable =\n          await google.colab.kernel.invokeFunction('convertToInteractive',\n                                                    [key], {});\n        if (!dataTable) return;\n\n        const docLinkHtml = 'Like what you see? Visit the ' +\n          '<a target=\"_blank\" href=https://colab.research.google.com/notebooks/data_table.ipynb>data table notebook</a>'\n          + ' to learn more about interactive tables.';\n        element.innerHTML = '';\n        dataTable['output_type'] = 'display_data';\n        await google.colab.output.renderOutput(dataTable, element);\n        const docLink = document.createElement('div');\n        docLink.innerHTML = docLinkHtml;\n        element.appendChild(docLink);\n      }\n    </script>\n  </div>\n\n\n    <div id=\"df-212bb6c5-3ddd-476c-aab4-b30497737010\">\n      <button class=\"colab-df-quickchart\" onclick=\"quickchart('df-212bb6c5-3ddd-476c-aab4-b30497737010')\"\n                title=\"Suggest charts\"\n                style=\"display:none;\">\n\n<svg xmlns=\"http://www.w3.org/2000/svg\" height=\"24px\"viewBox=\"0 0 24 24\"\n     width=\"24px\">\n    <g>\n        <path d=\"M19 3H5c-1.1 0-2 .9-2 2v14c0 1.1.9 2 2 2h14c1.1 0 2-.9 2-2V5c0-1.1-.9-2-2-2zM9 17H7v-7h2v7zm4 0h-2V7h2v10zm4 0h-2v-4h2v4z\"/>\n    </g>\n</svg>\n      </button>\n\n<style>\n  .colab-df-quickchart {\n      --bg-color: #E8F0FE;\n      --fill-color: #1967D2;\n      --hover-bg-color: #E2EBFA;\n      --hover-fill-color: #174EA6;\n      --disabled-fill-color: #AAA;\n      --disabled-bg-color: #DDD;\n  }\n\n  [theme=dark] .colab-df-quickchart {\n      --bg-color: #3B4455;\n      --fill-color: #D2E3FC;\n      --hover-bg-color: #434B5C;\n      --hover-fill-color: #FFFFFF;\n      --disabled-bg-color: #3B4455;\n      --disabled-fill-color: #666;\n  }\n\n  .colab-df-quickchart {\n    background-color: var(--bg-color);\n    border: none;\n    border-radius: 50%;\n    cursor: pointer;\n    display: none;\n    fill: var(--fill-color);\n    height: 32px;\n    padding: 0;\n    width: 32px;\n  }\n\n  .colab-df-quickchart:hover {\n    background-color: var(--hover-bg-color);\n    box-shadow: 0 1px 2px rgba(60, 64, 67, 0.3), 0 1px 3px 1px rgba(60, 64, 67, 0.15);\n    fill: var(--button-hover-fill-color);\n  }\n\n  .colab-df-quickchart-complete:disabled,\n  .colab-df-quickchart-complete:disabled:hover {\n    background-color: var(--disabled-bg-color);\n    fill: var(--disabled-fill-color);\n    box-shadow: none;\n  }\n\n  .colab-df-spinner {\n    border: 2px solid var(--fill-color);\n    border-color: transparent;\n    border-bottom-color: var(--fill-color);\n    animation:\n      spin 1s steps(1) infinite;\n  }\n\n  @keyframes spin {\n    0% {\n      border-color: transparent;\n      border-bottom-color: var(--fill-color);\n      border-left-color: var(--fill-color);\n    }\n    20% {\n      border-color: transparent;\n      border-left-color: var(--fill-color);\n      border-top-color: var(--fill-color);\n    }\n    30% {\n      border-color: transparent;\n      border-left-color: var(--fill-color);\n      border-top-color: var(--fill-color);\n      border-right-color: var(--fill-color);\n    }\n    40% {\n      border-color: transparent;\n      border-right-color: var(--fill-color);\n      border-top-color: var(--fill-color);\n    }\n    60% {\n      border-color: transparent;\n      border-right-color: var(--fill-color);\n    }\n    80% {\n      border-color: transparent;\n      border-right-color: var(--fill-color);\n      border-bottom-color: var(--fill-color);\n    }\n    90% {\n      border-color: transparent;\n      border-bottom-color: var(--fill-color);\n    }\n  }\n</style>\n\n      <script>\n        async function quickchart(key) {\n          const quickchartButtonEl =\n            document.querySelector('#' + key + ' button');\n          quickchartButtonEl.disabled = true;  // To prevent multiple clicks.\n          quickchartButtonEl.classList.add('colab-df-spinner');\n          try {\n            const charts = await google.colab.kernel.invokeFunction(\n                'suggestCharts', [key], {});\n          } catch (error) {\n            console.error('Error during call to suggestCharts:', error);\n          }\n          quickchartButtonEl.classList.remove('colab-df-spinner');\n          quickchartButtonEl.classList.add('colab-df-quickchart-complete');\n        }\n        (() => {\n          let quickchartButtonEl =\n            document.querySelector('#df-212bb6c5-3ddd-476c-aab4-b30497737010 button');\n          quickchartButtonEl.style.display =\n            google.colab.kernel.accessAllowed ? 'block' : 'none';\n        })();\n      </script>\n    </div>\n\n    </div>\n  </div>\n",
         "text/plain": "  Fitur     Nilai  Min(latih)  Max(latih)\n0    X1     51.90       32.12       65.38\n1    X2  39931.00    19876.00   883715.00\n2    X3   1167.00       28.50  1147562.00\n3    X4    106.61        3.47      474.74\n4    X5      8.74        5.58       12.30"
        },
        "metadata": {},
        "output_type": "display_data"
       },
       {
        "name": "stdout",
        "output_type": "stream",
        "text": [
         "Perkiraan Y: 21,910.85 (ribu Rp/minggu)\n"
        ]
       }
      ]
     }
    },
    "569b265eb8334bc882b7f4147306801c": {
     "model_module": "@jupyter-widgets/controls",
     "model_module_version": "1.5.0",
     "model_name": "FloatTextModel",
     "state": {
      "_dom_classes": [],
      "_model_module": "@jupyter-widgets/controls",
      "_model_module_version": "1.5.0",
      "_model_name": "FloatTextModel",
      "_view_count": null,
      "_view_module": "@jupyter-widgets/controls",
      "_view_module_version": "1.5.0",
      "_view_name": "FloatTextView",
      "continuous_update": false,
      "description": "X4",
      "description_tooltip": null,
      "disabled": false,
      "layout": "IPY_MODEL_960d4d3a3743484b9772ab8e9e594753",
      "step": null,
      "style": "IPY_MODEL_87da2941627a4a77917389ea85899fc6",
      "value": 106.61
     }
    },
    "58dec32452244ccc8eacaa40c172f863": {
     "model_module": "@jupyter-widgets/controls",
     "model_module_version": "1.5.0",
     "model_name": "FloatTextModel",
     "state": {
      "_dom_classes": [],
      "_model_module": "@jupyter-widgets/controls",
      "_model_module_version": "1.5.0",
      "_model_name": "FloatTextModel",
      "_view_count": null,
      "_view_module": "@jupyter-widgets/controls",
      "_view_module_version": "1.5.0",
      "_view_name": "FloatTextView",
      "continuous_update": false,
      "description": "X3",
      "description_tooltip": null,
      "disabled": false,
      "layout": "IPY_MODEL_79d823f93656428d95d7a02d623f5b91",
      "step": null,
      "style": "IPY_MODEL_ddb61f7e0c854c828a4d1842c9aeda13",
      "value": 1167
     }
    },
    "5995719f3d3741a0a21be8dcdd71fb14": {
     "model_module": "@jupyter-widgets/controls",
     "model_module_version": "1.5.0",
     "model_name": "FloatTextModel",
     "state": {
      "_dom_classes": [],
      "_model_module": "@jupyter-widgets/controls",
      "_model_module_version": "1.5.0",
      "_model_name": "FloatTextModel",
      "_view_count": null,
      "_view_module": "@jupyter-widgets/controls",
      "_view_module_version": "1.5.0",
      "_view_name": "FloatTextView",
      "continuous_update": false,
      "description": "X4",
      "description_tooltip": null,
      "disabled": false,
      "layout": "IPY_MODEL_0d1229134f564799a03e85c0403a2c25",
      "step": null,
      "style": "IPY_MODEL_fcb3ec076454462cb5bd6af395762082",
      "value": 106.61
     }
    },
    "61d2041b166645fc8e7e62e11be6d845": {
     "model_module": "@jupyter-widgets/base",
     "model_module_version": "1.2.0",
     "model_name": "LayoutModel",
     "state": {
      "_model_module": "@jupyter-widgets/base",
      "_model_module_version": "1.2.0",
      "_model_name": "LayoutModel",
      "_view_count": null,
      "_view_module": "@jupyter-widgets/base",
      "_view_module_version": "1.2.0",
      "_view_name": "LayoutView",
      "align_content": null,
      "align_items": null,
      "align_self": null,
      "border": null,
      "bottom": null,
      "display": null,
      "flex": null,
      "flex_flow": null,
      "grid_area": null,
      "grid_auto_columns": null,
      "grid_auto_flow": null,
      "grid_auto_rows": null,
      "grid_column": null,
      "grid_gap": null,
      "grid_row": null,
      "grid_template_areas": null,
      "grid_template_columns": null,
      "grid_template_rows": null,
      "height": null,
      "justify_content": null,
      "justify_items": null,
      "left": null,
      "margin": null,
      "max_height": null,
      "max_width": null,
      "min_height": null,
      "min_width": null,
      "object_fit": null,
      "object_position": null,
      "order": null,
      "overflow": null,
      "overflow_x": null,
      "overflow_y": null,
      "padding": null,
      "right": null,
      "top": null,
      "visibility": null,
      "width": null
     }
    },
    "6228eca97ebd499ca57b37b629e9c680": {
     "model_module": "@jupyter-widgets/controls",
     "model_module_version": "1.5.0",
     "model_name": "FloatTextModel",
     "state": {
      "_dom_classes": [],
      "_model_module": "@jupyter-widgets/controls",
      "_model_module_version": "1.5.0",
      "_model_name": "FloatTextModel",
      "_view_count": null,
      "_view_module": "@jupyter-widgets/controls",
      "_view_module_version": "1.5.0",
      "_view_name": "FloatTextView",
      "continuous_update": false,
      "description": "X5",
      "description_tooltip": null,
      "disabled": false,
      "layout": "IPY_MODEL_e2714281c43149bdb6d69af0a68b174d",
      "step": null,
      "style": "IPY_MODEL_7b4376af7dc54906b14fad39c9d9c4a9",
      "value": 8.74
     }
    },
    "630dc740fbc04f6b847b8ab460e8918c": {
     "model_module": "@jupyter-widgets/controls",
     "model_module_version": "1.5.0",
     "model_name": "ButtonModel",
     "state": {
      "_dom_classes": [],
      "_model_module": "@jupyter-widgets/controls",
      "_model_module_version": "1.5.0",
      "_model_name": "ButtonModel",
      "_view_count": null,
      "_view_module": "@jupyter-widgets/controls",
      "_view_module_version": "1.5.0",
      "_view_name": "ButtonView",
      "button_style": "success",
      "description": "Prediksi Y",
      "disabled": false,
      "icon": "calculator",
      "layout": "IPY_MODEL_934c13b1686142d49d3ead6ce3d0e69d",
      "style": "IPY_MODEL_80aa320dc33741e08bbc6d92d8d40b98",
      "tooltip": ""
     }
    },
    "65363a0553c743049f5ae3640a2158fe": {
     "model_module": "@jupyter-widgets/base",
     "model_module_version": "1.2.0",
     "model_name": "LayoutModel",
     "state": {
      "_model_module": "@jupyter-widgets/base",
      "_model_module_version": "1.2.0",
      "_model_name": "LayoutModel",
      "_view_count": null,
      "_view_module": "@jupyter-widgets/base",
      "_view_module_version": "1.2.0",
      "_view_name": "LayoutView",
      "align_content": null,
      "align_items": null,
      "align_self": null,
      "border": null,
      "bottom": null,
      "display": null,
      "flex": null,
      "flex_flow": null,
      "grid_area": null,
      "grid_auto_columns": null,
      "grid_auto_flow": null,
      "grid_auto_rows": null,
      "grid_column": null,
      "grid_gap": null,
      "grid_row": null,
      "grid_template_areas": null,
      "grid_template_columns": null,
      "grid_template_rows": null,
      "height": null,
      "justify_content": null,
      "justify_items": null,
      "left": null,
      "margin": null,
      "max_height": null,
      "max_width": null,
      "min_height": null,
      "min_width": null,
      "object_fit": null,
      "object_position": null,
      "order": null,
      "overflow": null,
      "overflow_x": null,
      "overflow_y": null,
      "padding": null,
      "right": null,
      "top": null,
      "visibility": null,
      "width": null
     }
    },
    "68a7b2ff5cb540948e6452fa99047abc": {
     "model_module": "@jupyter-widgets/base",
     "model_module_version": "1.2.0",
     "model_name": "LayoutModel",
     "state": {
      "_model_module": "@jupyter-widgets/base",
      "_model_module_version": "1.2.0",
      "_model_name": "LayoutModel",
      "_view_count": null,
      "_view_module": "@jupyter-widgets/base",
      "_view_module_version": "1.2.0",
      "_view_name": "LayoutView",
      "align_content": null,
      "align_items": null,
      "align_self": null,
      "border": null,
      "bottom": null,
      "display": null,
      "flex": null,
      "flex_flow": null,
      "grid_area": null,
      "grid_auto_columns": null,
      "grid_auto_flow": null,
      "grid_auto_rows": null,
      "grid_column": null,
      "grid_gap": null,
      "grid_row": null,
      "grid_template_areas": null,
      "grid_template_columns": null,
      "grid_template_rows": null,
      "height": null,
      "justify_content": null,
      "justify_items": null,
      "left": null,
      "margin": null,
      "max_height": null,
      "max_width": null,
      "min_height": null,
      "min_width": null,
      "object_fit": null,
      "object_position": null,
      "order": null,
      "overflow": null,
      "overflow_x": null,
      "overflow_y": null,
      "padding": null,
      "right": null,
      "top": null,
      "visibility": null,
      "width": null
     }
    },
    "6ebe89239bbd4607b2a82ad7e703d4d9": {
     "model_module": "@jupyter-widgets/controls",
     "model_module_version": "1.5.0",
     "model_name": "ButtonModel",
     "state": {
      "_dom_classes": [],
      "_model_module": "@jupyter-widgets/controls",
      "_model_module_version": "1.5.0",
      "_model_name": "ButtonModel",
      "_view_count": null,
      "_view_module": "@jupyter-widgets/controls",
      "_view_module_version": "1.5.0",
      "_view_name": "ButtonView",
      "button_style": "success",
      "description": "Prediksi Y",
      "disabled": false,
      "icon": "calculator",
      "layout": "IPY_MODEL_4a4a8cc0e6864ea59ac2bca8d6e7bb13",
      "style": "IPY_MODEL_4abf8e077bc74f25bd6869c5174d0110",
      "tooltip": ""
     }
    },
    "79d823f93656428d95d7a02d623f5b91": {
     "model_module": "@jupyter-widgets/base",
     "model_module_version": "1.2.0",
     "model_name": "LayoutModel",
     "state": {
      "_model_module": "@jupyter-widgets/base",
      "_model_module_version": "1.2.0",
      "_model_name": "LayoutModel",
      "_view_count": null,
      "_view_module": "@jupyter-widgets/base",
      "_view_module_version": "1.2.0",
      "_view_name": "LayoutView",
      "align_content": null,
      "align_items": null,
      "align_self": null,
      "border": null,
      "bottom": null,
      "display": null,
      "flex": null,
      "flex_flow": null,
      "grid_area": null,
      "grid_auto_columns": null,
      "grid_auto_flow": null,
      "grid_auto_rows": null,
      "grid_column": null,
      "grid_gap": null,
      "grid_row": null,
      "grid_template_areas": null,
      "grid_template_columns": null,
      "grid_template_rows": null,
      "height": null,
      "justify_content": null,
      "justify_items": null,
      "left": null,
      "margin": null,
      "max_height": null,
      "max_width": null,
      "min_height": null,
      "min_width": null,
      "object_fit": null,
      "object_position": null,
      "order": null,
      "overflow": null,
      "overflow_x": null,
      "overflow_y": null,
      "padding": null,
      "right": null,
      "top": null,
      "visibility": null,
      "width": "280px"
     }
    },
    "7b4376af7dc54906b14fad39c9d9c4a9": {
     "model_module": "@jupyter-widgets/controls",
     "model_module_version": "1.5.0",
     "model_name": "DescriptionStyleModel",
     "state": {
      "_model_module": "@jupyter-widgets/controls",
      "_model_module_version": "1.5.0",
      "_model_name": "DescriptionStyleModel",
      "_view_count": null,
      "_view_module": "@jupyter-widgets/base",
      "_view_module_version": "1.2.0",
      "_view_name": "StyleView",
      "description_width": ""
     }
    },
    "7b7cba7bd1ab495ab9483469ed8a3a5c": {
     "model_module": "@jupyter-widgets/base",
     "model_module_version": "1.2.0",
     "model_name": "LayoutModel",
     "state": {
      "_model_module": "@jupyter-widgets/base",
      "_model_module_version": "1.2.0",
      "_model_name": "LayoutModel",
      "_view_count": null,
      "_view_module": "@jupyter-widgets/base",
      "_view_module_version": "1.2.0",
      "_view_name": "LayoutView",
      "align_content": null,
      "align_items": null,
      "align_self": null,
      "border": null,
      "bottom": null,
      "display": null,
      "flex": null,
      "flex_flow": null,
      "grid_area": null,
      "grid_auto_columns": null,
      "grid_auto_flow": null,
      "grid_auto_rows": null,
      "grid_column": null,
      "grid_gap": null,
      "grid_row": null,
      "grid_template_areas": null,
      "grid_template_columns": null,
      "grid_template_rows": null,
      "height": null,
      "justify_content": null,
      "justify_items": null,
      "left": null,
      "margin": null,
      "max_height": null,
      "max_width": null,
      "min_height": null,
      "min_width": null,
      "object_fit": null,
      "object_position": null,
      "order": null,
      "overflow": null,
      "overflow_x": null,
      "overflow_y": null,
      "padding": null,
      "right": null,
      "top": null,
      "visibility": null,
      "width": null
     }
    },
    "7e3ce96bfa8d47b886a3eca169fd0cf9": {
     "model_module": "@jupyter-widgets/controls",
     "model_module_version": "1.5.0",
     "model_name": "FloatTextModel",
     "state": {
      "_dom_classes": [],
      "_model_module": "@jupyter-widgets/controls",
      "_model_module_version": "1.5.0",
      "_model_name": "FloatTextModel",
      "_view_count": null,
      "_view_module": "@jupyter-widgets/controls",
      "_view_module_version": "1.5.0",
      "_view_name": "FloatTextView",
      "continuous_update": false,
      "description": "X1",
      "description_tooltip": null,
      "disabled": false,
      "layout": "IPY_MODEL_1b41689191da45eba99dae73af0c0370",
      "step": null,
      "style": "IPY_MODEL_dc1b37376cca43d2bfd9f36a9098de9a",
      "value": 51.9
     }
    },
    "80aa320dc33741e08bbc6d92d8d40b98": {
     "model_module": "@jupyter-widgets/controls",
     "model_module_version": "1.5.0",
     "model_name": "ButtonStyleModel",
     "state": {
      "_model_module": "@jupyter-widgets/controls",
      "_model_module_version": "1.5.0",
      "_model_name": "ButtonStyleModel",
      "_view_count": null,
      "_view_module": "@jupyter-widgets/base",
      "_view_module_version": "1.2.0",
      "_view_name": "StyleView",
      "button_color": null,
      "font_weight": ""
     }
    },
    "84511b8759fb4400b1761e40b90c0bfc": {
     "model_module": "@jupyter-widgets/controls",
     "model_module_version": "1.5.0",
     "model_name": "VBoxModel",
     "state": {
      "_dom_classes": [],
      "_model_module": "@jupyter-widgets/controls",
      "_model_module_version": "1.5.0",
      "_model_name": "VBoxModel",
      "_view_count": null,
      "_view_module": "@jupyter-widgets/controls",
      "_view_module_version": "1.5.0",
      "_view_name": "VBoxView",
      "box_style": "",
      "children": [
       "IPY_MODEL_8f196199473c40fea7f4ccf63aa70bfd",
       "IPY_MODEL_95e8eddab14f4fb1bad2f9ae2b4fd14e",
       "IPY_MODEL_c81582b6c01847628fb5d33396260b43",
       "IPY_MODEL_8eff5ce8ba444a39a544d8d5074088ab",
       "IPY_MODEL_11d63cd48f3a4e9eaf478711f31834e7",
       "IPY_MODEL_937293efe3f0471eb2febc5f45501b96"
      ],
      "layout": "IPY_MODEL_37f852594fb844c7a6424a66b2711d68"
     }
    },
    "87da2941627a4a77917389ea85899fc6": {
     "model_module": "@jupyter-widgets/controls",
     "model_module_version": "1.5.0",
     "model_name": "DescriptionStyleModel",
     "state": {
      "_model_module": "@jupyter-widgets/controls",
      "_model_module_version": "1.5.0",
      "_model_name": "DescriptionStyleModel",
      "_view_count": null,
      "_view_module": "@jupyter-widgets/base",
      "_view_module_version": "1.2.0",
      "_view_name": "StyleView",
      "description_width": ""
     }
    },
    "8eff5ce8ba444a39a544d8d5074088ab": {
     "model_module": "@jupyter-widgets/controls",
     "model_module_version": "1.5.0",
     "model_name": "HBoxModel",
     "state": {
      "_dom_classes": [],
      "_model_module": "@jupyter-widgets/controls",
      "_model_module_version": "1.5.0",
      "_model_name": "HBoxModel",
      "_view_count": null,
      "_view_module": "@jupyter-widgets/controls",
      "_view_module_version": "1.5.0",
      "_view_name": "HBoxView",
      "box_style": "",
      "children": [
       "IPY_MODEL_b7eec7715e6f405c8ddaea66e59f5d7e"
      ],
      "layout": "IPY_MODEL_d3833f3f94a344cabdf792269f851133"
     }
    },
    "8f196199473c40fea7f4ccf63aa70bfd": {
     "model_module": "@jupyter-widgets/controls",
     "model_module_version": "1.5.0",
     "model_name": "HTMLModel",
     "state": {
      "_dom_classes": [],
      "_model_module": "@jupyter-widgets/controls",
      "_model_module_version": "1.5.0",
      "_model_name": "HTMLModel",
      "_view_count": null,
      "_view_module": "@jupyter-widgets/controls",
      "_view_module_version": "1.5.0",
      "_view_name": "HTMLView",
      "description": "",
      "description_tooltip": null,
      "layout": "IPY_MODEL_fb23d1fc4f4c4e49a53d1e7af5f0e59e",
      "placeholder": "​",
      "style": "IPY_MODEL_9f67609d1e8947bc8aab4e6d5e995f33",
      "value": "<h3>Menu Prediksi Y</h3><p>Isi X1–X5 lalu klik <b>Prediksi Y</b>. Rentang yang ditampilkan berasal dari data latih.</p>"
     }
    },
    "91a1ec7f3ff64d34bb5209abb99e78a5": {
     "model_module": "@jupyter-widgets/controls",
     "model_module_version": "1.5.0",
     "model_name": "HBoxModel",
     "state": {
      "_dom_classes": [],
      "_model_module": "@jupyter-widgets/controls",
      "_model_module_version": "1.5.0",
      "_model_name": "HBoxModel",
      "_view_count": null,
      "_view_module": "@jupyter-widgets/controls",
      "_view_module_version": "1.5.0",
      "_view_name": "HBoxView",
      "box_style": "",
      "children": [
       "IPY_MODEL_6228eca97ebd499ca57b37b629e9c680"
      ],
      "layout": "IPY_MODEL_08a5f749b359431cb363233c3390a01d"
     }
    },
    "934c13b1686142d49d3ead6ce3d0e69d": {
     "model_module": "@jupyter-widgets/base",
     "model_module_version": "1.2.0",
     "model_name": "LayoutModel",
     "state": {
      "_model_module": "@jupyter-widgets/base",
      "_model_module_version": "1.2.0",
      "_model_name": "LayoutModel",
      "_view_count": null,
      "_view_module": "@jupyter-widgets/base",
      "_view_module_version": "1.2.0",
      "_view_name": "LayoutView",
      "align_content": null,
      "align_items": null,
      "align_self": null,
      "border": null,
      "bottom": null,
      "display": null,
      "flex": null,
      "flex_flow": null,
      "grid_area": null,
      "grid_auto_columns": null,
      "grid_auto_flow": null,
      "grid_auto_rows": null,
      "grid_column": null,
      "grid_gap": null,
      "grid_row": null,
      "grid_template_areas": null,
      "grid_template_columns": null,
      "grid_template_rows": null,
      "height": null,
      "justify_content": null,
      "justify_items": null,
      "left": null,
      "margin": null,
      "max_height": null,
      "max_width": null,
      "min_height": null,
      "min_width": null,
      "object_fit": null,
      "object_position": null,
      "order": null,
      "overflow": null,
      "overflow_x": null,
      "overflow_y": null,
      "padding": null,
      "right": null,
      "top": null,
      "visibility": null,
      "width": null
     }
    },
    "937293efe3f0471eb2febc5f45501b96": {
     "model_module": "@jupyter-widgets/output",
     "model_module_version": "1.0.0",
     "model_name": "OutputModel",
     "state": {
      "_dom_classes": [],
      "_model_module": "@jupyter-widgets/output",
      "_model_module_version": "1.0.0",
      "_model_name": "OutputModel",
      "_view_count": null,
      "_view_module": "@jupyter-widgets/output",
      "_view_module_version": "1.0.0",
      "_view_name": "OutputView",
      "layout": "IPY_MODEL_e667c82667554766968a874701e9d7a1",
      "msg_id": "",
      "outputs": [
       {
        "data": {
         "application/vnd.google.colaboratory.intrinsic+json": {
          "summary": "{\n  \"name\": \"display(ui)\",\n  \"rows\": 5,\n  \"fields\": [\n    {\n      \"column\": \"Fitur\",\n      \"properties\": {\n        \"dtype\": \"string\",\n        \"num_unique_values\": 5,\n        \"samples\": [\n          \"X2\",\n          \"X5\",\n          \"X3\"\n        ],\n        \"semantic_type\": \"\",\n        \"description\": \"\"\n      }\n    },\n    {\n      \"column\": \"Nilai\",\n      \"properties\": {\n        \"dtype\": \"number\",\n        \"std\": 17715.08265699881,\n        \"min\": 8.74,\n        \"max\": 39931.0,\n        \"num_unique_values\": 5,\n        \"samples\": [\n          39931.0,\n          8.74,\n          1167.0\n        ],\n        \"semantic_type\": \"\",\n        \"description\": \"\"\n      }\n    },\n    {\n      \"column\": \"Min(latih)\",\n      \"properties\": {\n        \"dtype\": \"number\",\n        \"std\": 8881.0375628628,\n        \"min\": 3.47,\n        \"max\": 19876.0,\n        \"num_unique_values\": 5,\n        \"samples\": [\n          19876.0,\n          5.58,\n          28.5\n        ],\n        \"semantic_type\": \"\",\n        \"description\": \"\"\n      }\n    },\n    {\n      \"column\": \"Max(latih)\",\n      \"properties\": {\n        \"dtype\": \"number\",\n        \"std\": 563955.8529879344,\n        \"min\": 12.3,\n        \"max\": 1147562.0,\n        \"num_unique_values\": 5,\n        \"samples\": [\n          883715.0,\n          12.3,\n          1147562.0\n        ],\n        \"semantic_type\": \"\",\n        \"description\": \"\"\n      }\n    }\n  ]\n}",
          "type": "dataframe"
         },
         "text/html": "\n  <div id=\"df-8f7c40f5-b923-4278-a645-dff8f0e35e51\" class=\"colab-df-container\">\n    <div>\n<style scoped>\n    .dataframe tbody tr th:only-of-type {\n        vertical-align: middle;\n    }\n\n    .dataframe tbody tr th {\n        vertical-align: top;\n    }\n\n    .dataframe thead th {\n        text-align: right;\n    }\n</style>\n<table border=\"1\" class=\"dataframe\">\n  <thead>\n    <tr style=\"text-align: right;\">\n      <th></th>\n      <th>Fitur</th>\n      <th>Nilai</th>\n      <th>Min(latih)</th>\n      <th>Max(latih)</th>\n    </tr>\n  </thead>\n  <tbody>\n    <tr>\n      <th>0</th>\n      <td>X1</td>\n      <td>51.90</td>\n      <td>32.12</td>\n      <td>65.38</td>\n    </tr>\n    <tr>\n      <th>1</th>\n      <td>X2</td>\n      <td>39931.00</td>\n      <td>19876.00</td>\n      <td>883715.00</td>\n    </tr>\n    <tr>\n      <th>2</th>\n      <td>X3</td>\n      <td>1167.00</td>\n      <td>28.50</td>\n      <td>1147562.00</td>\n    </tr>\n    <tr>\n      <th>3</th>\n      <td>X4</td>\n      <td>106.61</td>\n      <td>3.47</td>\n      <td>474.74</td>\n    </tr>\n    <tr>\n      <th>4</th>\n      <td>X5</td>\n      <td>8.74</td>\n      <td>5.58</td>\n      <td>12.30</td>\n    </tr>\n  </tbody>\n</table>\n</div>\n    <div class=\"colab-df-buttons\">\n\n  <div class=\"colab-df-container\">\n    <button class=\"colab-df-convert\" onclick=\"convertToInteractive('df-8f7c40f5-b923-4278-a645-dff8f0e35e51')\"\n            title=\"Convert this dataframe to an interactive table.\"\n            style=\"display:none;\">\n\n  <svg xmlns=\"http://www.w3.org/2000/svg\" height=\"24px\" viewBox=\"0 -960 960 960\">\n    <path d=\"M120-120v-720h720v720H120Zm60-500h600v-160H180v160Zm220 220h160v-160H400v160Zm0 220h160v-160H400v160ZM180-400h160v-160H180v160Zm440 0h160v-160H620v160ZM180-180h160v-160H180v160Zm440 0h160v-160H620v160Z\"/>\n  </svg>\n    </button>\n\n  <style>\n    .colab-df-container {\n      display:flex;\n      gap: 12px;\n    }\n\n    .colab-df-convert {\n      background-color: #E8F0FE;\n      border: none;\n      border-radius: 50%;\n      cursor: pointer;\n      display: none;\n      fill: #1967D2;\n      height: 32px;\n      padding: 0 0 0 0;\n      width: 32px;\n    }\n\n    .colab-df-convert:hover {\n      background-color: #E2EBFA;\n      box-shadow: 0px 1px 2px rgba(60, 64, 67, 0.3), 0px 1px 3px 1px rgba(60, 64, 67, 0.15);\n      fill: #174EA6;\n    }\n\n    .colab-df-buttons div {\n      margin-bottom: 4px;\n    }\n\n    [theme=dark] .colab-df-convert {\n      background-color: #3B4455;\n      fill: #D2E3FC;\n    }\n\n    [theme=dark] .colab-df-convert:hover {\n      background-color: #434B5C;\n      box-shadow: 0px 1px 3px 1px rgba(0, 0, 0, 0.15);\n      filter: drop-shadow(0px 1px 2px rgba(0, 0, 0, 0.3));\n      fill: #FFFFFF;\n    }\n  </style>\n\n    <script>\n      const buttonEl =\n        document.querySelector('#df-8f7c40f5-b923-4278-a645-dff8f0e35e51 button.colab-df-convert');\n      buttonEl.style.display =\n        google.colab.kernel.accessAllowed ? 'block' : 'none';\n\n      async function convertToInteractive(key) {\n        const element = document.querySelector('#df-8f7c40f5-b923-4278-a645-dff8f0e35e51');\n        const dataTable =\n          await google.colab.kernel.invokeFunction('convertToInteractive',\n                                                    [key], {});\n        if (!dataTable) return;\n\n        const docLinkHtml = 'Like what you see? Visit the ' +\n          '<a target=\"_blank\" href=https://colab.research.google.com/notebooks/data_table.ipynb>data table notebook</a>'\n          + ' to learn more about interactive tables.';\n        element.innerHTML = '';\n        dataTable['output_type'] = 'display_data';\n        await google.colab.output.renderOutput(dataTable, element);\n        const docLink = document.createElement('div');\n        docLink.innerHTML = docLinkHtml;\n        element.appendChild(docLink);\n      }\n    </script>\n  </div>\n\n\n    <div id=\"df-5019940b-65bb-4968-a4f2-3f48248bfbc3\">\n      <button class=\"colab-df-quickchart\" onclick=\"quickchart('df-5019940b-65bb-4968-a4f2-3f48248bfbc3')\"\n                title=\"Suggest charts\"\n                style=\"display:none;\">\n\n<svg xmlns=\"http://www.w3.org/2000/svg\" height=\"24px\"viewBox=\"0 0 24 24\"\n     width=\"24px\">\n    <g>\n        <path d=\"M19 3H5c-1.1 0-2 .9-2 2v14c0 1.1.9 2 2 2h14c1.1 0 2-.9 2-2V5c0-1.1-.9-2-2-2zM9 17H7v-7h2v7zm4 0h-2V7h2v10zm4 0h-2v-4h2v4z\"/>\n    </g>\n</svg>\n      </button>\n\n<style>\n  .colab-df-quickchart {\n      --bg-color: #E8F0FE;\n      --fill-color: #1967D2;\n      --hover-bg-color: #E2EBFA;\n      --hover-fill-color: #174EA6;\n      --disabled-fill-color: #AAA;\n      --disabled-bg-color: #DDD;\n  }\n\n  [theme=dark] .colab-df-quickchart {\n      --bg-color: #3B4455;\n      --fill-color: #D2E3FC;\n      --hover-bg-color: #434B5C;\n      --hover-fill-color: #FFFFFF;\n      --disabled-bg-color: #3B4455;\n      --disabled-fill-color: #666;\n  }\n\n  .colab-df-quickchart {\n    background-color: var(--bg-color);\n    border: none;\n    border-radius: 50%;\n    cursor: pointer;\n    display: none;\n    fill: var(--fill-color);\n    height: 32px;\n    padding: 0;\n    width: 32px;\n  }\n\n  .colab-df-quickchart:hover {\n    background-color: var(--hover-bg-color);\n    box-shadow: 0 1px 2px rgba(60, 64, 67, 0.3), 0 1px 3px 1px rgba(60, 64, 67, 0.15);\n    fill: var(--button-hover-fill-color);\n  }\n\n  .colab-df-quickchart-complete:disabled,\n  .colab-df-quickchart-complete:disabled:hover {\n    background-color: var(--disabled-bg-color);\n    fill: var(--disabled-fill-color);\n    box-shadow: none;\n  }\n\n  .colab-df-spinner {\n    border: 2px solid var(--fill-color);\n    border-color: transparent;\n    border-bottom-color: var(--fill-color);\n    animation:\n      spin 1s steps(1) infinite;\n  }\n\n  @keyframes spin {\n    0% {\n      border-color: transparent;\n      border-bottom-color: var(--fill-color);\n      border-left-color: var(--fill-color);\n    }\n    20% {\n      border-color: transparent;\n      border-left-color: var(--fill-color);\n      border-top-color: var(--fill-color);\n    }\n    30% {\n      border-color: transparent;\n      border-left-color: var(--fill-color);\n      border-top-color: var(--fill-color);\n      border-right-color: var(--fill-color);\n    }\n    40% {\n      border-color: transparent;\n      border-right-color: var(--fill-color);\n      border-top-color: var(--fill-color);\n    }\n    60% {\n      border-color: transparent;\n      border-right-color: var(--fill-color);\n    }\n    80% {\n      border-color: transparent;\n      border-right-color: var(--fill-color);\n      border-bottom-color: var(--fill-color);\n    }\n    90% {\n      border-color: transparent;\n      border-bottom-color: var(--fill-color);\n    }\n  }\n</style>\n\n      <script>\n        async function quickchart(key) {\n          const quickchartButtonEl =\n            document.querySelector('#' + key + ' button');\n          quickchartButtonEl.disabled = true;  // To prevent multiple clicks.\n          quickchartButtonEl.classList.add('colab-df-spinner');\n          try {\n            const charts = await google.colab.kernel.invokeFunction(\n                'suggestCharts', [key], {});\n          } catch (error) {\n            console.error('Error during call to suggestCharts:', error);\n          }\n          quickchartButtonEl.classList.remove('colab-df-spinner');\n          quickchartButtonEl.classList.add('colab-df-quickchart-complete');\n        }\n        (() => {\n          let quickchartButtonEl =\n            document.querySelector('#df-5019940b-65bb-4968-a4f2-3f48248bfbc3 button');\n          quickchartButtonEl.style.display =\n            google.colab.kernel.accessAllowed ? 'block' : 'none';\n        })();\n      </script>\n    </div>\n\n    </div>\n  </div>\n",
         "text/plain": "  Fitur     Nilai  Min(latih)  Max(latih)\n0    X1     51.90       32.12       65.38\n1    X2  39931.00    19876.00   883715.00\n2    X3   1167.00       28.50  1147562.00\n3    X4    106.61        3.47      474.74\n4    X5      8.74        5.58       12.30"
        },
        "metadata": {},
        "output_type": "display_data"
       },
       {
        "name": "stdout",
        "output_type": "stream",
        "text": [
         "Perkiraan Y: 20,677.47 (ribu Rp/minggu)\n"
        ]
       }
      ]
     }
    },
    "9417fee1af654975b55581150634ca05": {
     "model_module": "@jupyter-widgets/controls",
     "model_module_version": "1.5.0",
     "model_name": "FloatTextModel",
     "state": {
      "_dom_classes": [],
      "_model_module": "@jupyter-widgets/controls",
      "_model_module_version": "1.5.0",
      "_model_name": "FloatTextModel",
      "_view_count": null,
      "_view_module": "@jupyter-widgets/controls",
      "_view_module_version": "1.5.0",
      "_view_name": "FloatTextView",
      "continuous_update": false,
      "description": "X3",
      "description_tooltip": null,
      "disabled": false,
      "layout": "IPY_MODEL_e4e07be892214f848383603e4085c0a4",
      "step": null,
      "style": "IPY_MODEL_afa23b8df6134889a03869187fa34b64",
      "value": 1167
     }
    },
    "95e8eddab14f4fb1bad2f9ae2b4fd14e": {
     "model_module": "@jupyter-widgets/controls",
     "model_module_version": "1.5.0",
     "model_name": "HBoxModel",
     "state": {
      "_dom_classes": [],
      "_model_module": "@jupyter-widgets/controls",
      "_model_module_version": "1.5.0",
      "_model_name": "HBoxModel",
      "_view_count": null,
      "_view_module": "@jupyter-widgets/controls",
      "_view_module_version": "1.5.0",
      "_view_name": "HBoxView",
      "box_style": "",
      "children": [
       "IPY_MODEL_217d2400fa0d46aead69a6947524e3b8",
       "IPY_MODEL_9cd3569189c74a5895d39c78ccca6262"
      ],
      "layout": "IPY_MODEL_1d7dc856d3c740d4882d0aaeb58ad7fa"
     }
    },
    "960d4d3a3743484b9772ab8e9e594753": {
     "model_module": "@jupyter-widgets/base",
     "model_module_version": "1.2.0",
     "model_name": "LayoutModel",
     "state": {
      "_model_module": "@jupyter-widgets/base",
      "_model_module_version": "1.2.0",
      "_model_name": "LayoutModel",
      "_view_count": null,
      "_view_module": "@jupyter-widgets/base",
      "_view_module_version": "1.2.0",
      "_view_name": "LayoutView",
      "align_content": null,
      "align_items": null,
      "align_self": null,
      "border": null,
      "bottom": null,
      "display": null,
      "flex": null,
      "flex_flow": null,
      "grid_area": null,
      "grid_auto_columns": null,
      "grid_auto_flow": null,
      "grid_auto_rows": null,
      "grid_column": null,
      "grid_gap": null,
      "grid_row": null,
      "grid_template_areas": null,
      "grid_template_columns": null,
      "grid_template_rows": null,
      "height": null,
      "justify_content": null,
      "justify_items": null,
      "left": null,
      "margin": null,
      "max_height": null,
      "max_width": null,
      "min_height": null,
      "min_width": null,
      "object_fit": null,
      "object_position": null,
      "order": null,
      "overflow": null,
      "overflow_x": null,
      "overflow_y": null,
      "padding": null,
      "right": null,
      "top": null,
      "visibility": null,
      "width": "280px"
     }
    },
    "96b42449526d475ebff30ab4e8155ab5": {
     "model_module": "@jupyter-widgets/controls",
     "model_module_version": "1.5.0",
     "model_name": "DescriptionStyleModel",
     "state": {
      "_model_module": "@jupyter-widgets/controls",
      "_model_module_version": "1.5.0",
      "_model_name": "DescriptionStyleModel",
      "_view_count": null,
      "_view_module": "@jupyter-widgets/base",
      "_view_module_version": "1.2.0",
      "_view_name": "StyleView",
      "description_width": ""
     }
    },
    "9cd3569189c74a5895d39c78ccca6262": {
     "model_module": "@jupyter-widgets/controls",
     "model_module_version": "1.5.0",
     "model_name": "FloatTextModel",
     "state": {
      "_dom_classes": [],
      "_model_module": "@jupyter-widgets/controls",
      "_model_module_version": "1.5.0",
      "_model_name": "FloatTextModel",
      "_view_count": null,
      "_view_module": "@jupyter-widgets/controls",
      "_view_module_version": "1.5.0",
      "_view_name": "FloatTextView",
      "continuous_update": false,
      "description": "X2",
      "description_tooltip": null,
      "disabled": false,
      "layout": "IPY_MODEL_416c9b06961b4d48b288afe29e523762",
      "step": null,
      "style": "IPY_MODEL_96b42449526d475ebff30ab4e8155ab5",
      "value": 39931
     }
    },
    "9f67609d1e8947bc8aab4e6d5e995f33": {
     "model_module": "@jupyter-widgets/controls",
     "model_module_version": "1.5.0",
     "model_name": "DescriptionStyleModel",
     "state": {
      "_model_module": "@jupyter-widgets/controls",
      "_model_module_version": "1.5.0",
      "_model_name": "DescriptionStyleModel",
      "_view_count": null,
      "_view_module": "@jupyter-widgets/base",
      "_view_module_version": "1.2.0",
      "_view_name": "StyleView",
      "description_width": ""
     }
    },
    "ac7ebd3d269d435b8403e2f92febdfaa": {
     "model_module": "@jupyter-widgets/controls",
     "model_module_version": "1.5.0",
     "model_name": "DescriptionStyleModel",
     "state": {
      "_model_module": "@jupyter-widgets/controls",
      "_model_module_version": "1.5.0",
      "_model_name": "DescriptionStyleModel",
      "_view_count": null,
      "_view_module": "@jupyter-widgets/base",
      "_view_module_version": "1.2.0",
      "_view_name": "StyleView",
      "description_width": ""
     }
    },
    "adddd86dfc2e4ab484492c7fe808e17d": {
     "model_module": "@jupyter-widgets/controls",
     "model_module_version": "1.5.0",
     "model_name": "DescriptionStyleModel",
     "state": {
      "_model_module": "@jupyter-widgets/controls",
      "_model_module_version": "1.5.0",
      "_model_name": "DescriptionStyleModel",
      "_view_count": null,
      "_view_module": "@jupyter-widgets/base",
      "_view_module_version": "1.2.0",
      "_view_name": "StyleView",
      "description_width": ""
     }
    },
    "afa23b8df6134889a03869187fa34b64": {
     "model_module": "@jupyter-widgets/controls",
     "model_module_version": "1.5.0",
     "model_name": "DescriptionStyleModel",
     "state": {
      "_model_module": "@jupyter-widgets/controls",
      "_model_module_version": "1.5.0",
      "_model_name": "DescriptionStyleModel",
      "_view_count": null,
      "_view_module": "@jupyter-widgets/base",
      "_view_module_version": "1.2.0",
      "_view_name": "StyleView",
      "description_width": ""
     }
    },
    "b7eec7715e6f405c8ddaea66e59f5d7e": {
     "model_module": "@jupyter-widgets/controls",
     "model_module_version": "1.5.0",
     "model_name": "FloatTextModel",
     "state": {
      "_dom_classes": [],
      "_model_module": "@jupyter-widgets/controls",
      "_model_module_version": "1.5.0",
      "_model_name": "FloatTextModel",
      "_view_count": null,
      "_view_module": "@jupyter-widgets/controls",
      "_view_module_version": "1.5.0",
      "_view_name": "FloatTextView",
      "continuous_update": false,
      "description": "X5",
      "description_tooltip": null,
      "disabled": false,
      "layout": "IPY_MODEL_ec16d1c3340940418f60de471c6c7566",
      "step": null,
      "style": "IPY_MODEL_adddd86dfc2e4ab484492c7fe808e17d",
      "value": 8.74
     }
    },
    "b82bc9e05597453ca1a44bda068d096a": {
     "model_module": "@jupyter-widgets/controls",
     "model_module_version": "1.5.0",
     "model_name": "DescriptionStyleModel",
     "state": {
      "_model_module": "@jupyter-widgets/controls",
      "_model_module_version": "1.5.0",
      "_model_name": "DescriptionStyleModel",
      "_view_count": null,
      "_view_module": "@jupyter-widgets/base",
      "_view_module_version": "1.2.0",
      "_view_name": "StyleView",
      "description_width": ""
     }
    },
    "b8b80dd878eb4f90843784e4c7d919a0": {
     "model_module": "@jupyter-widgets/base",
     "model_module_version": "1.2.0",
     "model_name": "LayoutModel",
     "state": {
      "_model_module": "@jupyter-widgets/base",
      "_model_module_version": "1.2.0",
      "_model_name": "LayoutModel",
      "_view_count": null,
      "_view_module": "@jupyter-widgets/base",
      "_view_module_version": "1.2.0",
      "_view_name": "LayoutView",
      "align_content": null,
      "align_items": null,
      "align_self": null,
      "border": null,
      "bottom": null,
      "display": null,
      "flex": null,
      "flex_flow": null,
      "grid_area": null,
      "grid_auto_columns": null,
      "grid_auto_flow": null,
      "grid_auto_rows": null,
      "grid_column": null,
      "grid_gap": null,
      "grid_row": null,
      "grid_template_areas": null,
      "grid_template_columns": null,
      "grid_template_rows": null,
      "height": null,
      "justify_content": null,
      "justify_items": null,
      "left": null,
      "margin": null,
      "max_height": null,
      "max_width": null,
      "min_height": null,
      "min_width": null,
      "object_fit": null,
      "object_position": null,
      "order": null,
      "overflow": null,
      "overflow_x": null,
      "overflow_y": null,
      "padding": null,
      "right": null,
      "top": null,
      "visibility": null,
      "width": null
     }
    },
    "bc9f4332b6c24f88ac2f04c486e661e8": {
     "model_module": "@jupyter-widgets/base",
     "model_module_version": "1.2.0",
     "model_name": "LayoutModel",
     "state": {
      "_model_module": "@jupyter-widgets/base",
      "_model_module_version": "1.2.0",
      "_model_name": "LayoutModel",
      "_view_count": null,
      "_view_module": "@jupyter-widgets/base",
      "_view_module_version": "1.2.0",
      "_view_name": "LayoutView",
      "align_content": null,
      "align_items": null,
      "align_self": null,
      "border": null,
      "bottom": null,
      "display": null,
      "flex": null,
      "flex_flow": null,
      "grid_area": null,
      "grid_auto_columns": null,
      "grid_auto_flow": null,
      "grid_auto_rows": null,
      "grid_column": null,
      "grid_gap": null,
      "grid_row": null,
      "grid_template_areas": null,
      "grid_template_columns": null,
      "grid_template_rows": null,
      "height": null,
      "justify_content": null,
      "justify_items": null,
      "left": null,
      "margin": null,
      "max_height": null,
      "max_width": null,
      "min_height": null,
      "min_width": null,
      "object_fit": null,
      "object_position": null,
      "order": null,
      "overflow": null,
      "overflow_x": null,
      "overflow_y": null,
      "padding": null,
      "right": null,
      "top": null,
      "visibility": null,
      "width": null
     }
    },
    "bf1de791a32b4471a1988f270591e141": {
     "model_module": "@jupyter-widgets/controls",
     "model_module_version": "1.5.0",
     "model_name": "HBoxModel",
     "state": {
      "_dom_classes": [],
      "_model_module": "@jupyter-widgets/controls",
      "_model_module_version": "1.5.0",
      "_model_name": "HBoxModel",
      "_view_count": null,
      "_view_module": "@jupyter-widgets/controls",
      "_view_module_version": "1.5.0",
      "_view_name": "HBoxView",
      "box_style": "",
      "children": [
       "IPY_MODEL_7e3ce96bfa8d47b886a3eca169fd0cf9",
       "IPY_MODEL_e8f9b263e8ce42d8be4dff0e87f9bb64"
      ],
      "layout": "IPY_MODEL_b8b80dd878eb4f90843784e4c7d919a0"
     }
    },
    "c0dcba93d1e343bab2fc768f44baa0d6": {
     "model_module": "@jupyter-widgets/base",
     "model_module_version": "1.2.0",
     "model_name": "LayoutModel",
     "state": {
      "_model_module": "@jupyter-widgets/base",
      "_model_module_version": "1.2.0",
      "_model_name": "LayoutModel",
      "_view_count": null,
      "_view_module": "@jupyter-widgets/base",
      "_view_module_version": "1.2.0",
      "_view_name": "LayoutView",
      "align_content": null,
      "align_items": null,
      "align_self": null,
      "border": null,
      "bottom": null,
      "display": null,
      "flex": null,
      "flex_flow": null,
      "grid_area": null,
      "grid_auto_columns": null,
      "grid_auto_flow": null,
      "grid_auto_rows": null,
      "grid_column": null,
      "grid_gap": null,
      "grid_row": null,
      "grid_template_areas": null,
      "grid_template_columns": null,
      "grid_template_rows": null,
      "height": null,
      "justify_content": null,
      "justify_items": null,
      "left": null,
      "margin": null,
      "max_height": null,
      "max_width": null,
      "min_height": null,
      "min_width": null,
      "object_fit": null,
      "object_position": null,
      "order": null,
      "overflow": null,
      "overflow_x": null,
      "overflow_y": null,
      "padding": null,
      "right": null,
      "top": null,
      "visibility": null,
      "width": "280px"
     }
    },
    "c81582b6c01847628fb5d33396260b43": {
     "model_module": "@jupyter-widgets/controls",
     "model_module_version": "1.5.0",
     "model_name": "HBoxModel",
     "state": {
      "_dom_classes": [],
      "_model_module": "@jupyter-widgets/controls",
      "_model_module_version": "1.5.0",
      "_model_name": "HBoxModel",
      "_view_count": null,
      "_view_module": "@jupyter-widgets/controls",
      "_view_module_version": "1.5.0",
      "_view_name": "HBoxView",
      "box_style": "",
      "children": [
       "IPY_MODEL_9417fee1af654975b55581150634ca05",
       "IPY_MODEL_569b265eb8334bc882b7f4147306801c"
      ],
      "layout": "IPY_MODEL_bc9f4332b6c24f88ac2f04c486e661e8"
     }
    },
    "d3833f3f94a344cabdf792269f851133": {
     "model_module": "@jupyter-widgets/base",
     "model_module_version": "1.2.0",
     "model_name": "LayoutModel",
     "state": {
      "_model_module": "@jupyter-widgets/base",
      "_model_module_version": "1.2.0",
      "_model_name": "LayoutModel",
      "_view_count": null,
      "_view_module": "@jupyter-widgets/base",
      "_view_module_version": "1.2.0",
      "_view_name": "LayoutView",
      "align_content": null,
      "align_items": null,
      "align_self": null,
      "border": null,
      "bottom": null,
      "display": null,
      "flex": null,
      "flex_flow": null,
      "grid_area": null,
      "grid_auto_columns": null,
      "grid_auto_flow": null,
      "grid_auto_rows": null,
      "grid_column": null,
      "grid_gap": null,
      "grid_row": null,
      "grid_template_areas": null,
      "grid_template_columns": null,
      "grid_template_rows": null,
      "height": null,
      "justify_content": null,
      "justify_items": null,
      "left": null,
      "margin": null,
      "max_height": null,
      "max_width": null,
      "min_height": null,
      "min_width": null,
      "object_fit": null,
      "object_position": null,
      "order": null,
      "overflow": null,
      "overflow_x": null,
      "overflow_y": null,
      "padding": null,
      "right": null,
      "top": null,
      "visibility": null,
      "width": null
     }
    },
    "dc1b37376cca43d2bfd9f36a9098de9a": {
     "model_module": "@jupyter-widgets/controls",
     "model_module_version": "1.5.0",
     "model_name": "DescriptionStyleModel",
     "state": {
      "_model_module": "@jupyter-widgets/controls",
      "_model_module_version": "1.5.0",
      "_model_name": "DescriptionStyleModel",
      "_view_count": null,
      "_view_module": "@jupyter-widgets/base",
      "_view_module_version": "1.2.0",
      "_view_name": "StyleView",
      "description_width": ""
     }
    },
    "ddb61f7e0c854c828a4d1842c9aeda13": {
     "model_module": "@jupyter-widgets/controls",
     "model_module_version": "1.5.0",
     "model_name": "DescriptionStyleModel",
     "state": {
      "_model_module": "@jupyter-widgets/controls",
      "_model_module_version": "1.5.0",
      "_model_name": "DescriptionStyleModel",
      "_view_count": null,
      "_view_module": "@jupyter-widgets/base",
      "_view_module_version": "1.2.0",
      "_view_name": "StyleView",
      "description_width": ""
     }
    },
    "dfcb924180c7474786c9fefbcff44643": {
     "model_module": "@jupyter-widgets/controls",
     "model_module_version": "1.5.0",
     "model_name": "ButtonStyleModel",
     "state": {
      "_model_module": "@jupyter-widgets/controls",
      "_model_module_version": "1.5.0",
      "_model_name": "ButtonStyleModel",
      "_view_count": null,
      "_view_module": "@jupyter-widgets/base",
      "_view_module_version": "1.2.0",
      "_view_name": "StyleView",
      "button_color": null,
      "font_weight": ""
     }
    },
    "e2714281c43149bdb6d69af0a68b174d": {
     "model_module": "@jupyter-widgets/base",
     "model_module_version": "1.2.0",
     "model_name": "LayoutModel",
     "state": {
      "_model_module": "@jupyter-widgets/base",
      "_model_module_version": "1.2.0",
      "_model_name": "LayoutModel",
      "_view_count": null,
      "_view_module": "@jupyter-widgets/base",
      "_view_module_version": "1.2.0",
      "_view_name": "LayoutView",
      "align_content": null,
      "align_items": null,
      "align_self": null,
      "border": null,
      "bottom": null,
      "display": null,
      "flex": null,
      "flex_flow": null,
      "grid_area": null,
      "grid_auto_columns": null,
      "grid_auto_flow": null,
      "grid_auto_rows": null,
      "grid_column": null,
      "grid_gap": null,
      "grid_row": null,
      "grid_template_areas": null,
      "grid_template_columns": null,
      "grid_template_rows": null,
      "height": null,
      "justify_content": null,
      "justify_items": null,
      "left": null,
      "margin": null,
      "max_height": null,
      "max_width": null,
      "min_height": null,
      "min_width": null,
      "object_fit": null,
      "object_position": null,
      "order": null,
      "overflow": null,
      "overflow_x": null,
      "overflow_y": null,
      "padding": null,
      "right": null,
      "top": null,
      "visibility": null,
      "width": "280px"
     }
    },
    "e4e07be892214f848383603e4085c0a4": {
     "model_module": "@jupyter-widgets/base",
     "model_module_version": "1.2.0",
     "model_name": "LayoutModel",
     "state": {
      "_model_module": "@jupyter-widgets/base",
      "_model_module_version": "1.2.0",
      "_model_name": "LayoutModel",
      "_view_count": null,
      "_view_module": "@jupyter-widgets/base",
      "_view_module_version": "1.2.0",
      "_view_name": "LayoutView",
      "align_content": null,
      "align_items": null,
      "align_self": null,
      "border": null,
      "bottom": null,
      "display": null,
      "flex": null,
      "flex_flow": null,
      "grid_area": null,
      "grid_auto_columns": null,
      "grid_auto_flow": null,
      "grid_auto_rows": null,
      "grid_column": null,
      "grid_gap": null,
      "grid_row": null,
      "grid_template_areas": null,
      "grid_template_columns": null,
      "grid_template_rows": null,
      "height": null,
      "justify_content": null,
      "justify_items": null,
      "left": null,
      "margin": null,
      "max_height": null,
      "max_width": null,
      "min_height": null,
      "min_width": null,
      "object_fit": null,
      "object_position": null,
      "order": null,
      "overflow": null,
      "overflow_x": null,
      "overflow_y": null,
      "padding": null,
      "right": null,
      "top": null,
      "visibility": null,
      "width": "280px"
     }
    },
    "e63d216c72394953bef43113d3f3a42f": {
     "model_module": "@jupyter-widgets/controls",
     "model_module_version": "1.5.0",
     "model_name": "HTMLModel",
     "state": {
      "_dom_classes": [],
      "_model_module": "@jupyter-widgets/controls",
      "_model_module_version": "1.5.0",
      "_model_name": "HTMLModel",
      "_view_count": null,
      "_view_module": "@jupyter-widgets/controls",
      "_view_module_version": "1.5.0",
      "_view_name": "HTMLView",
      "description": "",
      "description_tooltip": null,
      "layout": "IPY_MODEL_68a7b2ff5cb540948e6452fa99047abc",
      "placeholder": "​",
      "style": "IPY_MODEL_b82bc9e05597453ca1a44bda068d096a",
      "value": "<h3>Menu Prediksi Y</h3><p>Isi X1–X5 lalu klik <b>Prediksi Y</b>. Rentang yang ditampilkan berasal dari data latih.</p>"
     }
    },
    "e667c82667554766968a874701e9d7a1": {
     "model_module": "@jupyter-widgets/base",
     "model_module_version": "1.2.0",
     "model_name": "LayoutModel",
     "state": {
      "_model_module": "@jupyter-widgets/base",
      "_model_module_version": "1.2.0",
      "_model_name": "LayoutModel",
      "_view_count": null,
      "_view_module": "@jupyter-widgets/base",
      "_view_module_version": "1.2.0",
      "_view_name": "LayoutView",
      "align_content": null,
      "align_items": null,
      "align_self": null,
      "border": null,
      "bottom": null,
      "display": null,
      "flex": null,
      "flex_flow": null,
      "grid_area": null,
      "grid_auto_columns": null,
      "grid_auto_flow": null,
      "grid_auto_rows": null,
      "grid_column": null,
      "grid_gap": null,
      "grid_row": null,
      "grid_template_areas": null,
      "grid_template_columns": null,
      "grid_template_rows": null,
      "height": null,
      "justify_content": null,
      "justify_items": null,
      "left": null,
      "margin": null,
      "max_height": null,
      "max_width": null,
      "min_height": null,
      "min_width": null,
      "object_fit": null,
      "object_position": null,
      "order": null,
      "overflow": null,
      "overflow_x": null,
      "overflow_y": null,
      "padding": null,
      "right": null,
      "top": null,
      "visibility": null,
      "width": null
     }
    },
    "e8f9b263e8ce42d8be4dff0e87f9bb64": {
     "model_module": "@jupyter-widgets/controls",
     "model_module_version": "1.5.0",
     "model_name": "FloatTextModel",
     "state": {
      "_dom_classes": [],
      "_model_module": "@jupyter-widgets/controls",
      "_model_module_version": "1.5.0",
      "_model_name": "FloatTextModel",
      "_view_count": null,
      "_view_module": "@jupyter-widgets/controls",
      "_view_module_version": "1.5.0",
      "_view_name": "FloatTextView",
      "continuous_update": false,
      "description": "X2",
      "description_tooltip": null,
      "disabled": false,
      "layout": "IPY_MODEL_c0dcba93d1e343bab2fc768f44baa0d6",
      "step": null,
      "style": "IPY_MODEL_ac7ebd3d269d435b8403e2f92febdfaa",
      "value": 39931
     }
    },
    "e9598fbc5e7544afaf1bff6dfda7c638": {
     "model_module": "@jupyter-widgets/controls",
     "model_module_version": "1.5.0",
     "model_name": "DescriptionStyleModel",
     "state": {
      "_model_module": "@jupyter-widgets/controls",
      "_model_module_version": "1.5.0",
      "_model_name": "DescriptionStyleModel",
      "_view_count": null,
      "_view_module": "@jupyter-widgets/base",
      "_view_module_version": "1.2.0",
      "_view_name": "StyleView",
      "description_width": ""
     }
    },
    "ec16d1c3340940418f60de471c6c7566": {
     "model_module": "@jupyter-widgets/base",
     "model_module_version": "1.2.0",
     "model_name": "LayoutModel",
     "state": {
      "_model_module": "@jupyter-widgets/base",
      "_model_module_version": "1.2.0",
      "_model_name": "LayoutModel",
      "_view_count": null,
      "_view_module": "@jupyter-widgets/base",
      "_view_module_version": "1.2.0",
      "_view_name": "LayoutView",
      "align_content": null,
      "align_items": null,
      "align_self": null,
      "border": null,
      "bottom": null,
      "display": null,
      "flex": null,
      "flex_flow": null,
      "grid_area": null,
      "grid_auto_columns": null,
      "grid_auto_flow": null,
      "grid_auto_rows": null,
      "grid_column": null,
      "grid_gap": null,
      "grid_row": null,
      "grid_template_areas": null,
      "grid_template_columns": null,
      "grid_template_rows": null,
      "height": null,
      "justify_content": null,
      "justify_items": null,
      "left": null,
      "margin": null,
      "max_height": null,
      "max_width": null,
      "min_height": null,
      "min_width": null,
      "object_fit": null,
      "object_position": null,
      "order": null,
      "overflow": null,
      "overflow_x": null,
      "overflow_y": null,
      "padding": null,
      "right": null,
      "top": null,
      "visibility": null,
      "width": "280px"
     }
    },
    "ef4b9b68cccc4b4daf994044295465cd": {
     "model_module": "@jupyter-widgets/base",
     "model_module_version": "1.2.0",
     "model_name": "LayoutModel",
     "state": {
      "_model_module": "@jupyter-widgets/base",
      "_model_module_version": "1.2.0",
      "_model_name": "LayoutModel",
      "_view_count": null,
      "_view_module": "@jupyter-widgets/base",
      "_view_module_version": "1.2.0",
      "_view_name": "LayoutView",
      "align_content": null,
      "align_items": null,
      "align_self": null,
      "border": null,
      "bottom": null,
      "display": null,
      "flex": null,
      "flex_flow": null,
      "grid_area": null,
      "grid_auto_columns": null,
      "grid_auto_flow": null,
      "grid_auto_rows": null,
      "grid_column": null,
      "grid_gap": null,
      "grid_row": null,
      "grid_template_areas": null,
      "grid_template_columns": null,
      "grid_template_rows": null,
      "height": null,
      "justify_content": null,
      "justify_items": null,
      "left": null,
      "margin": null,
      "max_height": null,
      "max_width": null,
      "min_height": null,
      "min_width": null,
      "object_fit": null,
      "object_position": null,
      "order": null,
      "overflow": null,
      "overflow_x": null,
      "overflow_y": null,
      "padding": null,
      "right": null,
      "top": null,
      "visibility": null,
      "width": null
     }
    },
    "fb23d1fc4f4c4e49a53d1e7af5f0e59e": {
     "model_module": "@jupyter-widgets/base",
     "model_module_version": "1.2.0",
     "model_name": "LayoutModel",
     "state": {
      "_model_module": "@jupyter-widgets/base",
      "_model_module_version": "1.2.0",
      "_model_name": "LayoutModel",
      "_view_count": null,
      "_view_module": "@jupyter-widgets/base",
      "_view_module_version": "1.2.0",
      "_view_name": "LayoutView",
      "align_content": null,
      "align_items": null,
      "align_self": null,
      "border": null,
      "bottom": null,
      "display": null,
      "flex": null,
      "flex_flow": null,
      "grid_area": null,
      "grid_auto_columns": null,
      "grid_auto_flow": null,
      "grid_auto_rows": null,
      "grid_column": null,
      "grid_gap": null,
      "grid_row": null,
      "grid_template_areas": null,
      "grid_template_columns": null,
      "grid_template_rows": null,
      "height": null,
      "justify_content": null,
      "justify_items": null,
      "left": null,
      "margin": null,
      "max_height": null,
      "max_width": null,
      "min_height": null,
      "min_width": null,
      "object_fit": null,
      "object_position": null,
      "order": null,
      "overflow": null,
      "overflow_x": null,
      "overflow_y": null,
      "padding": null,
      "right": null,
      "top": null,
      "visibility": null,
      "width": null
     }
    },
    "fcb3ec076454462cb5bd6af395762082": {
     "model_module": "@jupyter-widgets/controls",
     "model_module_version": "1.5.0",
     "model_name": "DescriptionStyleModel",
     "state": {
      "_model_module": "@jupyter-widgets/controls",
      "_model_module_version": "1.5.0",
      "_model_name": "DescriptionStyleModel",
      "_view_count": null,
      "_view_module": "@jupyter-widgets/base",
      "_view_module_version": "1.2.0",
      "_view_name": "StyleView",
      "description_width": ""
     }
    }
   }
  }
 },
 "nbformat": 4,
 "nbformat_minor": 5
}
