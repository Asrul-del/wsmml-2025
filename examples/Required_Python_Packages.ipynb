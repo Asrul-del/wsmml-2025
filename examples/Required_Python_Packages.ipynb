{
  "nbformat": 4,
  "nbformat_minor": 0,
  "metadata": {
    "colab": {
      "provenance": []
    },
    "kernelspec": {
      "name": "python3",
      "display_name": "Python 3"
    },
    "language_info": {
      "name": "python"
    }
  },
  "cells": [
    {
      "cell_type": "markdown",
      "source": [
        "# Package Machine Learning"
      ],
      "metadata": {
        "id": "Ox8Aky689H6c"
      }
    },
    {
      "cell_type": "code",
      "source": [
        "import pandas as pd\n",
        "import numpy as np\n",
        "import matplotlib.pyplot as plt\n",
        "import seaborn as sns\n",
        "import numpy as np\n",
        "import pandas as pd\n",
        "import seaborn as sns\n",
        "import matplotlib.pyplot as plt\n",
        "import warnings\n",
        "warnings.filterwarnings(\"ignore\")\n",
        "from statsmodels.tools.sm_exceptions import ConvergenceWarning\n",
        "warnings.simplefilter(\"ignore\", ConvergenceWarning)\n",
        "\n",
        "from sklearn.model_selection import train_test_split\n",
        "from sklearn.preprocessing import StandardScaler\n",
        "from sklearn.preprocessing import MinMaxScaler\n",
        "from sklearn.tree import DecisionTreeRegressor\n",
        "from sklearn.ensemble import RandomForestRegressor\n",
        "from xgboost import XGBRegressor\n",
        "from sklearn.metrics import mean_absolute_error, mean_squared_error, r2_score\n",
        "from matplotlib.patches import Patch\n",
        "\n",
        "import ipywidgets as w\n",
        "from IPython.display import display\n",
        "\n",
        "import pandas as pd\n",
        "import matplotlib.pyplot as plt\n",
        "\n"
      ],
      "metadata": {
        "id": "a-cZWE149Iln"
      },
      "execution_count": null,
      "outputs": []
    },
    {
      "cell_type": "markdown",
      "source": [
        "# Package GWR"
      ],
      "metadata": {
        "id": "RDzU9TBu9N7Z"
      }
    },
    {
      "cell_type": "code",
      "source": [
        "!pip install esda spreg mgwr folium geopandas geopy seaborn\n",
        "\n",
        "import geopandas as gpd\n",
        "from shapely.geometry import Point\n",
        "import libpysal as ps\n",
        "from esda import Moran\n",
        "from spreg import OLS\n",
        "from mgwr.gwr import GWR\n",
        "from mgwr.sel_bw import Sel_BW\n",
        "\n",
        "import pandas as pd\n",
        "import numpy as np\n",
        "\n",
        "import statsmodels.api as sm\n",
        "import statsmodels.formula.api as smf\n",
        "from statsmodels.stats.outliers_influence import variance_inflation_factor\n",
        "from scipy.stats import shapiro\n",
        "\n",
        "import matplotlib.pyplot as plt\n",
        "import matplotlib as mpl\n",
        "from matplotlib.colors import Normalize, ListedColormap, BoundaryNorm\n",
        "from matplotlib.lines import Line2D\n",
        "import seaborn as sns\n",
        "from geopy.distance import geodesic\n",
        "\n",
        "import folium\n",
        "\n",
        "import requests\n",
        "import zipfile\n",
        "import io\n",
        "\n"
      ],
      "metadata": {
        "id": "Z8EeV3ks9LyP"
      },
      "execution_count": null,
      "outputs": []
    },
    {
      "cell_type": "markdown",
      "source": [
        "# Package Semivariogram"
      ],
      "metadata": {
        "id": "uG5KjTN09QAy"
      }
    },
    {
      "cell_type": "code",
      "source": [
        "!pip install pykrige\n",
        "\n",
        "\n",
        "import pandas as pd\n",
        "import numpy as np\n",
        "import re\n",
        "import math\n",
        "from itertools import combinations\n",
        "import requests, zipfile, io\n",
        "\n",
        "\n",
        "import geopandas as gpd\n",
        "import shapely\n",
        "from shapely.geometry import Point\n",
        "from shapely.prepared import prep\n",
        "from geopy.distance import geodesic\n",
        "from pyproj import Transformer\n",
        "\n",
        "\n",
        "import matplotlib as mpl\n",
        "import matplotlib.pyplot as plt\n",
        "from matplotlib.ticker import (\n",
        "    MultipleLocator, FormatStrFormatter, LogLocator,\n",
        "    LogFormatter, MaxNLocator\n",
        ")\n",
        "from matplotlib.colors import (\n",
        "    Normalize, LogNorm, ListedColormap,\n",
        "    BoundaryNorm\n",
        ")\n",
        "from matplotlib.lines import Line2D\n",
        "from mpl_toolkits.mplot3d import Axes3D\n",
        "\n",
        "\n",
        "from pykrige.ok import OrdinaryKriging\n",
        "from scipy.interpolate import griddata\n",
        "\n",
        "from sklearn.metrics import mean_squared_error, mean_absolute_error, r2_score\n"
      ],
      "metadata": {
        "colab": {
          "base_uri": "https://localhost:8080/"
        },
        "id": "tKuT39Qe9SW4",
        "outputId": "2f554fee-2e87-4847-943c-26682adc7e79"
      },
      "execution_count": null,
      "outputs": [
        {
          "output_type": "stream",
          "name": "stdout",
          "text": [
            "Collecting pykrige\n",
            "  Downloading PyKrige-1.7.2-cp312-cp312-manylinux_2_17_x86_64.manylinux2014_x86_64.whl.metadata (8.1 kB)\n",
            "Requirement already satisfied: numpy>=1.20.0 in /usr/local/lib/python3.12/dist-packages (from pykrige) (2.0.2)\n",
            "Requirement already satisfied: scipy<2,>=1.1.0 in /usr/local/lib/python3.12/dist-packages (from pykrige) (1.16.2)\n",
            "Downloading PyKrige-1.7.2-cp312-cp312-manylinux_2_17_x86_64.manylinux2014_x86_64.whl (961 kB)\n",
            "\u001b[2K   \u001b[90m━━━━━━━━━━━━━━━━━━━━━━━━━━━━━━━━━━━━━━━━\u001b[0m \u001b[32m961.7/961.7 kB\u001b[0m \u001b[31m13.0 MB/s\u001b[0m eta \u001b[36m0:00:00\u001b[0m\n",
            "\u001b[?25hInstalling collected packages: pykrige\n",
            "Successfully installed pykrige-1.7.2\n"
          ]
        }
      ]
    },
    {
      "cell_type": "code",
      "source": [],
      "metadata": {
        "id": "BIV_WCathLAg"
      },
      "execution_count": null,
      "outputs": []
    }
  ]
}